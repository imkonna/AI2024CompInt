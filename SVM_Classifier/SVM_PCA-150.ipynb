{
 "cells": [
  {
   "cell_type": "markdown",
   "metadata": {
    "id": "YuWIQiISnghc"
   },
   "source": [
    "**Importing** **Libraries**"
   ]
  },
  {
   "cell_type": "code",
   "execution_count": 1,
   "metadata": {
    "id": "34mKA0YqY1J_",
    "scrolled": true
   },
   "outputs": [],
   "source": [
    "import tensorflow as tf\n",
    "import numpy as np\n",
    "import matplotlib.pyplot as plt\n",
    "import pandas as pd\n",
    "import time\n",
    "\n",
    "from sklearn.model_selection import train_test_split\n",
    "from sklearn.preprocessing import StandardScaler # for Standardization\n",
    "from sklearn.metrics import accuracy_score, confusion_matrix, classification_report\n",
    "from sklearn.decomposition import PCA\n",
    "from sklearn.svm import SVC  # for classification\n",
    "from sklearn.model_selection import GridSearchCV\n",
    "from sklearn import svm"
   ]
  },
  {
   "cell_type": "markdown",
   "metadata": {
    "id": "q2a6rPhGp4aC"
   },
   "source": [
    "**Loading Dataset CIFAR10**"
   ]
  },
  {
   "cell_type": "code",
   "execution_count": 2,
   "metadata": {
    "colab": {
     "base_uri": "https://localhost:8080/"
    },
    "id": "wqJhgCp-p9c_",
    "outputId": "ae1025a4-194f-4fa1-c43c-92f686b74fed"
   },
   "outputs": [],
   "source": [
    "cifar10 = tf.keras.datasets.cifar10\n",
    "(X, y), (X_test, y_test) = cifar10.load_data() # load cifar10"
   ]
  },
  {
   "cell_type": "markdown",
   "metadata": {
    "id": "heSCT-Wn4iXk"
   },
   "source": [
    "**Split Data Process**\n",
    "\n",
    "Επειδή ο διαχωρισμός των δεδομένων σε train-test γίνεται αυτόματα σε 90%-10% χρησιμοποιώ την μέθοδο concatenate(), ώστε να ενοποιήσω τα σύνολα εκπαίδευσης - δοκιμής και στη συνέχεια τα ξαναχωρίζω σε train-validation-test με ποσοστά 60%-20%-20%.\n",
    "\n",
    "**Επιλέγω τυχαία ένα υποσύνολο του συνολικού dataset cifar10."
   ]
  },
  {
   "cell_type": "code",
   "execution_count": 3,
   "metadata": {
    "id": "FBaDvC_z5_TS"
   },
   "outputs": [],
   "source": [
    "# combine train and test dataset\n",
    "X_full = np.concatenate((X, X_test), axis=0)\n",
    "y_full = np.concatenate((y, y_test), axis=0)\n",
    "\n",
    "# select a random subset\n",
    "subset_size = 10000\n",
    "indices = np.random.choice(len(X_full), size=subset_size, replace=False)\n",
    "X_full = X_full[indices]\n",
    "y_full = y_full[indices]\n",
    "\n",
    "# Split data into train-validation-test sets (60%-20%-20%)\n",
    "X_train, X_test, y_train, y_test = train_test_split(X_full, y_full, test_size=0.4,\n",
    "                                                    random_state=0)\n",
    "\n",
    "X_val, X_test, y_val, y_test = train_test_split(X_test, y_test, test_size=0.5,\n",
    "                                                random_state=0)"
   ]
  },
  {
   "cell_type": "markdown",
   "metadata": {
    "id": "SU08IDkuBkC4"
   },
   "source": [
    "**Data** **Preprocessing**\n",
    "\n",
    "Εαν εμφανίσουμε το σχήμα των δεδομένων εκπαίδευσης - δοκιμής με την μέθοδο\n",
    "shape() βλέπουμε τις 4 διαστάσεις του πίνακα που περιέχει τις εικόνες.\n",
    "\n",
    "1. Για τα δεδομένα-εικόνες: Η πρώτη διάσταση δείχνει τον αριθμώ των εικόνων, η δεύτερη και η τρίτη το ύψος και το πλάτος των εικόνων σε pixel και η τέταρτη τον αριθμό των καναλιών χρώματος (RGB).\n",
    "\n",
    "2. Για τα δεδομένα-labels: Η πρώτη διάσταση δείχνει τον αριθμώ των εικόνων και η δεύτερη ότι για κάθε εικόνα αντιστοιχεί ένα label δηλαδή μία κατηγορία που αναπαριστά κάθε εικόνα."
   ]
  },
  {
   "cell_type": "code",
   "execution_count": 4,
   "metadata": {
    "colab": {
     "base_uri": "https://localhost:8080/"
    },
    "id": "m1uVJcvbBxbF",
    "outputId": "fbbfbdfa-8972-434f-f66a-5691b90e7200"
   },
   "outputs": [
    {
     "name": "stdout",
     "output_type": "stream",
     "text": [
      "X_train.shape: (6000, 32, 32, 3)\n",
      "y_train.shape: (6000, 1)\n",
      "X_test.shape: (2000, 32, 32, 3)\n",
      "y_test.shape: (2000, 1)\n",
      "X_val.shape: (2000, 32, 32, 3)\n",
      "y_val.shape: (2000, 1)\n"
     ]
    }
   ],
   "source": [
    "print(\"X_train.shape: {}\\ny_train.shape: {}\\nX_test.shape: {}\\ny_test.shape: {}\\nX_val.shape: {}\\ny_val.shape: {}\".format(X_train.shape, y_train.shape,\n",
    "                                                                                                                          X_test.shape, y_test.shape,\n",
    "                                                                                                                          X_val.shape, y_val.shape))"
   ]
  },
  {
   "cell_type": "markdown",
   "metadata": {
    "id": "tou0cGVvF_DR"
   },
   "source": [
    "Ο SVM δεν μπορεί να επεξεργαστεί δεδομένα εικόνας απευθείας σε μορφή πίνακα 2D ή 3D. Επομένως, για να μπορέσει να δεχθεί τις εικόνες ως δεδομένα εισόδου και να ακολουθήσει η διαδικασία εκπαίδευσης - δοκιμής θα πρέπει πρώτα να γίνει μετατροπή (reshape()) των δεδομένων σε μονοδιάστατα διανύσματα (flat vectors).\n"
   ]
  },
  {
   "cell_type": "code",
   "execution_count": 5,
   "metadata": {
    "colab": {
     "base_uri": "https://localhost:8080/"
    },
    "id": "zNoKGn5qJce8",
    "outputId": "dfd15e3c-c976-4ef2-a6d1-c3518c104095"
   },
   "outputs": [
    {
     "name": "stdout",
     "output_type": "stream",
     "text": [
      "X_train.shape: (6000, 3072)\n",
      "y_train.shape: (6000, 1)\n",
      "X_test.shape: (2000, 3072)\n",
      "y_test.shape: (2000, 1)\n",
      "X_val.shape: (2000, 3072)\n",
      "y_val.shape: (2000, 1)\n"
     ]
    }
   ],
   "source": [
    "# Reshaping Data into vectors\n",
    "X_train = X_train.reshape(X_train.shape[0], -1)\n",
    "X_test = X_test.reshape(X_test.shape[0], -1)\n",
    "X_val = X_val.reshape(X_val.shape[0], -1)\n",
    "\n",
    "print(\"X_train.shape: {}\\ny_train.shape: {}\\nX_test.shape: {}\\ny_test.shape: {}\\nX_val.shape: {}\\ny_val.shape: {}\".format(X_train.shape, y_train.shape,\n",
    "                                                                                                                          X_test.shape, y_test.shape,\n",
    "                                                                                                                          X_val.shape, y_val.shape))"
   ]
  },
  {
   "cell_type": "markdown",
   "metadata": {
    "id": "ssGIeBN_Jj5r"
   },
   "source": [
    "Για τη βελτίωση της απόδοσης του SVM είναι απαραίτητες η \"Κανονικοποίηση\" των δεδομένων και η \"Μέθοδος Ανάλυσης Κύριων Συνιστωσών\" (PCA).\n",
    "\n",
    "Κάνουμε κανονικοποίηση/ για να εξασφαλίσουμε ότι όλα τα χαρακτηρισιτκά έχουν την ίδια κλίμακα, έτσι ώστε να μην κυριαρχούν χαρακτηριστικά σε μεγάλες τιμές στην pca."
   ]
  },
  {
   "cell_type": "markdown",
   "metadata": {
    "id": "RXSGTZFI7Kqr"
   },
   "source": [
    "Πριν κάνω pca βλέπω πόσες συνιστώσες μπορώ κρατήσω ώστε να κρατήσω όσο το δυνατόν περισσότερη πληροφορία."
   ]
  },
  {
   "cell_type": "code",
   "execution_count": 6,
   "metadata": {
    "colab": {
     "base_uri": "https://localhost:8080/",
     "height": 466
    },
    "id": "BCxrAfDe6eqT",
    "outputId": "5bcf3416-8fc5-44ad-debb-6e11c0f6054b"
   },
   "outputs": [
    {
     "data": {
      "text/plain": [
       "Text(0, 0.5, 'cumulative explained variance')"
      ]
     },
     "execution_count": 6,
     "metadata": {},
     "output_type": "execute_result"
    },
    {
     "data": {
      "image/png": "[encoded data removed]",
      "text/plain": [
       "<Figure size 640x480 with 1 Axes>"
      ]
     },
     "metadata": {},
     "output_type": "display_data"
    }
   ],
   "source": [
    "combined=np.vstack((X_train, X_val))\n",
    "\n",
    "pca = PCA().fit(combined)\n",
    "plt.plot(np.cumsum(pca.explained_variance_ratio_))\n",
    "plt.xlabel('number of components')\n",
    "plt.ylabel('cumulative explained variance')"
   ]
  },
  {
   "cell_type": "code",
   "execution_count": 7,
   "metadata": {
    "colab": {
     "base_uri": "https://localhost:8080/"
    },
    "id": "4ZMRyV3a7Nd0",
    "outputId": "d6fdeb8e-8989-4b76-ff2a-e0d30300a66d"
   },
   "outputs": [
    {
     "name": "stdout",
     "output_type": "stream",
     "text": [
      "0.8457518002905227\n",
      "0.9034500539264976\n",
      "0.9311792194003045\n",
      "0.9850159947933004\n"
     ]
    }
   ],
   "source": [
    "print(pca.explained_variance_ratio_.cumsum()[50])\n",
    "print(pca.explained_variance_ratio_.cumsum()[100])\n",
    "print(pca.explained_variance_ratio_.cumsum()[150])\n",
    "print(pca.explained_variance_ratio_.cumsum()[500])"
   ]
  },
  {
   "cell_type": "code",
   "execution_count": 8,
   "metadata": {
    "id": "Bhps8ExsTfoB"
   },
   "outputs": [],
   "source": [
    "# Standardization of data\n",
    "scaler = StandardScaler()\n",
    "X_train = scaler.fit_transform(X_train)\n",
    "X_test = scaler.transform(X_test)\n",
    "X_val = scaler.transform(X_val)"
   ]
  },
  {
   "cell_type": "code",
   "execution_count": 9,
   "metadata": {
    "id": "qmZzRRvKngE3"
   },
   "outputs": [],
   "source": [
    "# Normalization\n",
    "# X_train = X_train / 255.0\n",
    "# X_test = X_test / 255.0\n",
    "# X_val = X_val / 255.0"
   ]
  },
  {
   "cell_type": "markdown",
   "metadata": {
    "id": "MuDlPVzZxJQo"
   },
   "source": [
    "Με το PCA επιτυγχάνεται η μείωση διάστασης των δεδομένων κρατώντας τις πιο σημαντικές συνιστώσες δηλαδή επιτυγχάνεται η αναδόμηση των δεδομένων σε νέες διαστάσεις, δίνοντας ίση βαρύτητα σε όλα τα χαρακτηριστικά εφόσον έχουν προηγηθεί είτε Normalization είτε Standardization."
   ]
  },
  {
   "cell_type": "code",
   "execution_count": 10,
   "metadata": {
    "colab": {
     "base_uri": "https://localhost:8080/"
    },
    "id": "d9m10U5MToTX",
    "outputId": "48280470-c0a0-43ea-a9b4-79e3661a50e5"
   },
   "outputs": [
    {
     "name": "stdout",
     "output_type": "stream",
     "text": [
      "X_train.shape: (6000, 150)\n",
      "y_train.shape: (6000, 1)\n",
      "X_test.shape: (2000, 150)\n",
      "y_test.shape: (2000, 1)\n",
      "X_val.shape: (2000, 150)\n",
      "y_val.shape: (2000, 1)\n"
     ]
    }
   ],
   "source": [
    "# pca for dimensionality reduction\n",
    "pca_cifar = PCA(n_components=150)\n",
    "X_train = pca_cifar.fit_transform(X_train)\n",
    "X_test = pca_cifar.transform(X_test)\n",
    "X_val = pca_cifar.transform(X_val)\n",
    "\n",
    "print(\"X_train.shape: {}\\ny_train.shape: {}\\nX_test.shape: {}\\ny_test.shape: {}\\nX_val.shape: {}\\ny_val.shape: {}\".format(X_train.shape, y_train.shape,\n",
    "                                                                                                                          X_test.shape, y_test.shape,\n",
    "                                                                                                                          X_val.shape, y_val.shape))"
   ]
  },
  {
   "cell_type": "markdown",
   "metadata": {
    "id": "-o0URICQUEtp"
   },
   "source": [
    "**Model** **Training**\n",
    "\n",
    "Types of Kernel: Linear, RBF, Polynomial"
   ]
  },
  {
   "cell_type": "markdown",
   "metadata": {
    "id": "qvgvyCbIYlqP"
   },
   "source": [
    "SVM Linear Kernel\n",
    "\n",
    "Δοκιμάζω διαφορετικές τιμές της παραμέτρου C (regularization parameter).\n",
    "Δημιουργία μεθόδου linear_model_method (), η οποία θα παίρνει ως όρισμα διαφορετικές παραμέτρους C από μία λίστα που θα δημιουργήσω."
   ]
  },
  {
   "cell_type": "code",
   "execution_count": 11,
   "metadata": {
    "id": "-ek16QffZm_e"
   },
   "outputs": [],
   "source": [
    "# Prepare variables to store the results\n",
    "train_set_accuracy = []\n",
    "val_set_caccuracy = []\n",
    "test_set_accuracy = []\n",
    "results = []\n",
    "\n",
    "# Function to train SVM with Linear Kernel\n",
    "def linear_model_SVM (c):\n",
    "    start_time = time.time()\n",
    "    svm_classifier = SVC(kernel='linear', C=c)\n",
    "\n",
    "    svm_classifier.fit(X_train, y_train.ravel())\n",
    "\n",
    "    # Accuracy for train set\n",
    "    pred = svm_classifier.predict(X_train)\n",
    "    acc_train = np.mean(pred == y_train.ravel())\n",
    "    train_set_accuracy.append(acc_train)\n",
    "    print(\"Train Accuracy for C = {}: {}\".format(c, acc_train))\n",
    "\n",
    "    # Accuracy for validation set\n",
    "    pred = svm_classifier.predict(X_val)\n",
    "    acc_val = np.mean(pred == y_val.ravel())\n",
    "    val_set_caccuracy.append(acc_val)\n",
    "    print(\"Validation Accuracy for C = {}: {}\".format(c, acc_val))\n",
    "\n",
    "    # Accuracy for test set\n",
    "    pred = svm_classifier.predict(X_test)\n",
    "    acc_test = np.mean(pred == y_test.ravel())\n",
    "    test_set_accuracy.append(acc_test)\n",
    "    print(\"Test Accuracy for C = {}: {}\".format(c, acc_test))\n",
    "\n",
    "    # Run time\n",
    "    end_time = time.time()\n",
    "    run_time = end_time - start_time\n",
    "\n",
    "    results.append({\n",
    "            'Kernel': 'linear',\n",
    "            'C': c,\n",
    "            'Train Accuracy': acc_train,\n",
    "            'Validation Accuracy': acc_val,\n",
    "            'Test Accuracy': acc_test,\n",
    "            'Run time: ': run_time\n",
    "            })"
   ]
  },
  {
   "cell_type": "code",
   "execution_count": 12,
   "metadata": {
    "colab": {
     "base_uri": "https://localhost:8080/"
    },
    "id": "BCu2rPJVtJX1",
    "outputId": "4545ddff-7109-4f71-efdb-f671443361bb"
   },
   "outputs": [
    {
     "name": "stdout",
     "output_type": "stream",
     "text": [
      "Train Accuracy for C = 0.0001: 0.4083333333333333\n",
      "Validation Accuracy for C = 0.0001: 0.372\n",
      "Test Accuracy for C = 0.0001: 0.3855\n",
      "Train Accuracy for C = 0.0005: 0.452\n",
      "Validation Accuracy for C = 0.0005: 0.381\n",
      "Test Accuracy for C = 0.0005: 0.387\n",
      "Train Accuracy for C = 0.001: 0.4696666666666667\n",
      "Validation Accuracy for C = 0.001: 0.383\n",
      "Test Accuracy for C = 0.001: 0.3795\n",
      "Train Accuracy for C = 0.005: 0.49533333333333335\n",
      "Validation Accuracy for C = 0.005: 0.3655\n",
      "Test Accuracy for C = 0.005: 0.368\n",
      "Train Accuracy for C = 0.01: 0.5035\n",
      "Validation Accuracy for C = 0.01: 0.3605\n",
      "Test Accuracy for C = 0.01: 0.3555\n",
      "Train Accuracy for C = 0.05: 0.5091666666666667\n",
      "Validation Accuracy for C = 0.05: 0.3625\n",
      "Test Accuracy for C = 0.05: 0.351\n",
      "Train Accuracy for C = 0.1: 0.5135\n",
      "Validation Accuracy for C = 0.1: 0.358\n",
      "Test Accuracy for C = 0.1: 0.3525\n"
     ]
    },
    {
     "data": {
      "image/png": "[encoded data removed]",
      "text/plain": [
       "<Figure size 640x480 with 1 Axes>"
      ]
     },
     "metadata": {},
     "output_type": "display_data"
    }
   ],
   "source": [
    "# Run SVM model for different C values\n",
    "C_values = [0.0001, 0.0005, 0.001, 0.005, 0.01, 0.05, 0.1]\n",
    "\n",
    "for c in C_values:\n",
    "  linear_model_SVM(c)\n",
    "\n",
    "# Print the results\n",
    "plt.plot(C_values, train_set_accuracy,'.-',color='red')\n",
    "plt.plot(C_values, test_set_accuracy,'.-',color='blue')\n",
    "plt.plot(C_values, val_set_caccuracy,'.-',color='green')\n",
    "plt.title(\"Plot of accuracy vs c for training and test data\")\n",
    "plt.xlabel('c')\n",
    "plt.ylabel('Accuracy')\n",
    "plt.grid()"
   ]
  },
  {
   "cell_type": "code",
   "execution_count": 13,
   "metadata": {
    "id": "fFAtzRA70uEa"
   },
   "outputs": [
    {
     "data": {
      "text/html": [
       "<div>\n",
       "<style scoped>\n",
       "    .dataframe tbody tr th:only-of-type {\n",
       "        vertical-align: middle;\n",
       "    }\n",
       "\n",
       "    .dataframe tbody tr th {\n",
       "        vertical-align: top;\n",
       "    }\n",
       "\n",
       "    .dataframe thead th {\n",
       "        text-align: right;\n",
       "    }\n",
       "</style>\n",
       "<table border=\"1\" class=\"dataframe\">\n",
       "  <thead>\n",
       "    <tr style=\"text-align: right;\">\n",
       "      <th></th>\n",
       "      <th>Kernel</th>\n",
       "      <th>C</th>\n",
       "      <th>Train Accuracy</th>\n",
       "      <th>Validation Accuracy</th>\n",
       "      <th>Test Accuracy</th>\n",
       "      <th>Run time:</th>\n",
       "    </tr>\n",
       "  </thead>\n",
       "  <tbody>\n",
       "    <tr>\n",
       "      <th>0</th>\n",
       "      <td>linear</td>\n",
       "      <td>0.0001</td>\n",
       "      <td>0.408333</td>\n",
       "      <td>0.3720</td>\n",
       "      <td>0.3855</td>\n",
       "      <td>2.457376</td>\n",
       "    </tr>\n",
       "    <tr>\n",
       "      <th>1</th>\n",
       "      <td>linear</td>\n",
       "      <td>0.0005</td>\n",
       "      <td>0.452000</td>\n",
       "      <td>0.3810</td>\n",
       "      <td>0.3870</td>\n",
       "      <td>2.395065</td>\n",
       "    </tr>\n",
       "    <tr>\n",
       "      <th>2</th>\n",
       "      <td>linear</td>\n",
       "      <td>0.0010</td>\n",
       "      <td>0.469667</td>\n",
       "      <td>0.3830</td>\n",
       "      <td>0.3795</td>\n",
       "      <td>2.477463</td>\n",
       "    </tr>\n",
       "    <tr>\n",
       "      <th>3</th>\n",
       "      <td>linear</td>\n",
       "      <td>0.0050</td>\n",
       "      <td>0.495333</td>\n",
       "      <td>0.3655</td>\n",
       "      <td>0.3680</td>\n",
       "      <td>3.356389</td>\n",
       "    </tr>\n",
       "    <tr>\n",
       "      <th>4</th>\n",
       "      <td>linear</td>\n",
       "      <td>0.0100</td>\n",
       "      <td>0.503500</td>\n",
       "      <td>0.3605</td>\n",
       "      <td>0.3555</td>\n",
       "      <td>4.966768</td>\n",
       "    </tr>\n",
       "    <tr>\n",
       "      <th>5</th>\n",
       "      <td>linear</td>\n",
       "      <td>0.0500</td>\n",
       "      <td>0.509167</td>\n",
       "      <td>0.3625</td>\n",
       "      <td>0.3510</td>\n",
       "      <td>21.571957</td>\n",
       "    </tr>\n",
       "    <tr>\n",
       "      <th>6</th>\n",
       "      <td>linear</td>\n",
       "      <td>0.1000</td>\n",
       "      <td>0.513500</td>\n",
       "      <td>0.3580</td>\n",
       "      <td>0.3525</td>\n",
       "      <td>47.638353</td>\n",
       "    </tr>\n",
       "  </tbody>\n",
       "</table>\n",
       "</div>"
      ],
      "text/plain": [
       "   Kernel       C  Train Accuracy  Validation Accuracy  Test Accuracy  \\\n",
       "0  linear  0.0001        0.408333               0.3720         0.3855   \n",
       "1  linear  0.0005        0.452000               0.3810         0.3870   \n",
       "2  linear  0.0010        0.469667               0.3830         0.3795   \n",
       "3  linear  0.0050        0.495333               0.3655         0.3680   \n",
       "4  linear  0.0100        0.503500               0.3605         0.3555   \n",
       "5  linear  0.0500        0.509167               0.3625         0.3510   \n",
       "6  linear  0.1000        0.513500               0.3580         0.3525   \n",
       "\n",
       "   Run time:   \n",
       "0    2.457376  \n",
       "1    2.395065  \n",
       "2    2.477463  \n",
       "3    3.356389  \n",
       "4    4.966768  \n",
       "5   21.571957  \n",
       "6   47.638353  "
      ]
     },
     "execution_count": 13,
     "metadata": {},
     "output_type": "execute_result"
    }
   ],
   "source": [
    "# Create a dataframe with the results\n",
    "results_df = pd.DataFrame(results)\n",
    "results_df"
   ]
  },
  {
   "cell_type": "markdown",
   "metadata": {
    "id": "IVqOu6QcbIIk"
   },
   "source": [
    "Παρατήρησεις:\n",
    "\n",
    "Για μικρό dataset (1000) σε σχέση με τα συνολικά δεδομένα παρατήρησα ότι το train set αυξάνεται καθώς αυξάνεται και η τιμή του C (παράγοντας κανονικοποίησης). Αυτό υποδηλώνει ότι το μοντέλο κάνει overfitting, δηλαδή υπερπροσαρμόζεται στα δεδομένα εκπαίδευσης, αλλά αδυνατεί να γενικεύσει με επιτυχία σε νέα δεδομένα. Αυτό φαίνεται στις τιμές των validation και test accuracies, οι οποίες είναι χαμηλές."
   ]
  },
  {
   "cell_type": "markdown",
   "metadata": {
    "id": "sKxHS4YxrWtR"
   },
   "source": [
    "SVM RBF Kernel"
   ]
  },
  {
   "cell_type": "code",
   "execution_count": 14,
   "metadata": {
    "id": "NH4fQcIErWUA"
   },
   "outputs": [],
   "source": [
    "# Function to train SVM with RBF Kernel\n",
    "def rbf_model_SVM (C, g):\n",
    "\n",
    "    start_time = time.time()\n",
    "\n",
    "    svm_classifier = SVC(kernel='rbf', C=c, gamma=g)\n",
    "\n",
    "    svm_classifier.fit(X_train, y_train)\n",
    "\n",
    "    # Accuracy for train set\n",
    "    pred = svm_classifier.predict(X_train)\n",
    "    acc_train = np.mean(pred == y_train.ravel())\n",
    "    train_set_accuracy.append(acc_train)\n",
    "    print(\"Train Accuracy for C = {}: {}\".format(c, acc_train))\n",
    "\n",
    "    # Accuracy for validation set\n",
    "    pred = svm_classifier.predict(X_val)\n",
    "    acc_val = np.mean(pred == y_val.ravel())\n",
    "    val_set_accuracy.append(acc_val)\n",
    "    print(\"Validation Accuracy for C = {}: {}\".format(c, acc_val))\n",
    "\n",
    "    # Accuracy for test set\n",
    "    pred = svm_classifier.predict(X_test)\n",
    "    acc_test = np.mean(pred == y_test.ravel)\n",
    "    test_set_accuracy.append(acc_test)\n",
    "    print(\"Test Accuracy for C = {}: {}\".format(c, acc_test))\n",
    "\n",
    "    # Run time\n",
    "    end_time = time.time()\n",
    "    run_time = end_time - start_time\n",
    "\n",
    "    results.append({\n",
    "              'Kernel': 'RBF',\n",
    "              'C': c,\n",
    "              'Train Accuracy': acc_train,\n",
    "              'Validation Accuracy': acc_val,\n",
    "              'Test Accuracy': acc_test,\n",
    "               'Run time: ': run_time\n",
    "                  })"
   ]
  },
  {
   "cell_type": "code",
   "execution_count": 15,
   "metadata": {
    "id": "QgeyYUGVQaAy"
   },
   "outputs": [
    {
     "name": "stderr",
     "output_type": "stream",
     "text": [
      "C:\\Program Files\\Python311\\Lib\\site-packages\\sklearn\\utils\\validation.py:1408: DataConversionWarning: A column-vector y was passed when a 1d array was expected. Please change the shape of y to (n_samples, ), for example using ravel().\n",
      "  y = column_or_1d(y, warn=True)\n"
     ]
    },
    {
     "name": "stdout",
     "output_type": "stream",
     "text": [
      "Train Accuracy for C = 0.0001: 0.10483333333333333\n",
      "Validation Accuracy for C = 0.0001: 0.1015\n",
      "Test Accuracy for C = 0.0001: 0.0\n"
     ]
    },
    {
     "name": "stderr",
     "output_type": "stream",
     "text": [
      "C:\\Program Files\\Python311\\Lib\\site-packages\\sklearn\\utils\\validation.py:1408: DataConversionWarning: A column-vector y was passed when a 1d array was expected. Please change the shape of y to (n_samples, ), for example using ravel().\n",
      "  y = column_or_1d(y, warn=True)\n"
     ]
    },
    {
     "name": "stdout",
     "output_type": "stream",
     "text": [
      "Train Accuracy for C = 0.0005: 0.10483333333333333\n",
      "Validation Accuracy for C = 0.0005: 0.1015\n",
      "Test Accuracy for C = 0.0005: 0.0\n"
     ]
    },
    {
     "name": "stderr",
     "output_type": "stream",
     "text": [
      "C:\\Program Files\\Python311\\Lib\\site-packages\\sklearn\\utils\\validation.py:1408: DataConversionWarning: A column-vector y was passed when a 1d array was expected. Please change the shape of y to (n_samples, ), for example using ravel().\n",
      "  y = column_or_1d(y, warn=True)\n"
     ]
    },
    {
     "name": "stdout",
     "output_type": "stream",
     "text": [
      "Train Accuracy for C = 0.001: 0.10483333333333333\n",
      "Validation Accuracy for C = 0.001: 0.1015\n",
      "Test Accuracy for C = 0.001: 0.0\n"
     ]
    },
    {
     "name": "stderr",
     "output_type": "stream",
     "text": [
      "C:\\Program Files\\Python311\\Lib\\site-packages\\sklearn\\utils\\validation.py:1408: DataConversionWarning: A column-vector y was passed when a 1d array was expected. Please change the shape of y to (n_samples, ), for example using ravel().\n",
      "  y = column_or_1d(y, warn=True)\n"
     ]
    },
    {
     "name": "stdout",
     "output_type": "stream",
     "text": [
      "Train Accuracy for C = 0.005: 0.10483333333333333\n",
      "Validation Accuracy for C = 0.005: 0.1015\n",
      "Test Accuracy for C = 0.005: 0.0\n"
     ]
    },
    {
     "name": "stderr",
     "output_type": "stream",
     "text": [
      "C:\\Program Files\\Python311\\Lib\\site-packages\\sklearn\\utils\\validation.py:1408: DataConversionWarning: A column-vector y was passed when a 1d array was expected. Please change the shape of y to (n_samples, ), for example using ravel().\n",
      "  y = column_or_1d(y, warn=True)\n"
     ]
    },
    {
     "name": "stdout",
     "output_type": "stream",
     "text": [
      "Train Accuracy for C = 0.01: 0.10483333333333333\n",
      "Validation Accuracy for C = 0.01: 0.1015\n",
      "Test Accuracy for C = 0.01: 0.0\n"
     ]
    },
    {
     "name": "stderr",
     "output_type": "stream",
     "text": [
      "C:\\Program Files\\Python311\\Lib\\site-packages\\sklearn\\utils\\validation.py:1408: DataConversionWarning: A column-vector y was passed when a 1d array was expected. Please change the shape of y to (n_samples, ), for example using ravel().\n",
      "  y = column_or_1d(y, warn=True)\n"
     ]
    },
    {
     "name": "stdout",
     "output_type": "stream",
     "text": [
      "Train Accuracy for C = 0.05: 0.10483333333333333\n",
      "Validation Accuracy for C = 0.05: 0.1015\n",
      "Test Accuracy for C = 0.05: 0.0\n"
     ]
    },
    {
     "name": "stderr",
     "output_type": "stream",
     "text": [
      "C:\\Program Files\\Python311\\Lib\\site-packages\\sklearn\\utils\\validation.py:1408: DataConversionWarning: A column-vector y was passed when a 1d array was expected. Please change the shape of y to (n_samples, ), for example using ravel().\n",
      "  y = column_or_1d(y, warn=True)\n"
     ]
    },
    {
     "name": "stdout",
     "output_type": "stream",
     "text": [
      "Train Accuracy for C = 0.1: 0.10483333333333333\n",
      "Validation Accuracy for C = 0.1: 0.1015\n",
      "Test Accuracy for C = 0.1: 0.0\n"
     ]
    },
    {
     "data": {
      "image/png": "[encoded data removed]",
      "text/plain": [
       "<Figure size 640x480 with 1 Axes>"
      ]
     },
     "metadata": {},
     "output_type": "display_data"
    }
   ],
   "source": [
    "# Prepare variables to store the results\n",
    "train_set_accuracy = []\n",
    "val_set_accuracy = []\n",
    "test_set_accuracy = []\n",
    "results = []\n",
    "\n",
    "for c in C_values:\n",
    "  rbf_model_SVM(c, 'auto')\n",
    "\n",
    "# Print the results\n",
    "plt.plot(C_values, train_set_accuracy,'.-',color='red')\n",
    "plt.plot(C_values, test_set_accuracy,'.-',color='blue')\n",
    "plt.plot(C_values, val_set_accuracy,'.-',color='green')\n",
    "plt.title(\"Plot of accuracy vs c for training - validation data - test data\")\n",
    "plt.xlabel('c')\n",
    "plt.ylabel('Accuracy')\n",
    "plt.grid()"
   ]
  },
  {
   "cell_type": "code",
   "execution_count": 16,
   "metadata": {
    "id": "sO6TTOCPYqWe"
   },
   "outputs": [
    {
     "data": {
      "text/html": [
       "<div>\n",
       "<style scoped>\n",
       "    .dataframe tbody tr th:only-of-type {\n",
       "        vertical-align: middle;\n",
       "    }\n",
       "\n",
       "    .dataframe tbody tr th {\n",
       "        vertical-align: top;\n",
       "    }\n",
       "\n",
       "    .dataframe thead th {\n",
       "        text-align: right;\n",
       "    }\n",
       "</style>\n",
       "<table border=\"1\" class=\"dataframe\">\n",
       "  <thead>\n",
       "    <tr style=\"text-align: right;\">\n",
       "      <th></th>\n",
       "      <th>Kernel</th>\n",
       "      <th>C</th>\n",
       "      <th>Train Accuracy</th>\n",
       "      <th>Validation Accuracy</th>\n",
       "      <th>Test Accuracy</th>\n",
       "      <th>Run time:</th>\n",
       "    </tr>\n",
       "  </thead>\n",
       "  <tbody>\n",
       "    <tr>\n",
       "      <th>0</th>\n",
       "      <td>RBF</td>\n",
       "      <td>0.0001</td>\n",
       "      <td>0.104833</td>\n",
       "      <td>0.1015</td>\n",
       "      <td>0.0</td>\n",
       "      <td>64.373273</td>\n",
       "    </tr>\n",
       "    <tr>\n",
       "      <th>1</th>\n",
       "      <td>RBF</td>\n",
       "      <td>0.0005</td>\n",
       "      <td>0.104833</td>\n",
       "      <td>0.1015</td>\n",
       "      <td>0.0</td>\n",
       "      <td>63.843071</td>\n",
       "    </tr>\n",
       "    <tr>\n",
       "      <th>2</th>\n",
       "      <td>RBF</td>\n",
       "      <td>0.0010</td>\n",
       "      <td>0.104833</td>\n",
       "      <td>0.1015</td>\n",
       "      <td>0.0</td>\n",
       "      <td>63.822538</td>\n",
       "    </tr>\n",
       "    <tr>\n",
       "      <th>3</th>\n",
       "      <td>RBF</td>\n",
       "      <td>0.0050</td>\n",
       "      <td>0.104833</td>\n",
       "      <td>0.1015</td>\n",
       "      <td>0.0</td>\n",
       "      <td>12.455841</td>\n",
       "    </tr>\n",
       "    <tr>\n",
       "      <th>4</th>\n",
       "      <td>RBF</td>\n",
       "      <td>0.0100</td>\n",
       "      <td>0.104833</td>\n",
       "      <td>0.1015</td>\n",
       "      <td>0.0</td>\n",
       "      <td>6.032560</td>\n",
       "    </tr>\n",
       "    <tr>\n",
       "      <th>5</th>\n",
       "      <td>RBF</td>\n",
       "      <td>0.0500</td>\n",
       "      <td>0.104833</td>\n",
       "      <td>0.1015</td>\n",
       "      <td>0.0</td>\n",
       "      <td>6.056214</td>\n",
       "    </tr>\n",
       "    <tr>\n",
       "      <th>6</th>\n",
       "      <td>RBF</td>\n",
       "      <td>0.1000</td>\n",
       "      <td>0.104833</td>\n",
       "      <td>0.1015</td>\n",
       "      <td>0.0</td>\n",
       "      <td>6.072473</td>\n",
       "    </tr>\n",
       "  </tbody>\n",
       "</table>\n",
       "</div>"
      ],
      "text/plain": [
       "  Kernel       C  Train Accuracy  Validation Accuracy  Test Accuracy  \\\n",
       "0    RBF  0.0001        0.104833               0.1015            0.0   \n",
       "1    RBF  0.0005        0.104833               0.1015            0.0   \n",
       "2    RBF  0.0010        0.104833               0.1015            0.0   \n",
       "3    RBF  0.0050        0.104833               0.1015            0.0   \n",
       "4    RBF  0.0100        0.104833               0.1015            0.0   \n",
       "5    RBF  0.0500        0.104833               0.1015            0.0   \n",
       "6    RBF  0.1000        0.104833               0.1015            0.0   \n",
       "\n",
       "   Run time:   \n",
       "0   64.373273  \n",
       "1   63.843071  \n",
       "2   63.822538  \n",
       "3   12.455841  \n",
       "4    6.032560  \n",
       "5    6.056214  \n",
       "6    6.072473  "
      ]
     },
     "execution_count": 16,
     "metadata": {},
     "output_type": "execute_result"
    }
   ],
   "source": [
    "# Create a dataframe with the results\n",
    "results_df = pd.DataFrame(results)\n",
    "results_df"
   ]
  },
  {
   "cell_type": "markdown",
   "metadata": {
    "id": "jNbrwjrljj1X"
   },
   "source": [
    "Polynomial Kernel"
   ]
  },
  {
   "cell_type": "code",
   "execution_count": 17,
   "metadata": {
    "id": "I8BcHhm3jijN"
   },
   "outputs": [],
   "source": [
    "# Prepare variables to store the results\n",
    "train_set_accuracy = []\n",
    "val_set_caccuracy = []\n",
    "test_set_accuracy = []\n",
    "results = []\n",
    "\n",
    "def poly_model_SVM (C):\n",
    "      start_time = time.time()\n",
    "      svm_classifier = SVC(probability= False, kernel='poly', C=c)\n",
    "\n",
    "      svm_classifier.fit(X_train, y_train)\n",
    "\n",
    "      # Accuracy for train set\n",
    "      pred = svm_classifier.predict(X_train)\n",
    "      acc_train = np.mean(pred == y_train.ravel())\n",
    "      train_set_accuracy.append(acc_train)\n",
    "      print(\"Train Accuracy for C = {}: {}\".format(c, acc_train))\n",
    "\n",
    "      # Accuracy for validation set\n",
    "      pred = svm_classifier.predict(X_val)\n",
    "      acc_val = np.mean(pred == y_val.ravel())\n",
    "      val_set_caccuracy.append(acc_val)\n",
    "      print(\"Validation Accuracy for C = {}: {}\".format(c, acc_val))\n",
    "\n",
    "      # Accuracy for test set\n",
    "      pred = svm_classifier.predict(X_test)\n",
    "      acc_test = np.mean(pred == y_test.ravel())\n",
    "      test_set_accuracy.append(acc_test)\n",
    "      print(\"Test Accuracy for C = {}: {}\".format(c, acc_test))\n",
    "\n",
    "      # Run time\n",
    "      end_time = time.time()\n",
    "      run_time = end_time - start_time\n",
    "\n",
    "      results.append({\n",
    "              'Kernel': 'Polynomial',\n",
    "              'C': c,\n",
    "              'Train Accuracy': acc_train,\n",
    "              'Validation Accuracy': acc_val,\n",
    "              'Test Accuracy': acc_test\n",
    "                  })"
   ]
  },
  {
   "cell_type": "code",
   "execution_count": 18,
   "metadata": {
    "id": "wY753vjfy-o9"
   },
   "outputs": [
    {
     "name": "stderr",
     "output_type": "stream",
     "text": [
      "C:\\Program Files\\Python311\\Lib\\site-packages\\sklearn\\utils\\validation.py:1408: DataConversionWarning: A column-vector y was passed when a 1d array was expected. Please change the shape of y to (n_samples, ), for example using ravel().\n",
      "  y = column_or_1d(y, warn=True)\n"
     ]
    },
    {
     "name": "stdout",
     "output_type": "stream",
     "text": [
      "Train Accuracy for C = 0.0001: 0.10483333333333333\n",
      "Validation Accuracy for C = 0.0001: 0.1015\n",
      "Test Accuracy for C = 0.0001: 0.089\n"
     ]
    },
    {
     "name": "stderr",
     "output_type": "stream",
     "text": [
      "C:\\Program Files\\Python311\\Lib\\site-packages\\sklearn\\utils\\validation.py:1408: DataConversionWarning: A column-vector y was passed when a 1d array was expected. Please change the shape of y to (n_samples, ), for example using ravel().\n",
      "  y = column_or_1d(y, warn=True)\n"
     ]
    },
    {
     "name": "stdout",
     "output_type": "stream",
     "text": [
      "Train Accuracy for C = 0.0005: 0.105\n",
      "Validation Accuracy for C = 0.0005: 0.1015\n",
      "Test Accuracy for C = 0.0005: 0.089\n"
     ]
    },
    {
     "name": "stderr",
     "output_type": "stream",
     "text": [
      "C:\\Program Files\\Python311\\Lib\\site-packages\\sklearn\\utils\\validation.py:1408: DataConversionWarning: A column-vector y was passed when a 1d array was expected. Please change the shape of y to (n_samples, ), for example using ravel().\n",
      "  y = column_or_1d(y, warn=True)\n"
     ]
    },
    {
     "name": "stdout",
     "output_type": "stream",
     "text": [
      "Train Accuracy for C = 0.001: 0.10766666666666666\n",
      "Validation Accuracy for C = 0.001: 0.105\n",
      "Test Accuracy for C = 0.001: 0.0945\n"
     ]
    },
    {
     "name": "stderr",
     "output_type": "stream",
     "text": [
      "C:\\Program Files\\Python311\\Lib\\site-packages\\sklearn\\utils\\validation.py:1408: DataConversionWarning: A column-vector y was passed when a 1d array was expected. Please change the shape of y to (n_samples, ), for example using ravel().\n",
      "  y = column_or_1d(y, warn=True)\n"
     ]
    },
    {
     "name": "stdout",
     "output_type": "stream",
     "text": [
      "Train Accuracy for C = 0.005: 0.12716666666666668\n",
      "Validation Accuracy for C = 0.005: 0.116\n",
      "Test Accuracy for C = 0.005: 0.109\n"
     ]
    },
    {
     "name": "stderr",
     "output_type": "stream",
     "text": [
      "C:\\Program Files\\Python311\\Lib\\site-packages\\sklearn\\utils\\validation.py:1408: DataConversionWarning: A column-vector y was passed when a 1d array was expected. Please change the shape of y to (n_samples, ), for example using ravel().\n",
      "  y = column_or_1d(y, warn=True)\n"
     ]
    },
    {
     "name": "stdout",
     "output_type": "stream",
     "text": [
      "Train Accuracy for C = 0.01: 0.156\n",
      "Validation Accuracy for C = 0.01: 0.1415\n",
      "Test Accuracy for C = 0.01: 0.1345\n"
     ]
    },
    {
     "name": "stderr",
     "output_type": "stream",
     "text": [
      "C:\\Program Files\\Python311\\Lib\\site-packages\\sklearn\\utils\\validation.py:1408: DataConversionWarning: A column-vector y was passed when a 1d array was expected. Please change the shape of y to (n_samples, ), for example using ravel().\n",
      "  y = column_or_1d(y, warn=True)\n"
     ]
    },
    {
     "name": "stdout",
     "output_type": "stream",
     "text": [
      "Train Accuracy for C = 0.05: 0.2821666666666667\n",
      "Validation Accuracy for C = 0.05: 0.2305\n",
      "Test Accuracy for C = 0.05: 0.239\n"
     ]
    },
    {
     "name": "stderr",
     "output_type": "stream",
     "text": [
      "C:\\Program Files\\Python311\\Lib\\site-packages\\sklearn\\utils\\validation.py:1408: DataConversionWarning: A column-vector y was passed when a 1d array was expected. Please change the shape of y to (n_samples, ), for example using ravel().\n",
      "  y = column_or_1d(y, warn=True)\n"
     ]
    },
    {
     "name": "stdout",
     "output_type": "stream",
     "text": [
      "Train Accuracy for C = 0.1: 0.3883333333333333\n",
      "Validation Accuracy for C = 0.1: 0.298\n",
      "Test Accuracy for C = 0.1: 0.31\n"
     ]
    },
    {
     "data": {
      "image/png": "[encoded data removed]",
      "text/plain": [
       "<Figure size 640x480 with 1 Axes>"
      ]
     },
     "metadata": {},
     "output_type": "display_data"
    }
   ],
   "source": [
    "train_set_accuracy = []\n",
    "val_set_caccuracy = []\n",
    "test_set_accuracy = []\n",
    "results = []\n",
    "for c in C_values:\n",
    "  poly_model_SVM(c)\n",
    "\n",
    "# Print the results\n",
    "plt.plot(C_values, train_set_accuracy,'.-',color='red')\n",
    "plt.plot(C_values, test_set_accuracy,'.-',color='blue')\n",
    "plt.plot(C_values, val_set_caccuracy,'.-',color='green')\n",
    "plt.legend(['Train Accuracy', 'Test Accuracy', 'Validation Accuracy'])\n",
    "plt.title(\"Plot of accuracy vs c for training - validation data - test data\")\n",
    "plt.xlabel('c')\n",
    "plt.ylabel('Accuracy')\n",
    "plt.grid()"
   ]
  },
  {
   "cell_type": "code",
   "execution_count": 19,
   "metadata": {
    "id": "jCP26-CTHbcu"
   },
   "outputs": [
    {
     "data": {
      "text/html": [
       "<div>\n",
       "<style scoped>\n",
       "    .dataframe tbody tr th:only-of-type {\n",
       "        vertical-align: middle;\n",
       "    }\n",
       "\n",
       "    .dataframe tbody tr th {\n",
       "        vertical-align: top;\n",
       "    }\n",
       "\n",
       "    .dataframe thead th {\n",
       "        text-align: right;\n",
       "    }\n",
       "</style>\n",
       "<table border=\"1\" class=\"dataframe\">\n",
       "  <thead>\n",
       "    <tr style=\"text-align: right;\">\n",
       "      <th></th>\n",
       "      <th>Kernel</th>\n",
       "      <th>C</th>\n",
       "      <th>Train Accuracy</th>\n",
       "      <th>Validation Accuracy</th>\n",
       "      <th>Test Accuracy</th>\n",
       "    </tr>\n",
       "  </thead>\n",
       "  <tbody>\n",
       "    <tr>\n",
       "      <th>0</th>\n",
       "      <td>Polynomial</td>\n",
       "      <td>0.0001</td>\n",
       "      <td>0.104833</td>\n",
       "      <td>0.1015</td>\n",
       "      <td>0.0890</td>\n",
       "    </tr>\n",
       "    <tr>\n",
       "      <th>1</th>\n",
       "      <td>Polynomial</td>\n",
       "      <td>0.0005</td>\n",
       "      <td>0.105000</td>\n",
       "      <td>0.1015</td>\n",
       "      <td>0.0890</td>\n",
       "    </tr>\n",
       "    <tr>\n",
       "      <th>2</th>\n",
       "      <td>Polynomial</td>\n",
       "      <td>0.0010</td>\n",
       "      <td>0.107667</td>\n",
       "      <td>0.1050</td>\n",
       "      <td>0.0945</td>\n",
       "    </tr>\n",
       "    <tr>\n",
       "      <th>3</th>\n",
       "      <td>Polynomial</td>\n",
       "      <td>0.0050</td>\n",
       "      <td>0.127167</td>\n",
       "      <td>0.1160</td>\n",
       "      <td>0.1090</td>\n",
       "    </tr>\n",
       "    <tr>\n",
       "      <th>4</th>\n",
       "      <td>Polynomial</td>\n",
       "      <td>0.0100</td>\n",
       "      <td>0.156000</td>\n",
       "      <td>0.1415</td>\n",
       "      <td>0.1345</td>\n",
       "    </tr>\n",
       "    <tr>\n",
       "      <th>5</th>\n",
       "      <td>Polynomial</td>\n",
       "      <td>0.0500</td>\n",
       "      <td>0.282167</td>\n",
       "      <td>0.2305</td>\n",
       "      <td>0.2390</td>\n",
       "    </tr>\n",
       "    <tr>\n",
       "      <th>6</th>\n",
       "      <td>Polynomial</td>\n",
       "      <td>0.1000</td>\n",
       "      <td>0.388333</td>\n",
       "      <td>0.2980</td>\n",
       "      <td>0.3100</td>\n",
       "    </tr>\n",
       "  </tbody>\n",
       "</table>\n",
       "</div>"
      ],
      "text/plain": [
       "       Kernel       C  Train Accuracy  Validation Accuracy  Test Accuracy\n",
       "0  Polynomial  0.0001        0.104833               0.1015         0.0890\n",
       "1  Polynomial  0.0005        0.105000               0.1015         0.0890\n",
       "2  Polynomial  0.0010        0.107667               0.1050         0.0945\n",
       "3  Polynomial  0.0050        0.127167               0.1160         0.1090\n",
       "4  Polynomial  0.0100        0.156000               0.1415         0.1345\n",
       "5  Polynomial  0.0500        0.282167               0.2305         0.2390\n",
       "6  Polynomial  0.1000        0.388333               0.2980         0.3100"
      ]
     },
     "execution_count": 19,
     "metadata": {},
     "output_type": "execute_result"
    }
   ],
   "source": [
    "# Create a dataframe with the results\n",
    "results_df = pd.DataFrame(results)\n",
    "results_df"
   ]
  },
  {
   "cell_type": "markdown",
   "metadata": {
    "id": "_Q8qlc-EtVR4"
   },
   "source": [
    "Classifier 2: Grid Search - Cross Validation"
   ]
  },
  {
   "cell_type": "code",
   "execution_count": 20,
   "metadata": {
    "id": "7EOO3qwctix7"
   },
   "outputs": [
    {
     "name": "stderr",
     "output_type": "stream",
     "text": [
      "C:\\Program Files\\Python311\\Lib\\site-packages\\sklearn\\utils\\validation.py:1408: DataConversionWarning: A column-vector y was passed when a 1d array was expected. Please change the shape of y to (n_samples, ), for example using ravel().\n",
      "  y = column_or_1d(y, warn=True)\n"
     ]
    },
    {
     "name": "stdout",
     "output_type": "stream",
     "text": [
      "Best Parameters: {'C': 0.001, 'gamma': 'scale', 'kernel': 'linear'}\n"
     ]
    }
   ],
   "source": [
    "# defining parameter range\n",
    "param_grid = {'C': C_values,\n",
    "              'gamma': ['scale', 'auto'],\n",
    "              'kernel': ['linear', 'rbf', 'poly']}\n",
    "# svm classifier\n",
    "svm_classifier2 = SVC()\n",
    "\n",
    "# grid search\n",
    "grid_search = GridSearchCV(svm_classifier2, param_grid, cv=5, n_jobs=-1)  # cv=5 για 5-fold cross-validation\n",
    "\n",
    "# train grid_search\n",
    "grid_search.fit(X_train, y_train)\n",
    "\n",
    "# find best parameters of grid search\n",
    "best_params = grid_search.best_params_\n",
    "print(\"Best Parameters:\", best_params)"
   ]
  },
  {
   "cell_type": "code",
   "execution_count": 21,
   "metadata": {
    "id": "Cxv1_TJqcqb-"
   },
   "outputs": [
    {
     "name": "stdout",
     "output_type": "stream",
     "text": [
      "Best Accuracy: 0.37783333333333335\n"
     ]
    }
   ],
   "source": [
    "acc = grid_search.best_score_\n",
    "print(\"Best Accuracy:\", acc)"
   ]
  }
 ],
 "metadata": {
  "colab": {
   "provenance": []
  },
  "kernelspec": {
   "display_name": "Python 3 (ipykernel)",
   "language": "python",
   "name": "python3"
  },
  "language_info": {
   "codemirror_mode": {
    "name": "ipython",
    "version": 3
   },
   "file_extension": ".py",
   "mimetype": "text/x-python",
   "name": "python",
   "nbconvert_exporter": "python",
   "pygments_lexer": "ipython3",
   "version": "3.11.4"
  }
 },
 "nbformat": 4,
 "nbformat_minor": 4
}
