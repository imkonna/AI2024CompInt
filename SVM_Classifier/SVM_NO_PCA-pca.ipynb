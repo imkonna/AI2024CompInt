{
 "cells": [
  {
   "cell_type": "markdown",
   "metadata": {
    "id": "YuWIQiISnghc"
   },
   "source": [
    "**Importing** **Libraries**"
   ]
  },
  {
   "cell_type": "code",
   "execution_count": 1,
   "metadata": {
    "id": "34mKA0YqY1J_"
   },
   "outputs": [],
   "source": [
    "import tensorflow as tf\n",
    "import numpy as np\n",
    "import matplotlib.pyplot as plt\n",
    "import pandas as pd\n",
    "import time\n",
    "\n",
    "from sklearn.model_selection import train_test_split\n",
    "from sklearn.preprocessing import StandardScaler # for Standardization\n",
    "from sklearn.metrics import accuracy_score, confusion_matrix, classification_report\n",
    "from sklearn.decomposition import PCA\n",
    "from sklearn.svm import SVC  # for classification\n",
    "from sklearn.model_selection import GridSearchCV\n",
    "from sklearn import svm"
   ]
  },
  {
   "cell_type": "markdown",
   "metadata": {
    "id": "q2a6rPhGp4aC"
   },
   "source": [
    "**Loading Dataset CIFAR10**"
   ]
  },
  {
   "cell_type": "code",
   "execution_count": 2,
   "metadata": {
    "id": "wqJhgCp-p9c_"
   },
   "outputs": [],
   "source": [
    "cifar10 = tf.keras.datasets.cifar10\n",
    "(X, y), (X_test, y_test) = cifar10.load_data() # load cifar10"
   ]
  },
  {
   "cell_type": "markdown",
   "metadata": {
    "id": "heSCT-Wn4iXk"
   },
   "source": [
    "**Split Data Process**\n",
    "\n",
    "Επειδή ο διαχωρισμός των δεδομένων σε train-test γίνεται αυτόματα σε 90%-10% χρησιμοποιώ την μέθοδο concatenate(), ώστε να ενοποιήσω τα σύνολα εκπαίδευσης - δοκιμής και στη συνέχεια τα ξαναχωρίζω σε train-validation-test με ποσοστά 60%-20%-20%.\n",
    "\n",
    "**Επιλέγω τυχαία ένα υποσύνολο του συνολικού dataset cifar10."
   ]
  },
  {
   "cell_type": "code",
   "execution_count": 3,
   "metadata": {
    "id": "FBaDvC_z5_TS"
   },
   "outputs": [],
   "source": [
    "# combine train and test dataset\n",
    "X_full = np.concatenate((X, X_test), axis=0)\n",
    "y_full = np.concatenate((y, y_test), axis=0)\n",
    "\n",
    "# select a random subset\n",
    "subset_size = 10000\n",
    "indices = np.random.choice(len(X_full), size=subset_size, replace=False)\n",
    "X_full = X_full[indices]\n",
    "y_full = y_full[indices]\n",
    "\n",
    "# Split data into train-validation-test sets (60%-20%-20%)\n",
    "X_train, X_test, y_train, y_test = train_test_split(X_full, y_full, test_size=0.4,\n",
    "                                                    random_state=0)\n",
    "\n",
    "X_val, X_test, y_val, y_test = train_test_split(X_test, y_test, test_size=0.5,\n",
    "                                                random_state=0)"
   ]
  },
  {
   "cell_type": "markdown",
   "metadata": {
    "id": "SU08IDkuBkC4"
   },
   "source": [
    "**Data** **Preprocessing**\n",
    "\n",
    "Εαν εμφανίσουμε το σχήμα των δεδομένων εκπαίδευσης - δοκιμής με την μέθοδο\n",
    "shape() βλέπουμε τις 4 διαστάσεις του πίνακα που περιέχει τις εικόνες.\n",
    "\n",
    "1. Για τα δεδομένα-εικόνες: Η πρώτη διάσταση δείχνει τον αριθμώ των εικόνων, η δεύτερη και η τρίτη το ύψος και το πλάτος των εικόνων σε pixel και η τέταρτη τον αριθμό των καναλιών χρώματος (RGB).\n",
    "\n",
    "2. Για τα δεδομένα-labels: Η πρώτη διάσταση δείχνει τον αριθμώ των εικόνων και η δεύτερη ότι για κάθε εικόνα αντιστοιχεί ένα label δηλαδή μία κατηγορία που αναπαριστά κάθε εικόνα."
   ]
  },
  {
   "cell_type": "code",
   "execution_count": 4,
   "metadata": {
    "id": "m1uVJcvbBxbF"
   },
   "outputs": [
    {
     "name": "stdout",
     "output_type": "stream",
     "text": [
      "X_train.shape: (6000, 32, 32, 3)\n",
      "y_train.shape: (6000, 1)\n",
      "X_test.shape: (2000, 32, 32, 3)\n",
      "y_test.shape: (2000, 1)\n",
      "X_val.shape: (2000, 32, 32, 3)\n",
      "y_val.shape: (2000, 1)\n"
     ]
    }
   ],
   "source": [
    "print(\"X_train.shape: {}\\ny_train.shape: {}\\nX_test.shape: {}\\ny_test.shape: {}\\nX_val.shape: {}\\ny_val.shape: {}\".format(X_train.shape, y_train.shape,\n",
    "                                                                                                                          X_test.shape, y_test.shape,\n",
    "                                                                                                                          X_val.shape, y_val.shape))"
   ]
  },
  {
   "cell_type": "markdown",
   "metadata": {
    "id": "tou0cGVvF_DR"
   },
   "source": [
    "Ο SVM δεν μπορεί να επεξεργαστεί δεδομένα εικόνας απευθείας σε μορφή πίνακα 2D ή 3D. Επομένως, για να μπορέσει να δεχθεί τις εικόνες ως δεδομένα εισόδου και να ακολουθήσει η διαδικασία εκπαίδευσης - δοκιμής θα πρέπει πρώτα να γίνει μετατροπή (reshape()) των δεδομένων σε μονοδιάστατα διανύσματα (flat vectors).\n"
   ]
  },
  {
   "cell_type": "code",
   "execution_count": 5,
   "metadata": {
    "id": "zNoKGn5qJce8"
   },
   "outputs": [
    {
     "name": "stdout",
     "output_type": "stream",
     "text": [
      "X_train.shape: (6000, 3072)\n",
      "y_train.shape: (6000, 1)\n",
      "X_test.shape: (2000, 3072)\n",
      "y_test.shape: (2000, 1)\n",
      "X_val.shape: (2000, 3072)\n",
      "y_val.shape: (2000, 1)\n"
     ]
    }
   ],
   "source": [
    "# Reshaping Data into vectors\n",
    "X_train = X_train.reshape(X_train.shape[0], -1)\n",
    "X_test = X_test.reshape(X_test.shape[0], -1)\n",
    "X_val = X_val.reshape(X_val.shape[0], -1)\n",
    "\n",
    "print(\"X_train.shape: {}\\ny_train.shape: {}\\nX_test.shape: {}\\ny_test.shape: {}\\nX_val.shape: {}\\ny_val.shape: {}\".format(X_train.shape, y_train.shape,\n",
    "                                                                                                                          X_test.shape, y_test.shape,\n",
    "                                                                                                                          X_val.shape, y_val.shape))"
   ]
  },
  {
   "cell_type": "code",
   "execution_count": 6,
   "metadata": {
    "id": "Bhps8ExsTfoB"
   },
   "outputs": [],
   "source": [
    "# Standardization of data\n",
    "scaler = StandardScaler()\n",
    "X_train = scaler.fit_transform(X_train)\n",
    "X_test = scaler.transform(X_test)\n",
    "X_val = scaler.transform(X_val)"
   ]
  },
  {
   "cell_type": "code",
   "execution_count": 7,
   "metadata": {
    "id": "qmZzRRvKngE3"
   },
   "outputs": [],
   "source": [
    "# Normalization\n",
    "# X_train = X_train / 255.0\n",
    "# X_test = X_test / 255.0\n",
    "# X_val = X_val / 255.0"
   ]
  },
  {
   "cell_type": "markdown",
   "metadata": {
    "id": "MuDlPVzZxJQo"
   },
   "source": [
    "Με το PCA επιτυγχάνεται η μείωση διάστασης των δεδομένων κρατώντας τις πιο σημαντικές συνιστώσες δηλαδή επιτυγχάνεται η αναδόμηση των δεδομένων σε νέες διαστάσεις, δίνοντας ίση βαρύτητα σε όλα τα χαρακτηριστικά εφόσον έχουν προηγηθεί είτε Normalization είτε Standardization."
   ]
  },
  {
   "cell_type": "code",
   "execution_count": 8,
   "metadata": {
    "id": "d9m10U5MToTX"
   },
   "outputs": [
    {
     "name": "stdout",
     "output_type": "stream",
     "text": [
      "X_train.shape: (6000, 50)\n",
      "y_train.shape: (6000, 1)\n",
      "X_test.shape: (2000, 50)\n",
      "y_test.shape: (2000, 1)\n",
      "X_val.shape: (2000, 50)\n",
      "y_val.shape: (2000, 1)\n"
     ]
    }
   ],
   "source": [
    "# pca for dimensionality reduction\n",
    "pca_cifar = PCA(n_components=50)\n",
    "X_train = pca_cifar.fit_transform(X_train)\n",
    "X_test = pca_cifar.transform(X_test)\n",
    "X_val = pca_cifar.transform(X_val)\n",
    "\n",
    "print(\"X_train.shape: {}\\ny_train.shape: {}\\nX_test.shape: {}\\ny_test.shape: {}\\nX_val.shape: {}\\ny_val.shape: {}\".format(X_train.shape, y_train.shape,\n",
    "                                                                                                                          X_test.shape, y_test.shape,\n",
    "                                                                                                                          X_val.shape, y_val.shape))"
   ]
  },
  {
   "cell_type": "markdown",
   "metadata": {
    "id": "-o0URICQUEtp"
   },
   "source": [
    "**Model** **Training**\n",
    "\n",
    "Types of Kernel: Linear, RBF, Polynomial"
   ]
  },
  {
   "cell_type": "markdown",
   "metadata": {
    "id": "qvgvyCbIYlqP"
   },
   "source": [
    "SVM Linear Kernel\n",
    "\n",
    "Δοκιμάζω διαφορετικές τιμές της παραμέτρου C (regularization parameter).\n",
    "Δημιουργία μεθόδου linear_model_method (), η οποία θα παίρνει ως όρισμα διαφορετικές παραμέτρους C από μία λίστα που θα δημιουργήσω."
   ]
  },
  {
   "cell_type": "code",
   "execution_count": 9,
   "metadata": {
    "id": "-ek16QffZm_e"
   },
   "outputs": [],
   "source": [
    "# Prepare variables to store the results\n",
    "train_set_accuracy = []\n",
    "val_set_caccuracy = []\n",
    "test_set_accuracy = []\n",
    "results = []\n",
    "\n",
    "# Function to train SVM with Linear Kernel\n",
    "def linear_model_SVM (c):\n",
    "    start_time = time.time()\n",
    "    svm_classifier = SVC(kernel='linear', C=c)\n",
    "\n",
    "    svm_classifier.fit(X_train, y_train.ravel())\n",
    "\n",
    "    # Accuracy for train set\n",
    "    pred = svm_classifier.predict(X_train)\n",
    "    acc_train = np.mean(pred == y_train.ravel())\n",
    "    train_set_accuracy.append(acc_train)\n",
    "    print(\"Train Accuracy for C = {}: {}\".format(c, acc_train))\n",
    "\n",
    "    # Accuracy for validation set\n",
    "    pred = svm_classifier.predict(X_val)\n",
    "    acc_val = np.mean(pred == y_val.ravel())\n",
    "    val_set_caccuracy.append(acc_val)\n",
    "    print(\"Validation Accuracy for C = {}: {}\".format(c, acc_val))\n",
    "\n",
    "    # Accuracy for test set\n",
    "    pred = svm_classifier.predict(X_test)\n",
    "    acc_test = np.mean(pred == y_test.ravel())\n",
    "    test_set_accuracy.append(acc_test)\n",
    "    print(\"Test Accuracy for C = {}: {}\".format(c, acc_test))\n",
    "\n",
    "    # Run time\n",
    "    end_time = time.time()\n",
    "    run_time = end_time - start_time\n",
    "\n",
    "    results.append({\n",
    "            'Kernel': 'linear',\n",
    "            'C': c,\n",
    "            'Train Accuracy': acc_train,\n",
    "            'Validation Accuracy': acc_val,\n",
    "            'Test Accuracy': acc_test,\n",
    "            'Run time: ': run_time\n",
    "            })"
   ]
  },
  {
   "cell_type": "code",
   "execution_count": 10,
   "metadata": {
    "colab": {
     "base_uri": "https://localhost:8080/"
    },
    "id": "BCu2rPJVtJX1",
    "outputId": "dad38b80-001d-41a0-cb01-983c3d44ec22"
   },
   "outputs": [
    {
     "name": "stdout",
     "output_type": "stream",
     "text": [
      "Train Accuracy for C = 0.0001: 0.3868333333333333\n",
      "Validation Accuracy for C = 0.0001: 0.3545\n",
      "Test Accuracy for C = 0.0001: 0.359\n",
      "Train Accuracy for C = 0.0005: 0.4035\n",
      "Validation Accuracy for C = 0.0005: 0.367\n",
      "Test Accuracy for C = 0.0005: 0.3645\n",
      "Train Accuracy for C = 0.001: 0.4061666666666667\n",
      "Validation Accuracy for C = 0.001: 0.3675\n",
      "Test Accuracy for C = 0.001: 0.3635\n",
      "Train Accuracy for C = 0.005: 0.4091666666666667\n",
      "Validation Accuracy for C = 0.005: 0.3685\n",
      "Test Accuracy for C = 0.005: 0.361\n",
      "Train Accuracy for C = 0.01: 0.4101666666666667\n",
      "Validation Accuracy for C = 0.01: 0.3655\n",
      "Test Accuracy for C = 0.01: 0.3605\n",
      "Train Accuracy for C = 0.05: 0.4098333333333333\n",
      "Validation Accuracy for C = 0.05: 0.367\n",
      "Test Accuracy for C = 0.05: 0.3565\n",
      "Train Accuracy for C = 0.1: 0.4086666666666667\n",
      "Validation Accuracy for C = 0.1: 0.3665\n",
      "Test Accuracy for C = 0.1: 0.358\n"
     ]
    },
    {
     "data": {
      "image/png": "[encoded data removed]",
      "text/plain": [
       "<Figure size 640x480 with 1 Axes>"
      ]
     },
     "metadata": {},
     "output_type": "display_data"
    }
   ],
   "source": [
    "# Run SVM model for different C values\n",
    "C_values = [0.0001, 0.0005, 0.001, 0.005, 0.01, 0.05, 0.1]\n",
    "\n",
    "for c in C_values:\n",
    "  linear_model_SVM(c)\n",
    "\n",
    "# Print the results\n",
    "plt.plot(C_values, train_set_accuracy,'.-',color='red')\n",
    "plt.plot(C_values, test_set_accuracy,'.-',color='blue')\n",
    "plt.plot(C_values, val_set_caccuracy,'.-',color='green')\n",
    "plt.title(\"Plot of accuracy vs c for training and test data\")\n",
    "plt.xlabel('c')\n",
    "plt.ylabel('Accuracy')\n",
    "plt.grid()"
   ]
  },
  {
   "cell_type": "code",
   "execution_count": 11,
   "metadata": {
    "id": "fFAtzRA70uEa"
   },
   "outputs": [
    {
     "data": {
      "text/html": [
       "<div>\n",
       "<style scoped>\n",
       "    .dataframe tbody tr th:only-of-type {\n",
       "        vertical-align: middle;\n",
       "    }\n",
       "\n",
       "    .dataframe tbody tr th {\n",
       "        vertical-align: top;\n",
       "    }\n",
       "\n",
       "    .dataframe thead th {\n",
       "        text-align: right;\n",
       "    }\n",
       "</style>\n",
       "<table border=\"1\" class=\"dataframe\">\n",
       "  <thead>\n",
       "    <tr style=\"text-align: right;\">\n",
       "      <th></th>\n",
       "      <th>Kernel</th>\n",
       "      <th>C</th>\n",
       "      <th>Train Accuracy</th>\n",
       "      <th>Validation Accuracy</th>\n",
       "      <th>Test Accuracy</th>\n",
       "      <th>Run time:</th>\n",
       "    </tr>\n",
       "  </thead>\n",
       "  <tbody>\n",
       "    <tr>\n",
       "      <th>0</th>\n",
       "      <td>linear</td>\n",
       "      <td>0.0001</td>\n",
       "      <td>0.386833</td>\n",
       "      <td>0.3545</td>\n",
       "      <td>0.3590</td>\n",
       "      <td>1.277401</td>\n",
       "    </tr>\n",
       "    <tr>\n",
       "      <th>1</th>\n",
       "      <td>linear</td>\n",
       "      <td>0.0005</td>\n",
       "      <td>0.403500</td>\n",
       "      <td>0.3670</td>\n",
       "      <td>0.3645</td>\n",
       "      <td>1.305166</td>\n",
       "    </tr>\n",
       "    <tr>\n",
       "      <th>2</th>\n",
       "      <td>linear</td>\n",
       "      <td>0.0010</td>\n",
       "      <td>0.406167</td>\n",
       "      <td>0.3675</td>\n",
       "      <td>0.3635</td>\n",
       "      <td>1.363038</td>\n",
       "    </tr>\n",
       "    <tr>\n",
       "      <th>3</th>\n",
       "      <td>linear</td>\n",
       "      <td>0.0050</td>\n",
       "      <td>0.409167</td>\n",
       "      <td>0.3685</td>\n",
       "      <td>0.3610</td>\n",
       "      <td>2.056795</td>\n",
       "    </tr>\n",
       "    <tr>\n",
       "      <th>4</th>\n",
       "      <td>linear</td>\n",
       "      <td>0.0100</td>\n",
       "      <td>0.410167</td>\n",
       "      <td>0.3655</td>\n",
       "      <td>0.3605</td>\n",
       "      <td>2.857061</td>\n",
       "    </tr>\n",
       "    <tr>\n",
       "      <th>5</th>\n",
       "      <td>linear</td>\n",
       "      <td>0.0500</td>\n",
       "      <td>0.409833</td>\n",
       "      <td>0.3670</td>\n",
       "      <td>0.3565</td>\n",
       "      <td>9.667356</td>\n",
       "    </tr>\n",
       "    <tr>\n",
       "      <th>6</th>\n",
       "      <td>linear</td>\n",
       "      <td>0.1000</td>\n",
       "      <td>0.408667</td>\n",
       "      <td>0.3665</td>\n",
       "      <td>0.3580</td>\n",
       "      <td>18.827092</td>\n",
       "    </tr>\n",
       "  </tbody>\n",
       "</table>\n",
       "</div>"
      ],
      "text/plain": [
       "   Kernel       C  Train Accuracy  Validation Accuracy  Test Accuracy  \\\n",
       "0  linear  0.0001        0.386833               0.3545         0.3590   \n",
       "1  linear  0.0005        0.403500               0.3670         0.3645   \n",
       "2  linear  0.0010        0.406167               0.3675         0.3635   \n",
       "3  linear  0.0050        0.409167               0.3685         0.3610   \n",
       "4  linear  0.0100        0.410167               0.3655         0.3605   \n",
       "5  linear  0.0500        0.409833               0.3670         0.3565   \n",
       "6  linear  0.1000        0.408667               0.3665         0.3580   \n",
       "\n",
       "   Run time:   \n",
       "0    1.277401  \n",
       "1    1.305166  \n",
       "2    1.363038  \n",
       "3    2.056795  \n",
       "4    2.857061  \n",
       "5    9.667356  \n",
       "6   18.827092  "
      ]
     },
     "execution_count": 11,
     "metadata": {},
     "output_type": "execute_result"
    }
   ],
   "source": [
    "# Create a dataframe with the results\n",
    "results_df = pd.DataFrame(results)\n",
    "results_df"
   ]
  },
  {
   "cell_type": "markdown",
   "metadata": {
    "id": "IVqOu6QcbIIk"
   },
   "source": [
    "Παρατήρησεις:\n",
    "\n",
    "Εδώ βλέπουμε ότι η ακρίβεια του train set αυξάνεται καθώς αυξάνεται και η τιμή του C (παράγοντας κανονικοποίησης). Αυτό υποδηλώνει ότι το μοντέλο κάνει overfitting, δηλαδή υπερπροσαρμόζεται στα δεδομένα εκπαίδευσης, αλλά αδυνατεί να γενικεύσει με επιτυχία σε νέα δεδομένα. Αυτό φαίνεται στις τιμές των validation και test accuracies, οι οποίες είναι χαμηλές."
   ]
  },
  {
   "cell_type": "markdown",
   "metadata": {
    "id": "sKxHS4YxrWtR"
   },
   "source": [
    "SVM RBF Kernel"
   ]
  },
  {
   "cell_type": "code",
   "execution_count": 12,
   "metadata": {
    "id": "NH4fQcIErWUA"
   },
   "outputs": [],
   "source": [
    "# Function to train SVM with RBF Kernel\n",
    "def rbf_model_SVM (C, g):\n",
    "\n",
    "    start_time = time.time()\n",
    "\n",
    "    svm_classifier = SVC(kernel='rbf', C=c, gamma=g)\n",
    "\n",
    "    svm_classifier.fit(X_train, y_train)\n",
    "\n",
    "    # Accuracy for train set\n",
    "    pred = svm_classifier.predict(X_train)\n",
    "    acc_train = np.mean(pred == y_train.ravel())\n",
    "    train_set_accuracy.append(acc_train)\n",
    "    print(\"Train Accuracy for C = {}: {}\".format(c, acc_train))\n",
    "\n",
    "    # Accuracy for validation set\n",
    "    pred = svm_classifier.predict(X_val)\n",
    "    acc_val = np.mean(pred == y_val.ravel())\n",
    "    val_set_accuracy.append(acc_val)\n",
    "    print(\"Validation Accuracy for C = {}: {}\".format(c, acc_val))\n",
    "\n",
    "    # Accuracy for test set\n",
    "    pred = svm_classifier.predict(X_test)\n",
    "    acc_test = np.mean(pred == y_test.ravel)\n",
    "    test_set_accuracy.append(acc_test)\n",
    "    print(\"Test Accuracy for C = {}: {}\".format(c, acc_test))\n",
    "\n",
    "    # Run time\n",
    "    end_time = time.time()\n",
    "    run_time = end_time - start_time\n",
    "\n",
    "    results.append({\n",
    "              'Kernel': 'RBF',\n",
    "              'C': c,\n",
    "              'Train Accuracy': acc_train,\n",
    "              'Validation Accuracy': acc_val,\n",
    "              'Test Accuracy': acc_test,\n",
    "               'Run time: ': run_time\n",
    "                  })"
   ]
  },
  {
   "cell_type": "code",
   "execution_count": 13,
   "metadata": {
    "id": "QgeyYUGVQaAy"
   },
   "outputs": [
    {
     "name": "stderr",
     "output_type": "stream",
     "text": [
      "C:\\Program Files\\Python311\\Lib\\site-packages\\sklearn\\utils\\validation.py:1408: DataConversionWarning: A column-vector y was passed when a 1d array was expected. Please change the shape of y to (n_samples, ), for example using ravel().\n",
      "  y = column_or_1d(y, warn=True)\n"
     ]
    },
    {
     "name": "stdout",
     "output_type": "stream",
     "text": [
      "Train Accuracy for C = 0.0001: 0.1085\n",
      "Validation Accuracy for C = 0.0001: 0.102\n",
      "Test Accuracy for C = 0.0001: 0.0\n"
     ]
    },
    {
     "name": "stderr",
     "output_type": "stream",
     "text": [
      "C:\\Program Files\\Python311\\Lib\\site-packages\\sklearn\\utils\\validation.py:1408: DataConversionWarning: A column-vector y was passed when a 1d array was expected. Please change the shape of y to (n_samples, ), for example using ravel().\n",
      "  y = column_or_1d(y, warn=True)\n"
     ]
    },
    {
     "name": "stdout",
     "output_type": "stream",
     "text": [
      "Train Accuracy for C = 0.0005: 0.1085\n",
      "Validation Accuracy for C = 0.0005: 0.102\n",
      "Test Accuracy for C = 0.0005: 0.0\n"
     ]
    },
    {
     "name": "stderr",
     "output_type": "stream",
     "text": [
      "C:\\Program Files\\Python311\\Lib\\site-packages\\sklearn\\utils\\validation.py:1408: DataConversionWarning: A column-vector y was passed when a 1d array was expected. Please change the shape of y to (n_samples, ), for example using ravel().\n",
      "  y = column_or_1d(y, warn=True)\n"
     ]
    },
    {
     "name": "stdout",
     "output_type": "stream",
     "text": [
      "Train Accuracy for C = 0.001: 0.1085\n",
      "Validation Accuracy for C = 0.001: 0.102\n",
      "Test Accuracy for C = 0.001: 0.0\n"
     ]
    },
    {
     "name": "stderr",
     "output_type": "stream",
     "text": [
      "C:\\Program Files\\Python311\\Lib\\site-packages\\sklearn\\utils\\validation.py:1408: DataConversionWarning: A column-vector y was passed when a 1d array was expected. Please change the shape of y to (n_samples, ), for example using ravel().\n",
      "  y = column_or_1d(y, warn=True)\n"
     ]
    },
    {
     "name": "stdout",
     "output_type": "stream",
     "text": [
      "Train Accuracy for C = 0.005: 0.1085\n",
      "Validation Accuracy for C = 0.005: 0.102\n",
      "Test Accuracy for C = 0.005: 0.0\n"
     ]
    },
    {
     "name": "stderr",
     "output_type": "stream",
     "text": [
      "C:\\Program Files\\Python311\\Lib\\site-packages\\sklearn\\utils\\validation.py:1408: DataConversionWarning: A column-vector y was passed when a 1d array was expected. Please change the shape of y to (n_samples, ), for example using ravel().\n",
      "  y = column_or_1d(y, warn=True)\n"
     ]
    },
    {
     "name": "stdout",
     "output_type": "stream",
     "text": [
      "Train Accuracy for C = 0.01: 0.1085\n",
      "Validation Accuracy for C = 0.01: 0.102\n",
      "Test Accuracy for C = 0.01: 0.0\n"
     ]
    },
    {
     "name": "stderr",
     "output_type": "stream",
     "text": [
      "C:\\Program Files\\Python311\\Lib\\site-packages\\sklearn\\utils\\validation.py:1408: DataConversionWarning: A column-vector y was passed when a 1d array was expected. Please change the shape of y to (n_samples, ), for example using ravel().\n",
      "  y = column_or_1d(y, warn=True)\n"
     ]
    },
    {
     "name": "stdout",
     "output_type": "stream",
     "text": [
      "Train Accuracy for C = 0.05: 0.1085\n",
      "Validation Accuracy for C = 0.05: 0.102\n",
      "Test Accuracy for C = 0.05: 0.0\n"
     ]
    },
    {
     "name": "stderr",
     "output_type": "stream",
     "text": [
      "C:\\Program Files\\Python311\\Lib\\site-packages\\sklearn\\utils\\validation.py:1408: DataConversionWarning: A column-vector y was passed when a 1d array was expected. Please change the shape of y to (n_samples, ), for example using ravel().\n",
      "  y = column_or_1d(y, warn=True)\n"
     ]
    },
    {
     "name": "stdout",
     "output_type": "stream",
     "text": [
      "Train Accuracy for C = 0.1: 0.1085\n",
      "Validation Accuracy for C = 0.1: 0.102\n",
      "Test Accuracy for C = 0.1: 0.0\n"
     ]
    },
    {
     "data": {
      "image/png": "[encoded data removed]",
      "text/plain": [
       "<Figure size 640x480 with 1 Axes>"
      ]
     },
     "metadata": {},
     "output_type": "display_data"
    }
   ],
   "source": [
    "C_values = [0.0001, 0.0005, 0.001, 0.005, 0.01, 0.05, 0.1]\n",
    "# C_values =  [0.0001, 0.001, 0.01, 0.1, 1]\n",
    "\n",
    "# Prepare variables to store the results\n",
    "train_set_accuracy = []\n",
    "val_set_accuracy = []\n",
    "test_set_accuracy = []\n",
    "results = []\n",
    "\n",
    "for c in C_values:\n",
    "  rbf_model_SVM(c, 'auto')\n",
    "\n",
    "# Print the results\n",
    "plt.plot(C_values, train_set_accuracy,'.-',color='red')\n",
    "plt.plot(C_values, test_set_accuracy,'.-',color='blue')\n",
    "plt.plot(C_values, val_set_accuracy,'.-',color='green')\n",
    "plt.title(\"Plot of accuracy vs c for training - validation data - test data\")\n",
    "plt.xlabel('c')\n",
    "plt.ylabel('Accuracy')\n",
    "plt.grid()"
   ]
  },
  {
   "cell_type": "code",
   "execution_count": 14,
   "metadata": {
    "id": "sO6TTOCPYqWe"
   },
   "outputs": [
    {
     "data": {
      "text/html": [
       "<div>\n",
       "<style scoped>\n",
       "    .dataframe tbody tr th:only-of-type {\n",
       "        vertical-align: middle;\n",
       "    }\n",
       "\n",
       "    .dataframe tbody tr th {\n",
       "        vertical-align: top;\n",
       "    }\n",
       "\n",
       "    .dataframe thead th {\n",
       "        text-align: right;\n",
       "    }\n",
       "</style>\n",
       "<table border=\"1\" class=\"dataframe\">\n",
       "  <thead>\n",
       "    <tr style=\"text-align: right;\">\n",
       "      <th></th>\n",
       "      <th>Kernel</th>\n",
       "      <th>C</th>\n",
       "      <th>Train Accuracy</th>\n",
       "      <th>Validation Accuracy</th>\n",
       "      <th>Test Accuracy</th>\n",
       "      <th>Run time:</th>\n",
       "    </tr>\n",
       "  </thead>\n",
       "  <tbody>\n",
       "    <tr>\n",
       "      <th>0</th>\n",
       "      <td>RBF</td>\n",
       "      <td>0.0001</td>\n",
       "      <td>0.1085</td>\n",
       "      <td>0.102</td>\n",
       "      <td>0.0</td>\n",
       "      <td>4.046005</td>\n",
       "    </tr>\n",
       "    <tr>\n",
       "      <th>1</th>\n",
       "      <td>RBF</td>\n",
       "      <td>0.0005</td>\n",
       "      <td>0.1085</td>\n",
       "      <td>0.102</td>\n",
       "      <td>0.0</td>\n",
       "      <td>4.031925</td>\n",
       "    </tr>\n",
       "    <tr>\n",
       "      <th>2</th>\n",
       "      <td>RBF</td>\n",
       "      <td>0.0010</td>\n",
       "      <td>0.1085</td>\n",
       "      <td>0.102</td>\n",
       "      <td>0.0</td>\n",
       "      <td>4.002541</td>\n",
       "    </tr>\n",
       "    <tr>\n",
       "      <th>3</th>\n",
       "      <td>RBF</td>\n",
       "      <td>0.0050</td>\n",
       "      <td>0.1085</td>\n",
       "      <td>0.102</td>\n",
       "      <td>0.0</td>\n",
       "      <td>4.068779</td>\n",
       "    </tr>\n",
       "    <tr>\n",
       "      <th>4</th>\n",
       "      <td>RBF</td>\n",
       "      <td>0.0100</td>\n",
       "      <td>0.1085</td>\n",
       "      <td>0.102</td>\n",
       "      <td>0.0</td>\n",
       "      <td>4.131068</td>\n",
       "    </tr>\n",
       "    <tr>\n",
       "      <th>5</th>\n",
       "      <td>RBF</td>\n",
       "      <td>0.0500</td>\n",
       "      <td>0.1085</td>\n",
       "      <td>0.102</td>\n",
       "      <td>0.0</td>\n",
       "      <td>4.140870</td>\n",
       "    </tr>\n",
       "    <tr>\n",
       "      <th>6</th>\n",
       "      <td>RBF</td>\n",
       "      <td>0.1000</td>\n",
       "      <td>0.1085</td>\n",
       "      <td>0.102</td>\n",
       "      <td>0.0</td>\n",
       "      <td>4.216540</td>\n",
       "    </tr>\n",
       "  </tbody>\n",
       "</table>\n",
       "</div>"
      ],
      "text/plain": [
       "  Kernel       C  Train Accuracy  Validation Accuracy  Test Accuracy  \\\n",
       "0    RBF  0.0001          0.1085                0.102            0.0   \n",
       "1    RBF  0.0005          0.1085                0.102            0.0   \n",
       "2    RBF  0.0010          0.1085                0.102            0.0   \n",
       "3    RBF  0.0050          0.1085                0.102            0.0   \n",
       "4    RBF  0.0100          0.1085                0.102            0.0   \n",
       "5    RBF  0.0500          0.1085                0.102            0.0   \n",
       "6    RBF  0.1000          0.1085                0.102            0.0   \n",
       "\n",
       "   Run time:   \n",
       "0    4.046005  \n",
       "1    4.031925  \n",
       "2    4.002541  \n",
       "3    4.068779  \n",
       "4    4.131068  \n",
       "5    4.140870  \n",
       "6    4.216540  "
      ]
     },
     "execution_count": 14,
     "metadata": {},
     "output_type": "execute_result"
    }
   ],
   "source": [
    "# Create a dataframe with the results\n",
    "results_df = pd.DataFrame(results)\n",
    "results_df"
   ]
  },
  {
   "cell_type": "markdown",
   "metadata": {
    "id": "jNbrwjrljj1X"
   },
   "source": [
    "Polynomial Kernel"
   ]
  },
  {
   "cell_type": "code",
   "execution_count": 15,
   "metadata": {
    "id": "I8BcHhm3jijN"
   },
   "outputs": [],
   "source": [
    "# Prepare variables to store the results\n",
    "train_set_accuracy = []\n",
    "val_set_caccuracy = []\n",
    "test_set_accuracy = []\n",
    "results = []\n",
    "\n",
    "def poly_model_SVM (C):\n",
    "      start_time = time.time()\n",
    "      svm_classifier = SVC(probability= False, kernel='poly', C=c)\n",
    "\n",
    "      svm_classifier.fit(X_train, y_train)\n",
    "\n",
    "      # Accuracy for train set\n",
    "      pred = svm_classifier.predict(X_train)\n",
    "      acc_train = np.mean(pred == y_train.ravel())\n",
    "      train_set_accuracy.append(acc_train)\n",
    "      print(\"Train Accuracy for C = {}: {}\".format(c, acc_train))\n",
    "\n",
    "      # Accuracy for validation set\n",
    "      pred = svm_classifier.predict(X_val)\n",
    "      acc_val = np.mean(pred == y_val.ravel())\n",
    "      val_set_caccuracy.append(acc_val)\n",
    "      print(\"Validation Accuracy for C = {}: {}\".format(c, acc_val))\n",
    "\n",
    "      # Accuracy for test set\n",
    "      pred = svm_classifier.predict(X_test)\n",
    "      acc_test = np.mean(pred == y_test.ravel())\n",
    "      test_set_accuracy.append(acc_test)\n",
    "      print(\"Test Accuracy for C = {}: {}\".format(c, acc_test))\n",
    "\n",
    "      # Run time\n",
    "      end_time = time.time()\n",
    "      run_time = end_time - start_time\n",
    "\n",
    "      results.append({\n",
    "              'Kernel': 'Polynomial',\n",
    "              'C': c,\n",
    "              'Train Accuracy': acc_train,\n",
    "              'Validation Accuracy': acc_val,\n",
    "              'Test Accuracy': acc_test\n",
    "                  })"
   ]
  },
  {
   "cell_type": "code",
   "execution_count": 16,
   "metadata": {
    "id": "wY753vjfy-o9"
   },
   "outputs": [
    {
     "name": "stderr",
     "output_type": "stream",
     "text": [
      "C:\\Program Files\\Python311\\Lib\\site-packages\\sklearn\\utils\\validation.py:1408: DataConversionWarning: A column-vector y was passed when a 1d array was expected. Please change the shape of y to (n_samples, ), for example using ravel().\n",
      "  y = column_or_1d(y, warn=True)\n"
     ]
    },
    {
     "name": "stdout",
     "output_type": "stream",
     "text": [
      "Train Accuracy for C = 0.0001: 0.1085\n",
      "Validation Accuracy for C = 0.0001: 0.102\n",
      "Test Accuracy for C = 0.0001: 0.0875\n"
     ]
    },
    {
     "name": "stderr",
     "output_type": "stream",
     "text": [
      "C:\\Program Files\\Python311\\Lib\\site-packages\\sklearn\\utils\\validation.py:1408: DataConversionWarning: A column-vector y was passed when a 1d array was expected. Please change the shape of y to (n_samples, ), for example using ravel().\n",
      "  y = column_or_1d(y, warn=True)\n"
     ]
    },
    {
     "name": "stdout",
     "output_type": "stream",
     "text": [
      "Train Accuracy for C = 0.0005: 0.1085\n",
      "Validation Accuracy for C = 0.0005: 0.102\n",
      "Test Accuracy for C = 0.0005: 0.0875\n"
     ]
    },
    {
     "name": "stderr",
     "output_type": "stream",
     "text": [
      "C:\\Program Files\\Python311\\Lib\\site-packages\\sklearn\\utils\\validation.py:1408: DataConversionWarning: A column-vector y was passed when a 1d array was expected. Please change the shape of y to (n_samples, ), for example using ravel().\n",
      "  y = column_or_1d(y, warn=True)\n"
     ]
    },
    {
     "name": "stdout",
     "output_type": "stream",
     "text": [
      "Train Accuracy for C = 0.001: 0.1115\n",
      "Validation Accuracy for C = 0.001: 0.104\n",
      "Test Accuracy for C = 0.001: 0.0905\n"
     ]
    },
    {
     "name": "stderr",
     "output_type": "stream",
     "text": [
      "C:\\Program Files\\Python311\\Lib\\site-packages\\sklearn\\utils\\validation.py:1408: DataConversionWarning: A column-vector y was passed when a 1d array was expected. Please change the shape of y to (n_samples, ), for example using ravel().\n",
      "  y = column_or_1d(y, warn=True)\n"
     ]
    },
    {
     "name": "stdout",
     "output_type": "stream",
     "text": [
      "Train Accuracy for C = 0.005: 0.2025\n",
      "Validation Accuracy for C = 0.005: 0.1855\n",
      "Test Accuracy for C = 0.005: 0.1795\n"
     ]
    },
    {
     "name": "stderr",
     "output_type": "stream",
     "text": [
      "C:\\Program Files\\Python311\\Lib\\site-packages\\sklearn\\utils\\validation.py:1408: DataConversionWarning: A column-vector y was passed when a 1d array was expected. Please change the shape of y to (n_samples, ), for example using ravel().\n",
      "  y = column_or_1d(y, warn=True)\n"
     ]
    },
    {
     "name": "stdout",
     "output_type": "stream",
     "text": [
      "Train Accuracy for C = 0.01: 0.22066666666666668\n",
      "Validation Accuracy for C = 0.01: 0.2135\n",
      "Test Accuracy for C = 0.01: 0.2\n"
     ]
    },
    {
     "name": "stderr",
     "output_type": "stream",
     "text": [
      "C:\\Program Files\\Python311\\Lib\\site-packages\\sklearn\\utils\\validation.py:1408: DataConversionWarning: A column-vector y was passed when a 1d array was expected. Please change the shape of y to (n_samples, ), for example using ravel().\n",
      "  y = column_or_1d(y, warn=True)\n"
     ]
    },
    {
     "name": "stdout",
     "output_type": "stream",
     "text": [
      "Train Accuracy for C = 0.05: 0.27316666666666667\n",
      "Validation Accuracy for C = 0.05: 0.2495\n",
      "Test Accuracy for C = 0.05: 0.242\n"
     ]
    },
    {
     "name": "stderr",
     "output_type": "stream",
     "text": [
      "C:\\Program Files\\Python311\\Lib\\site-packages\\sklearn\\utils\\validation.py:1408: DataConversionWarning: A column-vector y was passed when a 1d array was expected. Please change the shape of y to (n_samples, ), for example using ravel().\n",
      "  y = column_or_1d(y, warn=True)\n"
     ]
    },
    {
     "name": "stdout",
     "output_type": "stream",
     "text": [
      "Train Accuracy for C = 0.1: 0.32666666666666666\n",
      "Validation Accuracy for C = 0.1: 0.275\n",
      "Test Accuracy for C = 0.1: 0.27\n"
     ]
    },
    {
     "data": {
      "image/png": "[encoded data removed]",
      "text/plain": [
       "<Figure size 640x480 with 1 Axes>"
      ]
     },
     "metadata": {},
     "output_type": "display_data"
    }
   ],
   "source": [
    "C_values = [0.0001, 0.0005, 0.001, 0.005, 0.01, 0.05, 0.1]\n",
    "\n",
    "train_set_accuracy = []\n",
    "val_set_caccuracy = []\n",
    "test_set_accuracy = []\n",
    "results = []\n",
    "for c in C_values:\n",
    "  poly_model_SVM(c)\n",
    "\n",
    "# Print the results\n",
    "plt.plot(C_values, train_set_accuracy,'.-',color='red')\n",
    "plt.plot(C_values, test_set_accuracy,'.-',color='blue')\n",
    "plt.plot(C_values, val_set_caccuracy,'.-',color='green')\n",
    "plt.legend(['Train Accuracy', 'Test Accuracy', 'Validation Accuracy'])\n",
    "plt.title(\"Plot of accuracy vs c for training - validation data - test data\")\n",
    "plt.xlabel('c')\n",
    "plt.ylabel('Accuracy')\n",
    "plt.grid()"
   ]
  },
  {
   "cell_type": "code",
   "execution_count": 17,
   "metadata": {
    "id": "jCP26-CTHbcu"
   },
   "outputs": [
    {
     "data": {
      "text/html": [
       "<div>\n",
       "<style scoped>\n",
       "    .dataframe tbody tr th:only-of-type {\n",
       "        vertical-align: middle;\n",
       "    }\n",
       "\n",
       "    .dataframe tbody tr th {\n",
       "        vertical-align: top;\n",
       "    }\n",
       "\n",
       "    .dataframe thead th {\n",
       "        text-align: right;\n",
       "    }\n",
       "</style>\n",
       "<table border=\"1\" class=\"dataframe\">\n",
       "  <thead>\n",
       "    <tr style=\"text-align: right;\">\n",
       "      <th></th>\n",
       "      <th>Kernel</th>\n",
       "      <th>C</th>\n",
       "      <th>Train Accuracy</th>\n",
       "      <th>Validation Accuracy</th>\n",
       "      <th>Test Accuracy</th>\n",
       "    </tr>\n",
       "  </thead>\n",
       "  <tbody>\n",
       "    <tr>\n",
       "      <th>0</th>\n",
       "      <td>Polynomial</td>\n",
       "      <td>0.0001</td>\n",
       "      <td>0.108500</td>\n",
       "      <td>0.1020</td>\n",
       "      <td>0.0875</td>\n",
       "    </tr>\n",
       "    <tr>\n",
       "      <th>1</th>\n",
       "      <td>Polynomial</td>\n",
       "      <td>0.0005</td>\n",
       "      <td>0.108500</td>\n",
       "      <td>0.1020</td>\n",
       "      <td>0.0875</td>\n",
       "    </tr>\n",
       "    <tr>\n",
       "      <th>2</th>\n",
       "      <td>Polynomial</td>\n",
       "      <td>0.0010</td>\n",
       "      <td>0.111500</td>\n",
       "      <td>0.1040</td>\n",
       "      <td>0.0905</td>\n",
       "    </tr>\n",
       "    <tr>\n",
       "      <th>3</th>\n",
       "      <td>Polynomial</td>\n",
       "      <td>0.0050</td>\n",
       "      <td>0.202500</td>\n",
       "      <td>0.1855</td>\n",
       "      <td>0.1795</td>\n",
       "    </tr>\n",
       "    <tr>\n",
       "      <th>4</th>\n",
       "      <td>Polynomial</td>\n",
       "      <td>0.0100</td>\n",
       "      <td>0.220667</td>\n",
       "      <td>0.2135</td>\n",
       "      <td>0.2000</td>\n",
       "    </tr>\n",
       "    <tr>\n",
       "      <th>5</th>\n",
       "      <td>Polynomial</td>\n",
       "      <td>0.0500</td>\n",
       "      <td>0.273167</td>\n",
       "      <td>0.2495</td>\n",
       "      <td>0.2420</td>\n",
       "    </tr>\n",
       "    <tr>\n",
       "      <th>6</th>\n",
       "      <td>Polynomial</td>\n",
       "      <td>0.1000</td>\n",
       "      <td>0.326667</td>\n",
       "      <td>0.2750</td>\n",
       "      <td>0.2700</td>\n",
       "    </tr>\n",
       "  </tbody>\n",
       "</table>\n",
       "</div>"
      ],
      "text/plain": [
       "       Kernel       C  Train Accuracy  Validation Accuracy  Test Accuracy\n",
       "0  Polynomial  0.0001        0.108500               0.1020         0.0875\n",
       "1  Polynomial  0.0005        0.108500               0.1020         0.0875\n",
       "2  Polynomial  0.0010        0.111500               0.1040         0.0905\n",
       "3  Polynomial  0.0050        0.202500               0.1855         0.1795\n",
       "4  Polynomial  0.0100        0.220667               0.2135         0.2000\n",
       "5  Polynomial  0.0500        0.273167               0.2495         0.2420\n",
       "6  Polynomial  0.1000        0.326667               0.2750         0.2700"
      ]
     },
     "execution_count": 17,
     "metadata": {},
     "output_type": "execute_result"
    }
   ],
   "source": [
    "# Create a dataframe with the results\n",
    "results_df = pd.DataFrame(results)\n",
    "results_df"
   ]
  },
  {
   "cell_type": "markdown",
   "metadata": {
    "id": "_Q8qlc-EtVR4"
   },
   "source": [
    "Classifier 2: Grid Search - Cross Validation"
   ]
  },
  {
   "cell_type": "code",
   "execution_count": 18,
   "metadata": {
    "colab": {
     "base_uri": "https://localhost:8080/"
    },
    "id": "7EOO3qwctix7",
    "outputId": "6980133b-5b5e-415e-877e-94c297576636"
   },
   "outputs": [
    {
     "name": "stderr",
     "output_type": "stream",
     "text": [
      "C:\\Program Files\\Python311\\Lib\\site-packages\\sklearn\\utils\\validation.py:1408: DataConversionWarning: A column-vector y was passed when a 1d array was expected. Please change the shape of y to (n_samples, ), for example using ravel().\n",
      "  y = column_or_1d(y, warn=True)\n"
     ]
    },
    {
     "name": "stdout",
     "output_type": "stream",
     "text": [
      "Best Parameters: {'C': 0.0005, 'gamma': 'scale', 'kernel': 'linear'}\n"
     ]
    }
   ],
   "source": [
    "# defining parameter range\n",
    "param_grid = {'C': [0.0001, 0.0005, 0.001, 0.005, 0.01, 0.05, 0.1],\n",
    "              'gamma': ['scale', 'auto'],\n",
    "              'kernel': ['linear', 'rbf', 'poly']}\n",
    "# svm classifier\n",
    "svm_classifier2 = SVC()\n",
    "\n",
    "# grid search\n",
    "grid_search = GridSearchCV(svm_classifier2, param_grid, cv=5, n_jobs=-1)  # cv=5 για 5-fold cross-validation\n",
    "\n",
    "# train grid_search\n",
    "grid_search.fit(X_train, y_train)\n",
    "\n",
    "# find best parameters of grid search\n",
    "best_params = grid_search.best_params_\n",
    "print(\"Best Parameters:\", best_params)"
   ]
  },
  {
   "cell_type": "code",
   "execution_count": 19,
   "metadata": {
    "colab": {
     "base_uri": "https://localhost:8080/"
    },
    "id": "Cxv1_TJqcqb-",
    "outputId": "7ba4978e-1e73-409c-c1a6-4c65557157d6"
   },
   "outputs": [
    {
     "name": "stdout",
     "output_type": "stream",
     "text": [
      "Best Accuracy: 0.36483333333333334\n"
     ]
    }
   ],
   "source": [
    "acc = grid_search.best_score_\n",
    "print(\"Best Accuracy:\", acc)"
   ]
  },
  {
   "cell_type": "code",
   "execution_count": 20,
   "metadata": {
    "id": "rRW2mgax_yy2"
   },
   "outputs": [
    {
     "name": "stdout",
     "output_type": "stream",
     "text": [
      "Train Set Accuracy: 0.4035\n",
      "Validation Set Accuracy: 0.367\n",
      "Test Set Accuracy: 0.3645\n"
     ]
    }
   ],
   "source": [
    "# Train set Accuracy\n",
    "y_train_pred = grid_search.predict(X_train)\n",
    "train_accuracy = accuracy_score(y_train.ravel(), y_train_pred)\n",
    "print(\"Train Set Accuracy:\", train_accuracy)\n",
    "\n",
    "# Validation set Accuracy\n",
    "y_val_pred = grid_search.predict(X_val)\n",
    "val_accuracy = accuracy_score(y_val.ravel(), y_val_pred)\n",
    "print(\"Validation Set Accuracy:\", val_accuracy)\n",
    "\n",
    "# Test set Accuracy\n",
    "y_test_pred = grid_search.predict(X_test)\n",
    "test_accuracy = accuracy_score(y_test.ravel(), y_test_pred)\n",
    "print(\"Test Set Accuracy:\", test_accuracy)\n"
   ]
  },
  {
   "cell_type": "code",
   "execution_count": 21,
   "metadata": {
    "id": "gWXDGDKF_HQe"
   },
   "outputs": [
    {
     "name": "stdout",
     "output_type": "stream",
     "text": [
      "    Prediction  Actual Value\n",
      "0            4             4\n",
      "1            1             1\n",
      "2            5             7\n",
      "3            8             9\n",
      "4            9             3\n",
      "5            0             8\n",
      "6            3             7\n",
      "7            3             3\n",
      "8            0             0\n",
      "9            5             4\n",
      "10           5             5\n",
      "11           3             5\n",
      "12           0             0\n",
      "13           8             0\n",
      "14           0             2\n",
      "15           5             5\n",
      "16           5             9\n",
      "17           7             9\n",
      "18           2             6\n",
      "19           9             1\n"
     ]
    }
   ],
   "source": [
    "import pandas as pd\n",
    "\n",
    "pred = grid_search.predict(X_test)\n",
    "svm_results = pred[:20].ravel()\n",
    "yTest_results = y_test[:20].ravel()\n",
    "\n",
    "# DataFrame with predicted and actual values\n",
    "results_df = pd.DataFrame({\n",
    "    'Prediction': svm_results,\n",
    "    'Actual Value': yTest_results\n",
    "})\n",
    "\n",
    "# print the dataframe\n",
    "print(results_df)"
   ]
  },
  {
   "cell_type": "code",
   "execution_count": 22,
   "metadata": {
    "id": "ftJAqREKDFCK"
   },
   "outputs": [
    {
     "name": "stdout",
     "output_type": "stream",
     "text": [
      "Correct Predictions: [0, 1, 7, 8, 10, 12, 15]\n",
      "Incorrect Predictions: [2, 3, 4, 5, 6, 9, 11, 13, 14, 16, 17, 18, 19]\n"
     ]
    }
   ],
   "source": [
    "# Create lists for correct and incorrect predictions\n",
    "correct_predictions = []\n",
    "incorrect_predictions = []\n",
    "\n",
    "for i in range(len(svm_results)):\n",
    "    if svm_results[i] == yTest_results[i]:\n",
    "        correct_predictions.append(i)\n",
    "    else:\n",
    "        incorrect_predictions.append(i)\n",
    "\n",
    "print(\"Correct Predictions:\", correct_predictions)\n",
    "print(\"Incorrect Predictions:\", incorrect_predictions)"
   ]
  },
  {
   "cell_type": "code",
   "execution_count": 23,
   "metadata": {
    "id": "NMHhQ-p1DSQM"
   },
   "outputs": [],
   "source": [
    "# Data reconstruction\n",
    "X_test_reconstructed = pca_cifar.inverse_transform(X_test)\n",
    "\n",
    "X_test_reconstructed = np.clip(X_test_reconstructed, 0, 1)\n",
    "X_test_reconstructed = X_test_reconstructed.astype(np.float32)"
   ]
  },
  {
   "cell_type": "code",
   "execution_count": 24,
   "metadata": {
    "id": "rkfzUoLZDa4B"
   },
   "outputs": [
    {
     "data": {
      "text/plain": [
       "<Figure size 1200x600 with 0 Axes>"
      ]
     },
     "execution_count": 24,
     "metadata": {},
     "output_type": "execute_result"
    },
    {
     "data": {
      "text/plain": [
       "<Figure size 1200x600 with 0 Axes>"
      ]
     },
     "metadata": {},
     "output_type": "display_data"
    }
   ],
   "source": [
    "import numpy as np\n",
    "import matplotlib.pyplot as plt\n",
    "\n",
    "# Class names\n",
    "classesName = ['airplane', 'automobile', 'bird', 'cat', 'deer', 'dog', 'frog', 'horse', 'ship', 'truck']\n",
    "\n",
    "# Image preparation\n",
    "def plt_img(x):\n",
    "    nrow = 32\n",
    "    ncol = 32\n",
    "    ncolors = 3\n",
    "    xsq = x.reshape((nrow, ncol, ncolors))\n",
    "    plt.imshow(xsq)\n",
    "\n",
    "# Number of images to plot (2 correct & 2 incorrect)\n",
    "nplt = 2\n",
    "\n",
    "# Plot correct predictions\n",
    "plt.figure(figsize=(12, 6))"
   ]
  },
  {
   "cell_type": "code",
   "execution_count": 25,
   "metadata": {
    "id": "Bxxt6BUhDUnY"
   },
   "outputs": [
    {
     "data": {
      "image/png": "[encoded data removed]",
      "text/plain": [
       "<Figure size 640x480 with 2 Axes>"
      ]
     },
     "metadata": {},
     "output_type": "display_data"
    }
   ],
   "source": [
    "# Plot correct predictions\n",
    "for i in range(nplt):\n",
    "   plt.subplot(1, nplt, i + 1)\n",
    "   ind = correct_predictions[i]  # select the correct sample\n",
    "   plt_img(X_test_reconstructed[ind, :])  # use of reconstructed data for plotting\n",
    "\n",
    "   # Actual and Predicted label\n",
    "   true_label = classesName[int(y_test[ind])]  # actual label\n",
    "   est_label = classesName[int(pred[ind])]  # predicted label\n",
    "\n",
    "   # Τίτλος εικόνας\n",
    "   plt.title(f'True={true_label} Est={est_label}')"
   ]
  },
  {
   "cell_type": "code",
   "execution_count": 26,
   "metadata": {
    "id": "p_EEKYJ_DpVD"
   },
   "outputs": [
    {
     "data": {
      "image/png": "[encoded data removed]",
      "text/plain": [
       "<Figure size 640x480 with 2 Axes>"
      ]
     },
     "metadata": {},
     "output_type": "display_data"
    }
   ],
   "source": [
    "# Plot incorrect predictions\n",
    "for i in range(nplt):\n",
    "    plt.subplot(1, nplt, i + 1)\n",
    "    ind = incorrect_predictions[i] # select the incorrect sample\n",
    "    plt_img(X_test_reconstructed[ind, :]) # use of reconstructed data for plotting\n",
    "\n",
    "    # Actual and Predicted label\n",
    "    true_label = classesName[int(y_test[ind])]  # actual label\n",
    "    est_label = classesName[int(pred[ind])]  # predicted label\n",
    "\n",
    "    # Τίτλος εικόνας\n",
    "    plt.title(f'True={true_label} Est={est_label}')"
   ]
  }
 ],
 "metadata": {
  "colab": {
   "provenance": []
  },
  "kernelspec": {
   "display_name": "Python 3 (ipykernel)",
   "language": "python",
   "name": "python3"
  },
  "language_info": {
   "codemirror_mode": {
    "name": "ipython",
    "version": 3
   },
   "file_extension": ".py",
   "mimetype": "text/x-python",
   "name": "python",
   "nbconvert_exporter": "python",
   "pygments_lexer": "ipython3",
   "version": "3.11.4"
  }
 },
 "nbformat": 4,
 "nbformat_minor": 4
}
