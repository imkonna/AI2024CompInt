{
  "cells": [
    {
      "cell_type": "markdown",
      "metadata": {
        "id": "YuWIQiISnghc"
      },
      "source": [
        "**Importing** **Libraries**"
      ]
    },
    {
      "cell_type": "code",
      "execution_count": 21,
      "metadata": {
        "id": "34mKA0YqY1J_"
      },
      "outputs": [],
      "source": [
        "import tensorflow as tf\n",
        "import numpy as np\n",
        "import matplotlib.pyplot as plt\n",
        "import pandas as pd\n",
        "import time\n",
        "\n",
        "from sklearn.model_selection import train_test_split\n",
        "from sklearn.preprocessing import StandardScaler # for Standardization\n",
        "from sklearn.metrics import accuracy_score, confusion_matrix, classification_report\n",
        "from sklearn.decomposition import PCA\n",
        "from sklearn.svm import SVC  # for classification\n",
        "from sklearn.model_selection import GridSearchCV\n",
        "from sklearn import svm"
      ]
    },
    {
      "cell_type": "markdown",
      "metadata": {
        "id": "q2a6rPhGp4aC"
      },
      "source": [
        "**Loading Dataset CIFAR10**"
      ]
    },
    {
      "cell_type": "code",
      "execution_count": 22,
      "metadata": {
        "id": "wqJhgCp-p9c_"
      },
      "outputs": [],
      "source": [
        "cifar10 = tf.keras.datasets.cifar10\n",
        "(X, y), (X_test, y_test) = cifar10.load_data() # load cifar10"
      ]
    },
    {
      "cell_type": "markdown",
      "metadata": {
        "id": "heSCT-Wn4iXk"
      },
      "source": [
        "**Split Data Process**\n",
        "\n",
        "Επειδή ο διαχωρισμός των δεδομένων σε train-test γίνεται αυτόματα σε 90%-10% χρησιμοποιώ την μέθοδο concatenate(), ώστε να ενοποιήσω τα σύνολα εκπαίδευσης - δοκιμής και στη συνέχεια τα ξαναχωρίζω σε train-validation-test με ποσοστά 60%-20%-20%.\n",
        "\n",
        "**Επιλέγω τυχαία ένα υποσύνολο του συνολικού dataset cifar10."
      ]
    },
    {
      "cell_type": "code",
      "execution_count": 23,
      "metadata": {
        "id": "FBaDvC_z5_TS"
      },
      "outputs": [],
      "source": [
        "# combine train and test dataset\n",
        "X_full = np.concatenate((X, X_test), axis=0)\n",
        "y_full = np.concatenate((y, y_test), axis=0)\n",
        "\n",
        "# select a random subset\n",
        "subset_size = 10000\n",
        "indices = np.random.choice(len(X_full), size=subset_size, replace=False)\n",
        "X_full = X_full[indices]\n",
        "y_full = y_full[indices]\n",
        "\n",
        "# Split data into train-validation-test sets (60%-20%-20%)\n",
        "X_train, X_test, y_train, y_test = train_test_split(X_full, y_full, test_size=0.4,\n",
        "                                                    random_state=0)\n",
        "\n",
        "X_val, X_test, y_val, y_test = train_test_split(X_test, y_test, test_size=0.5,\n",
        "                                                random_state=0)"
      ]
    },
    {
      "cell_type": "markdown",
      "metadata": {
        "id": "SU08IDkuBkC4"
      },
      "source": [
        "**Data** **Preprocessing**\n",
        "\n",
        "Εαν εμφανίσουμε το σχήμα των δεδομένων εκπαίδευσης - δοκιμής με την μέθοδο\n",
        "shape() βλέπουμε τις 4 διαστάσεις του πίνακα που περιέχει τις εικόνες.\n",
        "\n",
        "1. Για τα δεδομένα-εικόνες: Η πρώτη διάσταση δείχνει τον αριθμώ των εικόνων, η δεύτερη και η τρίτη το ύψος και το πλάτος των εικόνων σε pixel και η τέταρτη τον αριθμό των καναλιών χρώματος (RGB).\n",
        "\n",
        "2. Για τα δεδομένα-labels: Η πρώτη διάσταση δείχνει τον αριθμώ των εικόνων και η δεύτερη ότι για κάθε εικόνα αντιστοιχεί ένα label δηλαδή μία κατηγορία που αναπαριστά κάθε εικόνα."
      ]
    },
    {
      "cell_type": "code",
      "execution_count": 24,
      "metadata": {
        "id": "m1uVJcvbBxbF",
        "colab": {
          "base_uri": "https://localhost:8080/"
        },
        "outputId": "56d94b94-144b-4027-a478-f4e9947821b5"
      },
      "outputs": [
        {
          "output_type": "stream",
          "name": "stdout",
          "text": [
            "X_train.shape: (6000, 32, 32, 3)\n",
            "y_train.shape: (6000, 1)\n",
            "X_test.shape: (2000, 32, 32, 3)\n",
            "y_test.shape: (2000, 1)\n",
            "X_val.shape: (2000, 32, 32, 3)\n",
            "y_val.shape: (2000, 1)\n"
          ]
        }
      ],
      "source": [
        "print(\"X_train.shape: {}\\ny_train.shape: {}\\nX_test.shape: {}\\ny_test.shape: {}\\nX_val.shape: {}\\ny_val.shape: {}\".format(X_train.shape, y_train.shape,\n",
        "                                                                                                                          X_test.shape, y_test.shape,\n",
        "                                                                                                                          X_val.shape, y_val.shape))"
      ]
    },
    {
      "cell_type": "markdown",
      "metadata": {
        "id": "tou0cGVvF_DR"
      },
      "source": [
        "Ο SVM δεν μπορεί να επεξεργαστεί δεδομένα εικόνας απευθείας σε μορφή πίνακα 2D ή 3D. Επομένως, για να μπορέσει να δεχθεί τις εικόνες ως δεδομένα εισόδου και να ακολουθήσει η διαδικασία εκπαίδευσης - δοκιμής θα πρέπει πρώτα να γίνει μετατροπή (reshape()) των δεδομένων σε μονοδιάστατα διανύσματα (flat vectors).\n"
      ]
    },
    {
      "cell_type": "code",
      "execution_count": 25,
      "metadata": {
        "id": "zNoKGn5qJce8",
        "colab": {
          "base_uri": "https://localhost:8080/"
        },
        "outputId": "aaed1d9e-83a2-4fcb-bbeb-4c73d52f225d"
      },
      "outputs": [
        {
          "output_type": "stream",
          "name": "stdout",
          "text": [
            "X_train.shape: (6000, 3072)\n",
            "y_train.shape: (6000, 1)\n",
            "X_test.shape: (2000, 3072)\n",
            "y_test.shape: (2000, 1)\n",
            "X_val.shape: (2000, 3072)\n",
            "y_val.shape: (2000, 1)\n"
          ]
        }
      ],
      "source": [
        "# Reshaping Data into vectors\n",
        "X_train = X_train.reshape(X_train.shape[0], -1)\n",
        "X_test = X_test.reshape(X_test.shape[0], -1)\n",
        "X_val = X_val.reshape(X_val.shape[0], -1)\n",
        "\n",
        "print(\"X_train.shape: {}\\ny_train.shape: {}\\nX_test.shape: {}\\ny_test.shape: {}\\nX_val.shape: {}\\ny_val.shape: {}\".format(X_train.shape, y_train.shape,\n",
        "                                                                                                                          X_test.shape, y_test.shape,\n",
        "                                                                                                                          X_val.shape, y_val.shape))"
      ]
    },
    {
      "cell_type": "markdown",
      "metadata": {
        "id": "ssGIeBN_Jj5r"
      },
      "source": [
        "Για τη βελτίωση της απόδοσης του SVM είναι απαραίτητες η \"Κανονικοποίηση\" των δεδομένων και η \"Μέθοδος Ανάλυσης Κύριων Συνιστωσών\" (PCA).\n",
        "\n",
        "Κάνουμε κανονικοποίηση/ για να εξασφαλίσουμε ότι όλα τα χαρακτηρισιτκά έχουν την ίδια κλίμακα, έτσι ώστε να μην κυριαρχούν χαρακτηριστικά σε μεγάλες τιμές στην pca."
      ]
    },
    {
      "cell_type": "markdown",
      "metadata": {
        "id": "RXSGTZFI7Kqr"
      },
      "source": [
        "Πριν κάνω pca βλέπω πόσες συνιστώσες μπορώ κρατήσω ώστε να κρατήσω όσο το δυνατόν περισσότερη πληροφορία."
      ]
    },
    {
      "cell_type": "code",
      "execution_count": 26,
      "metadata": {
        "id": "BCxrAfDe6eqT",
        "colab": {
          "base_uri": "https://localhost:8080/",
          "height": 466
        },
        "outputId": "54547237-6050-418b-f3d4-528755e8f8b1"
      },
      "outputs": [
        {
          "output_type": "execute_result",
          "data": {
            "text/plain": [
              "Text(0, 0.5, 'cumulative explained variance')"
            ]
          },
          "metadata": {},
          "execution_count": 26
        },
        {
          "output_type": "display_data",
          "data": {
            "text/plain": [
              "<Figure size 640x480 with 1 Axes>"
            ],
            "image/png": "[encoded data removed]"
          },
          "metadata": {}
        }
      ],
      "source": [
        "combined=np.vstack((X_train, X_val))\n",
        "\n",
        "pca = PCA().fit(combined)\n",
        "plt.plot(np.cumsum(pca.explained_variance_ratio_))\n",
        "plt.xlabel('number of components')\n",
        "plt.ylabel('cumulative explained variance')"
      ]
    },
    {
      "cell_type": "code",
      "execution_count": 27,
      "metadata": {
        "id": "4ZMRyV3a7Nd0",
        "colab": {
          "base_uri": "https://localhost:8080/"
        },
        "outputId": "f9a95fc6-c542-48e1-96bf-63236608466d"
      },
      "outputs": [
        {
          "output_type": "stream",
          "name": "stdout",
          "text": [
            "0.8447474475084383\n",
            "0.9023471092816866\n",
            "0.9302919201413027\n",
            "0.9848081911564363\n"
          ]
        }
      ],
      "source": [
        "print(pca.explained_variance_ratio_.cumsum()[50])\n",
        "print(pca.explained_variance_ratio_.cumsum()[100])\n",
        "print(pca.explained_variance_ratio_.cumsum()[150])\n",
        "print(pca.explained_variance_ratio_.cumsum()[500])"
      ]
    },
    {
      "cell_type": "code",
      "execution_count": 28,
      "metadata": {
        "id": "Bhps8ExsTfoB"
      },
      "outputs": [],
      "source": [
        "# Standardization of data\n",
        "scaler = StandardScaler()\n",
        "X_train = scaler.fit_transform(X_train)\n",
        "X_test = scaler.transform(X_test)\n",
        "X_val = scaler.transform(X_val)"
      ]
    },
    {
      "cell_type": "code",
      "execution_count": null,
      "metadata": {
        "id": "qmZzRRvKngE3"
      },
      "outputs": [],
      "source": [
        "# Normalization\n",
        "# X_train = X_train / 255.0\n",
        "# X_test = X_test / 255.0\n",
        "# X_val = X_val / 255.0"
      ]
    },
    {
      "cell_type": "markdown",
      "metadata": {
        "id": "MuDlPVzZxJQo"
      },
      "source": [
        "Με το PCA επιτυγχάνεται η μείωση διάστασης των δεδομένων κρατώντας τις πιο σημαντικές συνιστώσες δηλαδή επιτυγχάνεται η αναδόμηση των δεδομένων σε νέες διαστάσεις, δίνοντας ίση βαρύτητα σε όλα τα χαρακτηριστικά εφόσον έχουν προηγηθεί είτε Normalization είτε Standardization."
      ]
    },
    {
      "cell_type": "code",
      "execution_count": 29,
      "metadata": {
        "id": "d9m10U5MToTX",
        "colab": {
          "base_uri": "https://localhost:8080/"
        },
        "outputId": "b9ba2b01-9a98-4612-a861-8227eee7b034"
      },
      "outputs": [
        {
          "output_type": "stream",
          "name": "stdout",
          "text": [
            "X_train.shape: (6000, 50)\n",
            "y_train.shape: (6000, 1)\n",
            "X_test.shape: (2000, 50)\n",
            "y_test.shape: (2000, 1)\n",
            "X_val.shape: (2000, 50)\n",
            "y_val.shape: (2000, 1)\n"
          ]
        }
      ],
      "source": [
        "# pca for dimensionality reduction\n",
        "pca_cifar = PCA(n_components=50)\n",
        "X_train = pca_cifar.fit_transform(X_train)\n",
        "X_test = pca_cifar.transform(X_test)\n",
        "X_val = pca_cifar.transform(X_val)\n",
        "\n",
        "print(\"X_train.shape: {}\\ny_train.shape: {}\\nX_test.shape: {}\\ny_test.shape: {}\\nX_val.shape: {}\\ny_val.shape: {}\".format(X_train.shape, y_train.shape,\n",
        "                                                                                                                          X_test.shape, y_test.shape,\n",
        "                                                                                                                          X_val.shape, y_val.shape))"
      ]
    },
    {
      "cell_type": "markdown",
      "metadata": {
        "id": "-o0URICQUEtp"
      },
      "source": [
        "**Model** **Training**\n",
        "\n",
        "Types of Kernel: Linear, RBF, Polynomial"
      ]
    },
    {
      "cell_type": "markdown",
      "metadata": {
        "id": "qvgvyCbIYlqP"
      },
      "source": [
        "SVM Linear Kernel\n",
        "\n",
        "Δοκιμάζω διαφορετικές τιμές της παραμέτρου C (regularization parameter).\n",
        "Δημιουργία μεθόδου linear_model_method (), η οποία θα παίρνει ως όρισμα διαφορετικές παραμέτρους C από μία λίστα που θα δημιουργήσω."
      ]
    },
    {
      "cell_type": "code",
      "execution_count": 30,
      "metadata": {
        "id": "-ek16QffZm_e"
      },
      "outputs": [],
      "source": [
        "# Prepare variables to store the results\n",
        "train_set_accuracy = []\n",
        "val_set_caccuracy = []\n",
        "test_set_accuracy = []\n",
        "results = []\n",
        "\n",
        "# Function to train SVM with Linear Kernel\n",
        "def linear_model_SVM (c):\n",
        "    start_time = time.time()\n",
        "    svm_classifier = SVC(kernel='linear', C=c)\n",
        "\n",
        "    svm_classifier.fit(X_train, y_train.ravel())\n",
        "\n",
        "    # Accuracy for train set\n",
        "    pred = svm_classifier.predict(X_train)\n",
        "    acc_train = np.mean(pred == y_train.ravel())\n",
        "    train_set_accuracy.append(acc_train)\n",
        "    print(\"Train Accuracy for C = {}: {}\".format(c, acc_train))\n",
        "\n",
        "    # Accuracy for validation set\n",
        "    pred = svm_classifier.predict(X_val)\n",
        "    acc_val = np.mean(pred == y_val.ravel())\n",
        "    val_set_caccuracy.append(acc_val)\n",
        "    print(\"Validation Accuracy for C = {}: {}\".format(c, acc_val))\n",
        "\n",
        "    # Accuracy for test set\n",
        "    pred = svm_classifier.predict(X_test)\n",
        "    acc_test = np.mean(pred == y_test.ravel())\n",
        "    test_set_accuracy.append(acc_test)\n",
        "    print(\"Test Accuracy for C = {}: {}\".format(c, acc_test))\n",
        "\n",
        "    # Run time\n",
        "    end_time = time.time()\n",
        "    run_time = end_time - start_time\n",
        "\n",
        "    results.append({\n",
        "            'Kernel': 'linear',\n",
        "            'C': c,\n",
        "            'Train Accuracy': acc_train,\n",
        "            'Validation Accuracy': acc_val,\n",
        "            'Test Accuracy': acc_test,\n",
        "            'Run time: ': run_time\n",
        "            })"
      ]
    },
    {
      "cell_type": "code",
      "execution_count": 31,
      "metadata": {
        "colab": {
          "base_uri": "https://localhost:8080/",
          "height": 837
        },
        "id": "BCu2rPJVtJX1",
        "outputId": "9b35a7f4-9512-4d21-a139-704c578f0491"
      },
      "outputs": [
        {
          "output_type": "stream",
          "name": "stdout",
          "text": [
            "Train Accuracy for C = 0.0001: 0.4051666666666667\n",
            "Validation Accuracy for C = 0.0001: 0.375\n",
            "Test Accuracy for C = 0.0001: 0.3795\n",
            "Train Accuracy for C = 0.0005: 0.42083333333333334\n",
            "Validation Accuracy for C = 0.0005: 0.363\n",
            "Test Accuracy for C = 0.0005: 0.3795\n",
            "Train Accuracy for C = 0.001: 0.4275\n",
            "Validation Accuracy for C = 0.001: 0.363\n",
            "Test Accuracy for C = 0.001: 0.381\n",
            "Train Accuracy for C = 0.005: 0.42716666666666664\n",
            "Validation Accuracy for C = 0.005: 0.364\n",
            "Test Accuracy for C = 0.005: 0.374\n",
            "Train Accuracy for C = 0.01: 0.42683333333333334\n",
            "Validation Accuracy for C = 0.01: 0.3635\n",
            "Test Accuracy for C = 0.01: 0.38\n",
            "Train Accuracy for C = 0.05: 0.42716666666666664\n",
            "Validation Accuracy for C = 0.05: 0.3675\n",
            "Test Accuracy for C = 0.05: 0.38\n",
            "Train Accuracy for C = 0.1: 0.427\n",
            "Validation Accuracy for C = 0.1: 0.367\n",
            "Test Accuracy for C = 0.1: 0.3785\n"
          ]
        },
        {
          "output_type": "display_data",
          "data": {
            "text/plain": [
              "<Figure size 640x480 with 1 Axes>"
            ],
            "image/png": "[encoded data removed]"
          },
          "metadata": {}
        }
      ],
      "source": [
        "# Run SVM model for different C values\n",
        "C_values = [0.0001, 0.0005, 0.001, 0.005, 0.01, 0.05, 0.1]\n",
        "\n",
        "for c in C_values:\n",
        "  linear_model_SVM(c)\n",
        "\n",
        "# Print the results\n",
        "plt.plot(C_values, train_set_accuracy,'.-',color='red')\n",
        "plt.plot(C_values, test_set_accuracy,'.-',color='blue')\n",
        "plt.plot(C_values, val_set_caccuracy,'.-',color='green')\n",
        "plt.title(\"Plot of accuracy vs c for training and test data\")\n",
        "plt.xlabel('c')\n",
        "plt.ylabel('Accuracy')\n",
        "plt.grid()"
      ]
    },
    {
      "cell_type": "code",
      "execution_count": 32,
      "metadata": {
        "colab": {
          "base_uri": "https://localhost:8080/",
          "height": 269
        },
        "id": "fFAtzRA70uEa",
        "outputId": "8a9b058a-c852-46a5-e884-90f54c2647ff"
      },
      "outputs": [
        {
          "output_type": "execute_result",
          "data": {
            "text/plain": [
              "   Kernel       C  Train Accuracy  Validation Accuracy  Test Accuracy  \\\n",
              "0  linear  0.0001        0.405167               0.3750         0.3795   \n",
              "1  linear  0.0005        0.420833               0.3630         0.3795   \n",
              "2  linear  0.0010        0.427500               0.3630         0.3810   \n",
              "3  linear  0.0050        0.427167               0.3640         0.3740   \n",
              "4  linear  0.0100        0.426833               0.3635         0.3800   \n",
              "5  linear  0.0500        0.427167               0.3675         0.3800   \n",
              "6  linear  0.1000        0.427000               0.3670         0.3785   \n",
              "\n",
              "   Run time:   \n",
              "0    5.595744  \n",
              "1    4.094859  \n",
              "2    4.252419  \n",
              "3    7.346584  \n",
              "4    7.701483  \n",
              "5   26.509916  \n",
              "6   48.127741  "
            ],
            "text/html": [
              "\n",
              "  <div id=\"df-a85edf37-9a3a-46cf-89bc-cfa3305a9e75\" class=\"colab-df-container\">\n",
              "    <div>\n",
              "<style scoped>\n",
              "    .dataframe tbody tr th:only-of-type {\n",
              "        vertical-align: middle;\n",
              "    }\n",
              "\n",
              "    .dataframe tbody tr th {\n",
              "        vertical-align: top;\n",
              "    }\n",
              "\n",
              "    .dataframe thead th {\n",
              "        text-align: right;\n",
              "    }\n",
              "</style>\n",
              "<table border=\"1\" class=\"dataframe\">\n",
              "  <thead>\n",
              "    <tr style=\"text-align: right;\">\n",
              "      <th></th>\n",
              "      <th>Kernel</th>\n",
              "      <th>C</th>\n",
              "      <th>Train Accuracy</th>\n",
              "      <th>Validation Accuracy</th>\n",
              "      <th>Test Accuracy</th>\n",
              "      <th>Run time:</th>\n",
              "    </tr>\n",
              "  </thead>\n",
              "  <tbody>\n",
              "    <tr>\n",
              "      <th>0</th>\n",
              "      <td>linear</td>\n",
              "      <td>0.0001</td>\n",
              "      <td>0.405167</td>\n",
              "      <td>0.3750</td>\n",
              "      <td>0.3795</td>\n",
              "      <td>5.595744</td>\n",
              "    </tr>\n",
              "    <tr>\n",
              "      <th>1</th>\n",
              "      <td>linear</td>\n",
              "      <td>0.0005</td>\n",
              "      <td>0.420833</td>\n",
              "      <td>0.3630</td>\n",
              "      <td>0.3795</td>\n",
              "      <td>4.094859</td>\n",
              "    </tr>\n",
              "    <tr>\n",
              "      <th>2</th>\n",
              "      <td>linear</td>\n",
              "      <td>0.0010</td>\n",
              "      <td>0.427500</td>\n",
              "      <td>0.3630</td>\n",
              "      <td>0.3810</td>\n",
              "      <td>4.252419</td>\n",
              "    </tr>\n",
              "    <tr>\n",
              "      <th>3</th>\n",
              "      <td>linear</td>\n",
              "      <td>0.0050</td>\n",
              "      <td>0.427167</td>\n",
              "      <td>0.3640</td>\n",
              "      <td>0.3740</td>\n",
              "      <td>7.346584</td>\n",
              "    </tr>\n",
              "    <tr>\n",
              "      <th>4</th>\n",
              "      <td>linear</td>\n",
              "      <td>0.0100</td>\n",
              "      <td>0.426833</td>\n",
              "      <td>0.3635</td>\n",
              "      <td>0.3800</td>\n",
              "      <td>7.701483</td>\n",
              "    </tr>\n",
              "    <tr>\n",
              "      <th>5</th>\n",
              "      <td>linear</td>\n",
              "      <td>0.0500</td>\n",
              "      <td>0.427167</td>\n",
              "      <td>0.3675</td>\n",
              "      <td>0.3800</td>\n",
              "      <td>26.509916</td>\n",
              "    </tr>\n",
              "    <tr>\n",
              "      <th>6</th>\n",
              "      <td>linear</td>\n",
              "      <td>0.1000</td>\n",
              "      <td>0.427000</td>\n",
              "      <td>0.3670</td>\n",
              "      <td>0.3785</td>\n",
              "      <td>48.127741</td>\n",
              "    </tr>\n",
              "  </tbody>\n",
              "</table>\n",
              "</div>\n",
              "    <div class=\"colab-df-buttons\">\n",
              "\n",
              "  <div class=\"colab-df-container\">\n",
              "    <button class=\"colab-df-convert\" onclick=\"convertToInteractive('df-a85edf37-9a3a-46cf-89bc-cfa3305a9e75')\"\n",
              "            title=\"Convert this dataframe to an interactive table.\"\n",
              "            style=\"display:none;\">\n",
              "\n",
              "  <svg xmlns=\"http://www.w3.org/2000/svg\" height=\"24px\" viewBox=\"0 -960 960 960\">\n",
              "    <path d=\"M120-120v-720h720v720H120Zm60-500h600v-160H180v160Zm220 220h160v-160H400v160Zm0 220h160v-160H400v160ZM180-400h160v-160H180v160Zm440 0h160v-160H620v160ZM180-180h160v-160H180v160Zm440 0h160v-160H620v160Z\"/>\n",
              "  </svg>\n",
              "    </button>\n",
              "\n",
              "  <style>\n",
              "    .colab-df-container {\n",
              "      display:flex;\n",
              "      gap: 12px;\n",
              "    }\n",
              "\n",
              "    .colab-df-convert {\n",
              "      background-color: #E8F0FE;\n",
              "      border: none;\n",
              "      border-radius: 50%;\n",
              "      cursor: pointer;\n",
              "      display: none;\n",
              "      fill: #1967D2;\n",
              "      height: 32px;\n",
              "      padding: 0 0 0 0;\n",
              "      width: 32px;\n",
              "    }\n",
              "\n",
              "    .colab-df-convert:hover {\n",
              "      background-color: #E2EBFA;\n",
              "      box-shadow: 0px 1px 2px rgba(60, 64, 67, 0.3), 0px 1px 3px 1px rgba(60, 64, 67, 0.15);\n",
              "      fill: #174EA6;\n",
              "    }\n",
              "\n",
              "    .colab-df-buttons div {\n",
              "      margin-bottom: 4px;\n",
              "    }\n",
              "\n",
              "    [theme=dark] .colab-df-convert {\n",
              "      background-color: #3B4455;\n",
              "      fill: #D2E3FC;\n",
              "    }\n",
              "\n",
              "    [theme=dark] .colab-df-convert:hover {\n",
              "      background-color: #434B5C;\n",
              "      box-shadow: 0px 1px 3px 1px rgba(0, 0, 0, 0.15);\n",
              "      filter: drop-shadow(0px 1px 2px rgba(0, 0, 0, 0.3));\n",
              "      fill: #FFFFFF;\n",
              "    }\n",
              "  </style>\n",
              "\n",
              "    <script>\n",
              "      const buttonEl =\n",
              "        document.querySelector('#df-a85edf37-9a3a-46cf-89bc-cfa3305a9e75 button.colab-df-convert');\n",
              "      buttonEl.style.display =\n",
              "        google.colab.kernel.accessAllowed ? 'block' : 'none';\n",
              "\n",
              "      async function convertToInteractive(key) {\n",
              "        const element = document.querySelector('#df-a85edf37-9a3a-46cf-89bc-cfa3305a9e75');\n",
              "        const dataTable =\n",
              "          await google.colab.kernel.invokeFunction('convertToInteractive',\n",
              "                                                    [key], {});\n",
              "        if (!dataTable) return;\n",
              "\n",
              "        const docLinkHtml = 'Like what you see? Visit the ' +\n",
              "          '<a target=\"_blank\" href=https://colab.research.google.com/notebooks/data_table.ipynb>data table notebook</a>'\n",
              "          + ' to learn more about interactive tables.';\n",
              "        element.innerHTML = '';\n",
              "        dataTable['output_type'] = 'display_data';\n",
              "        await google.colab.output.renderOutput(dataTable, element);\n",
              "        const docLink = document.createElement('div');\n",
              "        docLink.innerHTML = docLinkHtml;\n",
              "        element.appendChild(docLink);\n",
              "      }\n",
              "    </script>\n",
              "  </div>\n",
              "\n",
              "\n",
              "<div id=\"df-9973fba9-64a2-41da-92e5-b2d0b0c3a734\">\n",
              "  <button class=\"colab-df-quickchart\" onclick=\"quickchart('df-9973fba9-64a2-41da-92e5-b2d0b0c3a734')\"\n",
              "            title=\"Suggest charts\"\n",
              "            style=\"display:none;\">\n",
              "\n",
              "<svg xmlns=\"http://www.w3.org/2000/svg\" height=\"24px\"viewBox=\"0 0 24 24\"\n",
              "     width=\"24px\">\n",
              "    <g>\n",
              "        <path d=\"M19 3H5c-1.1 0-2 .9-2 2v14c0 1.1.9 2 2 2h14c1.1 0 2-.9 2-2V5c0-1.1-.9-2-2-2zM9 17H7v-7h2v7zm4 0h-2V7h2v10zm4 0h-2v-4h2v4z\"/>\n",
              "    </g>\n",
              "</svg>\n",
              "  </button>\n",
              "\n",
              "<style>\n",
              "  .colab-df-quickchart {\n",
              "      --bg-color: #E8F0FE;\n",
              "      --fill-color: #1967D2;\n",
              "      --hover-bg-color: #E2EBFA;\n",
              "      --hover-fill-color: #174EA6;\n",
              "      --disabled-fill-color: #AAA;\n",
              "      --disabled-bg-color: #DDD;\n",
              "  }\n",
              "\n",
              "  [theme=dark] .colab-df-quickchart {\n",
              "      --bg-color: #3B4455;\n",
              "      --fill-color: #D2E3FC;\n",
              "      --hover-bg-color: #434B5C;\n",
              "      --hover-fill-color: #FFFFFF;\n",
              "      --disabled-bg-color: #3B4455;\n",
              "      --disabled-fill-color: #666;\n",
              "  }\n",
              "\n",
              "  .colab-df-quickchart {\n",
              "    background-color: var(--bg-color);\n",
              "    border: none;\n",
              "    border-radius: 50%;\n",
              "    cursor: pointer;\n",
              "    display: none;\n",
              "    fill: var(--fill-color);\n",
              "    height: 32px;\n",
              "    padding: 0;\n",
              "    width: 32px;\n",
              "  }\n",
              "\n",
              "  .colab-df-quickchart:hover {\n",
              "    background-color: var(--hover-bg-color);\n",
              "    box-shadow: 0 1px 2px rgba(60, 64, 67, 0.3), 0 1px 3px 1px rgba(60, 64, 67, 0.15);\n",
              "    fill: var(--button-hover-fill-color);\n",
              "  }\n",
              "\n",
              "  .colab-df-quickchart-complete:disabled,\n",
              "  .colab-df-quickchart-complete:disabled:hover {\n",
              "    background-color: var(--disabled-bg-color);\n",
              "    fill: var(--disabled-fill-color);\n",
              "    box-shadow: none;\n",
              "  }\n",
              "\n",
              "  .colab-df-spinner {\n",
              "    border: 2px solid var(--fill-color);\n",
              "    border-color: transparent;\n",
              "    border-bottom-color: var(--fill-color);\n",
              "    animation:\n",
              "      spin 1s steps(1) infinite;\n",
              "  }\n",
              "\n",
              "  @keyframes spin {\n",
              "    0% {\n",
              "      border-color: transparent;\n",
              "      border-bottom-color: var(--fill-color);\n",
              "      border-left-color: var(--fill-color);\n",
              "    }\n",
              "    20% {\n",
              "      border-color: transparent;\n",
              "      border-left-color: var(--fill-color);\n",
              "      border-top-color: var(--fill-color);\n",
              "    }\n",
              "    30% {\n",
              "      border-color: transparent;\n",
              "      border-left-color: var(--fill-color);\n",
              "      border-top-color: var(--fill-color);\n",
              "      border-right-color: var(--fill-color);\n",
              "    }\n",
              "    40% {\n",
              "      border-color: transparent;\n",
              "      border-right-color: var(--fill-color);\n",
              "      border-top-color: var(--fill-color);\n",
              "    }\n",
              "    60% {\n",
              "      border-color: transparent;\n",
              "      border-right-color: var(--fill-color);\n",
              "    }\n",
              "    80% {\n",
              "      border-color: transparent;\n",
              "      border-right-color: var(--fill-color);\n",
              "      border-bottom-color: var(--fill-color);\n",
              "    }\n",
              "    90% {\n",
              "      border-color: transparent;\n",
              "      border-bottom-color: var(--fill-color);\n",
              "    }\n",
              "  }\n",
              "</style>\n",
              "\n",
              "  <script>\n",
              "    async function quickchart(key) {\n",
              "      const quickchartButtonEl =\n",
              "        document.querySelector('#' + key + ' button');\n",
              "      quickchartButtonEl.disabled = true;  // To prevent multiple clicks.\n",
              "      quickchartButtonEl.classList.add('colab-df-spinner');\n",
              "      try {\n",
              "        const charts = await google.colab.kernel.invokeFunction(\n",
              "            'suggestCharts', [key], {});\n",
              "      } catch (error) {\n",
              "        console.error('Error during call to suggestCharts:', error);\n",
              "      }\n",
              "      quickchartButtonEl.classList.remove('colab-df-spinner');\n",
              "      quickchartButtonEl.classList.add('colab-df-quickchart-complete');\n",
              "    }\n",
              "    (() => {\n",
              "      let quickchartButtonEl =\n",
              "        document.querySelector('#df-9973fba9-64a2-41da-92e5-b2d0b0c3a734 button');\n",
              "      quickchartButtonEl.style.display =\n",
              "        google.colab.kernel.accessAllowed ? 'block' : 'none';\n",
              "    })();\n",
              "  </script>\n",
              "</div>\n",
              "\n",
              "  <div id=\"id_2af4d539-670f-4823-8c82-bd6ab7e01dc7\">\n",
              "    <style>\n",
              "      .colab-df-generate {\n",
              "        background-color: #E8F0FE;\n",
              "        border: none;\n",
              "        border-radius: 50%;\n",
              "        cursor: pointer;\n",
              "        display: none;\n",
              "        fill: #1967D2;\n",
              "        height: 32px;\n",
              "        padding: 0 0 0 0;\n",
              "        width: 32px;\n",
              "      }\n",
              "\n",
              "      .colab-df-generate:hover {\n",
              "        background-color: #E2EBFA;\n",
              "        box-shadow: 0px 1px 2px rgba(60, 64, 67, 0.3), 0px 1px 3px 1px rgba(60, 64, 67, 0.15);\n",
              "        fill: #174EA6;\n",
              "      }\n",
              "\n",
              "      [theme=dark] .colab-df-generate {\n",
              "        background-color: #3B4455;\n",
              "        fill: #D2E3FC;\n",
              "      }\n",
              "\n",
              "      [theme=dark] .colab-df-generate:hover {\n",
              "        background-color: #434B5C;\n",
              "        box-shadow: 0px 1px 3px 1px rgba(0, 0, 0, 0.15);\n",
              "        filter: drop-shadow(0px 1px 2px rgba(0, 0, 0, 0.3));\n",
              "        fill: #FFFFFF;\n",
              "      }\n",
              "    </style>\n",
              "    <button class=\"colab-df-generate\" onclick=\"generateWithVariable('results_df')\"\n",
              "            title=\"Generate code using this dataframe.\"\n",
              "            style=\"display:none;\">\n",
              "\n",
              "  <svg xmlns=\"http://www.w3.org/2000/svg\" height=\"24px\"viewBox=\"0 0 24 24\"\n",
              "       width=\"24px\">\n",
              "    <path d=\"M7,19H8.4L18.45,9,17,7.55,7,17.6ZM5,21V16.75L18.45,3.32a2,2,0,0,1,2.83,0l1.4,1.43a1.91,1.91,0,0,1,.58,1.4,1.91,1.91,0,0,1-.58,1.4L9.25,21ZM18.45,9,17,7.55Zm-12,3A5.31,5.31,0,0,0,4.9,8.1,5.31,5.31,0,0,0,1,6.5,5.31,5.31,0,0,0,4.9,4.9,5.31,5.31,0,0,0,6.5,1,5.31,5.31,0,0,0,8.1,4.9,5.31,5.31,0,0,0,12,6.5,5.46,5.46,0,0,0,6.5,12Z\"/>\n",
              "  </svg>\n",
              "    </button>\n",
              "    <script>\n",
              "      (() => {\n",
              "      const buttonEl =\n",
              "        document.querySelector('#id_2af4d539-670f-4823-8c82-bd6ab7e01dc7 button.colab-df-generate');\n",
              "      buttonEl.style.display =\n",
              "        google.colab.kernel.accessAllowed ? 'block' : 'none';\n",
              "\n",
              "      buttonEl.onclick = () => {\n",
              "        google.colab.notebook.generateWithVariable('results_df');\n",
              "      }\n",
              "      })();\n",
              "    </script>\n",
              "  </div>\n",
              "\n",
              "    </div>\n",
              "  </div>\n"
            ],
            "application/vnd.google.colaboratory.intrinsic+json": {
              "type": "dataframe",
              "variable_name": "results_df",
              "summary": "{\n  \"name\": \"results_df\",\n  \"rows\": 7,\n  \"fields\": [\n    {\n      \"column\": \"Kernel\",\n      \"properties\": {\n        \"dtype\": \"category\",\n        \"num_unique_values\": 1,\n        \"samples\": [\n          \"linear\"\n        ],\n        \"semantic_type\": \"\",\n        \"description\": \"\"\n      }\n    },\n    {\n      \"column\": \"C\",\n      \"properties\": {\n        \"dtype\": \"number\",\n        \"std\": 0.037993815286175195,\n        \"min\": 0.0001,\n        \"max\": 0.1,\n        \"num_unique_values\": 7,\n        \"samples\": [\n          0.0001\n        ],\n        \"semantic_type\": \"\",\n        \"description\": \"\"\n      }\n    },\n    {\n      \"column\": \"Train Accuracy\",\n      \"properties\": {\n        \"dtype\": \"number\",\n        \"std\": 0.008249498942616616,\n        \"min\": 0.4051666666666667,\n        \"max\": 0.4275,\n        \"num_unique_values\": 6,\n        \"samples\": [\n          0.4051666666666667\n        ],\n        \"semantic_type\": \"\",\n        \"description\": \"\"\n      }\n    },\n    {\n      \"column\": \"Validation Accuracy\",\n      \"properties\": {\n        \"dtype\": \"number\",\n        \"std\": 0.004327376858581942,\n        \"min\": 0.363,\n        \"max\": 0.375,\n        \"num_unique_values\": 6,\n        \"samples\": [\n          0.375\n        ],\n        \"semantic_type\": \"\",\n        \"description\": \"\"\n      }\n    },\n    {\n      \"column\": \"Test Accuracy\",\n      \"properties\": {\n        \"dtype\": \"number\",\n        \"std\": 0.0022990681342044423,\n        \"min\": 0.374,\n        \"max\": 0.381,\n        \"num_unique_values\": 5,\n        \"samples\": [\n          0.381\n        ],\n        \"semantic_type\": \"\",\n        \"description\": \"\"\n      }\n    },\n    {\n      \"column\": \"Run time: \",\n      \"properties\": {\n        \"dtype\": \"number\",\n        \"std\": 16.655192269842914,\n        \"min\": 4.094858646392822,\n        \"max\": 48.12774133682251,\n        \"num_unique_values\": 7,\n        \"samples\": [\n          5.595743656158447\n        ],\n        \"semantic_type\": \"\",\n        \"description\": \"\"\n      }\n    }\n  ]\n}"
            }
          },
          "metadata": {},
          "execution_count": 32
        }
      ],
      "source": [
        "# Create a dataframe with the results\n",
        "results_df = pd.DataFrame(results)\n",
        "results_df"
      ]
    },
    {
      "cell_type": "markdown",
      "metadata": {
        "id": "IVqOu6QcbIIk"
      },
      "source": [
        "Παρατήρησεις:\n",
        "\n",
        "Για μικρό σύνολο δεδομένων (1000) το accuracy του train set αυξάνεται καθώς αυξάνεται και η τιμή του C (παράγοντας κανονικοποίησης). Αυτό υποδηλώνει ότι το μοντέλο κάνει overfitting, δηλαδή υπερπροσαρμόζεται στα δεδομένα εκπαίδευσης, αλλά αδυνατεί να γενικεύσει με επιτυχία σε νέα δεδομένα. Αυτό φαίνεται στις τιμές των validation και test accuracies, οι οποίες είναι χαμηλές."
      ]
    },
    {
      "cell_type": "markdown",
      "metadata": {
        "id": "sKxHS4YxrWtR"
      },
      "source": [
        "SVM RBF Kernel"
      ]
    },
    {
      "cell_type": "code",
      "execution_count": 33,
      "metadata": {
        "id": "NH4fQcIErWUA"
      },
      "outputs": [],
      "source": [
        "# Function to train SVM with RBF Kernel\n",
        "def rbf_model_SVM (C, g):\n",
        "\n",
        "    start_time = time.time()\n",
        "\n",
        "    svm_classifier = SVC(kernel='rbf', C=c, gamma=g)\n",
        "\n",
        "    svm_classifier.fit(X_train, y_train.ravel())\n",
        "\n",
        "    # Accuracy for train set\n",
        "    pred = svm_classifier.predict(X_train)\n",
        "    acc_train = np.mean(pred == y_train.ravel())\n",
        "    train_set_accuracy.append(acc_train)\n",
        "    print(\"Train Accuracy for C = {}: {}\".format(c, acc_train))\n",
        "\n",
        "    # Accuracy for validation set\n",
        "    pred = svm_classifier.predict(X_val)\n",
        "    acc_val = np.mean(pred == y_val.ravel())\n",
        "    val_set_accuracy.append(acc_val)\n",
        "    print(\"Validation Accuracy for C = {}: {}\".format(c, acc_val))\n",
        "\n",
        "    # Accuracy for test set\n",
        "    pred = svm_classifier.predict(X_test)\n",
        "    acc_test = np.mean(pred == y_test.ravel())\n",
        "    test_set_accuracy.append(acc_test)\n",
        "    print(\"Test Accuracy for C = {}: {}\".format(c, acc_test))\n",
        "\n",
        "    # Run time\n",
        "    end_time = time.time()\n",
        "    run_time = end_time - start_time\n",
        "\n",
        "    results.append({\n",
        "              'Kernel': 'RBF',\n",
        "              'C': c,\n",
        "              'Train Accuracy': acc_train,\n",
        "              'Validation Accuracy': acc_val,\n",
        "              'Test Accuracy': acc_test,\n",
        "               'Run time: ': run_time\n",
        "                  })"
      ]
    },
    {
      "cell_type": "code",
      "execution_count": 34,
      "metadata": {
        "colab": {
          "base_uri": "https://localhost:8080/",
          "height": 837
        },
        "id": "QgeyYUGVQaAy",
        "outputId": "d5f87e89-6ba0-492b-f96a-1ca8e7e33993"
      },
      "outputs": [
        {
          "output_type": "stream",
          "name": "stdout",
          "text": [
            "Train Accuracy for C = 0.0001: 0.10383333333333333\n",
            "Validation Accuracy for C = 0.0001: 0.0965\n",
            "Test Accuracy for C = 0.0001: 0.1085\n",
            "Train Accuracy for C = 0.0005: 0.10383333333333333\n",
            "Validation Accuracy for C = 0.0005: 0.0965\n",
            "Test Accuracy for C = 0.0005: 0.1085\n",
            "Train Accuracy for C = 0.001: 0.10383333333333333\n",
            "Validation Accuracy for C = 0.001: 0.0965\n",
            "Test Accuracy for C = 0.001: 0.1085\n",
            "Train Accuracy for C = 0.005: 0.10383333333333333\n",
            "Validation Accuracy for C = 0.005: 0.0965\n",
            "Test Accuracy for C = 0.005: 0.1085\n",
            "Train Accuracy for C = 0.01: 0.10383333333333333\n",
            "Validation Accuracy for C = 0.01: 0.0965\n",
            "Test Accuracy for C = 0.01: 0.1085\n",
            "Train Accuracy for C = 0.05: 0.10383333333333333\n",
            "Validation Accuracy for C = 0.05: 0.0965\n",
            "Test Accuracy for C = 0.05: 0.1085\n",
            "Train Accuracy for C = 0.1: 0.10383333333333333\n",
            "Validation Accuracy for C = 0.1: 0.0965\n",
            "Test Accuracy for C = 0.1: 0.1085\n"
          ]
        },
        {
          "output_type": "display_data",
          "data": {
            "text/plain": [
              "<Figure size 640x480 with 1 Axes>"
            ],
            "image/png": "[encoded data removed]"
          },
          "metadata": {}
        }
      ],
      "source": [
        "C_values = [0.0001, 0.0005, 0.001, 0.005, 0.01, 0.05, 0.1]\n",
        "# C_values =  [0.0001, 0.001, 0.01, 0.1, 1]\n",
        "\n",
        "# Prepare variables to store the results\n",
        "train_set_accuracy = []\n",
        "val_set_accuracy = []\n",
        "test_set_accuracy = []\n",
        "results = []\n",
        "\n",
        "for c in C_values:\n",
        "  rbf_model_SVM(c, 'auto')\n",
        "\n",
        "# Print the results\n",
        "plt.plot(C_values, train_set_accuracy,'.-',color='red')\n",
        "plt.plot(C_values, test_set_accuracy,'.-',color='blue')\n",
        "plt.plot(C_values, val_set_accuracy,'.-',color='green')\n",
        "plt.title(\"Plot of accuracy vs c for training - validation data - test data\")\n",
        "plt.xlabel('c')\n",
        "plt.ylabel('Accuracy')\n",
        "plt.grid()"
      ]
    },
    {
      "cell_type": "code",
      "execution_count": 35,
      "metadata": {
        "colab": {
          "base_uri": "https://localhost:8080/",
          "height": 269
        },
        "id": "sO6TTOCPYqWe",
        "outputId": "10f13ceb-4bf8-4395-9e93-509db3927651"
      },
      "outputs": [
        {
          "output_type": "execute_result",
          "data": {
            "text/plain": [
              "  Kernel       C  Train Accuracy  Validation Accuracy  Test Accuracy  \\\n",
              "0    RBF  0.0001        0.103833               0.0965         0.1085   \n",
              "1    RBF  0.0005        0.103833               0.0965         0.1085   \n",
              "2    RBF  0.0010        0.103833               0.0965         0.1085   \n",
              "3    RBF  0.0050        0.103833               0.0965         0.1085   \n",
              "4    RBF  0.0100        0.103833               0.0965         0.1085   \n",
              "5    RBF  0.0500        0.103833               0.0965         0.1085   \n",
              "6    RBF  0.1000        0.103833               0.0965         0.1085   \n",
              "\n",
              "   Run time:   \n",
              "0    8.812354  \n",
              "1   10.536820  \n",
              "2   10.594229  \n",
              "3    9.542148  \n",
              "4    9.992341  \n",
              "5   10.963617  \n",
              "6   10.962472  "
            ],
            "text/html": [
              "\n",
              "  <div id=\"df-7b4857f2-6caf-4130-b74f-7d17cb1febb7\" class=\"colab-df-container\">\n",
              "    <div>\n",
              "<style scoped>\n",
              "    .dataframe tbody tr th:only-of-type {\n",
              "        vertical-align: middle;\n",
              "    }\n",
              "\n",
              "    .dataframe tbody tr th {\n",
              "        vertical-align: top;\n",
              "    }\n",
              "\n",
              "    .dataframe thead th {\n",
              "        text-align: right;\n",
              "    }\n",
              "</style>\n",
              "<table border=\"1\" class=\"dataframe\">\n",
              "  <thead>\n",
              "    <tr style=\"text-align: right;\">\n",
              "      <th></th>\n",
              "      <th>Kernel</th>\n",
              "      <th>C</th>\n",
              "      <th>Train Accuracy</th>\n",
              "      <th>Validation Accuracy</th>\n",
              "      <th>Test Accuracy</th>\n",
              "      <th>Run time:</th>\n",
              "    </tr>\n",
              "  </thead>\n",
              "  <tbody>\n",
              "    <tr>\n",
              "      <th>0</th>\n",
              "      <td>RBF</td>\n",
              "      <td>0.0001</td>\n",
              "      <td>0.103833</td>\n",
              "      <td>0.0965</td>\n",
              "      <td>0.1085</td>\n",
              "      <td>8.812354</td>\n",
              "    </tr>\n",
              "    <tr>\n",
              "      <th>1</th>\n",
              "      <td>RBF</td>\n",
              "      <td>0.0005</td>\n",
              "      <td>0.103833</td>\n",
              "      <td>0.0965</td>\n",
              "      <td>0.1085</td>\n",
              "      <td>10.536820</td>\n",
              "    </tr>\n",
              "    <tr>\n",
              "      <th>2</th>\n",
              "      <td>RBF</td>\n",
              "      <td>0.0010</td>\n",
              "      <td>0.103833</td>\n",
              "      <td>0.0965</td>\n",
              "      <td>0.1085</td>\n",
              "      <td>10.594229</td>\n",
              "    </tr>\n",
              "    <tr>\n",
              "      <th>3</th>\n",
              "      <td>RBF</td>\n",
              "      <td>0.0050</td>\n",
              "      <td>0.103833</td>\n",
              "      <td>0.0965</td>\n",
              "      <td>0.1085</td>\n",
              "      <td>9.542148</td>\n",
              "    </tr>\n",
              "    <tr>\n",
              "      <th>4</th>\n",
              "      <td>RBF</td>\n",
              "      <td>0.0100</td>\n",
              "      <td>0.103833</td>\n",
              "      <td>0.0965</td>\n",
              "      <td>0.1085</td>\n",
              "      <td>9.992341</td>\n",
              "    </tr>\n",
              "    <tr>\n",
              "      <th>5</th>\n",
              "      <td>RBF</td>\n",
              "      <td>0.0500</td>\n",
              "      <td>0.103833</td>\n",
              "      <td>0.0965</td>\n",
              "      <td>0.1085</td>\n",
              "      <td>10.963617</td>\n",
              "    </tr>\n",
              "    <tr>\n",
              "      <th>6</th>\n",
              "      <td>RBF</td>\n",
              "      <td>0.1000</td>\n",
              "      <td>0.103833</td>\n",
              "      <td>0.0965</td>\n",
              "      <td>0.1085</td>\n",
              "      <td>10.962472</td>\n",
              "    </tr>\n",
              "  </tbody>\n",
              "</table>\n",
              "</div>\n",
              "    <div class=\"colab-df-buttons\">\n",
              "\n",
              "  <div class=\"colab-df-container\">\n",
              "    <button class=\"colab-df-convert\" onclick=\"convertToInteractive('df-7b4857f2-6caf-4130-b74f-7d17cb1febb7')\"\n",
              "            title=\"Convert this dataframe to an interactive table.\"\n",
              "            style=\"display:none;\">\n",
              "\n",
              "  <svg xmlns=\"http://www.w3.org/2000/svg\" height=\"24px\" viewBox=\"0 -960 960 960\">\n",
              "    <path d=\"M120-120v-720h720v720H120Zm60-500h600v-160H180v160Zm220 220h160v-160H400v160Zm0 220h160v-160H400v160ZM180-400h160v-160H180v160Zm440 0h160v-160H620v160ZM180-180h160v-160H180v160Zm440 0h160v-160H620v160Z\"/>\n",
              "  </svg>\n",
              "    </button>\n",
              "\n",
              "  <style>\n",
              "    .colab-df-container {\n",
              "      display:flex;\n",
              "      gap: 12px;\n",
              "    }\n",
              "\n",
              "    .colab-df-convert {\n",
              "      background-color: #E8F0FE;\n",
              "      border: none;\n",
              "      border-radius: 50%;\n",
              "      cursor: pointer;\n",
              "      display: none;\n",
              "      fill: #1967D2;\n",
              "      height: 32px;\n",
              "      padding: 0 0 0 0;\n",
              "      width: 32px;\n",
              "    }\n",
              "\n",
              "    .colab-df-convert:hover {\n",
              "      background-color: #E2EBFA;\n",
              "      box-shadow: 0px 1px 2px rgba(60, 64, 67, 0.3), 0px 1px 3px 1px rgba(60, 64, 67, 0.15);\n",
              "      fill: #174EA6;\n",
              "    }\n",
              "\n",
              "    .colab-df-buttons div {\n",
              "      margin-bottom: 4px;\n",
              "    }\n",
              "\n",
              "    [theme=dark] .colab-df-convert {\n",
              "      background-color: #3B4455;\n",
              "      fill: #D2E3FC;\n",
              "    }\n",
              "\n",
              "    [theme=dark] .colab-df-convert:hover {\n",
              "      background-color: #434B5C;\n",
              "      box-shadow: 0px 1px 3px 1px rgba(0, 0, 0, 0.15);\n",
              "      filter: drop-shadow(0px 1px 2px rgba(0, 0, 0, 0.3));\n",
              "      fill: #FFFFFF;\n",
              "    }\n",
              "  </style>\n",
              "\n",
              "    <script>\n",
              "      const buttonEl =\n",
              "        document.querySelector('#df-7b4857f2-6caf-4130-b74f-7d17cb1febb7 button.colab-df-convert');\n",
              "      buttonEl.style.display =\n",
              "        google.colab.kernel.accessAllowed ? 'block' : 'none';\n",
              "\n",
              "      async function convertToInteractive(key) {\n",
              "        const element = document.querySelector('#df-7b4857f2-6caf-4130-b74f-7d17cb1febb7');\n",
              "        const dataTable =\n",
              "          await google.colab.kernel.invokeFunction('convertToInteractive',\n",
              "                                                    [key], {});\n",
              "        if (!dataTable) return;\n",
              "\n",
              "        const docLinkHtml = 'Like what you see? Visit the ' +\n",
              "          '<a target=\"_blank\" href=https://colab.research.google.com/notebooks/data_table.ipynb>data table notebook</a>'\n",
              "          + ' to learn more about interactive tables.';\n",
              "        element.innerHTML = '';\n",
              "        dataTable['output_type'] = 'display_data';\n",
              "        await google.colab.output.renderOutput(dataTable, element);\n",
              "        const docLink = document.createElement('div');\n",
              "        docLink.innerHTML = docLinkHtml;\n",
              "        element.appendChild(docLink);\n",
              "      }\n",
              "    </script>\n",
              "  </div>\n",
              "\n",
              "\n",
              "<div id=\"df-cb9491dc-ef4b-4459-bd75-ebc2d2b1ee78\">\n",
              "  <button class=\"colab-df-quickchart\" onclick=\"quickchart('df-cb9491dc-ef4b-4459-bd75-ebc2d2b1ee78')\"\n",
              "            title=\"Suggest charts\"\n",
              "            style=\"display:none;\">\n",
              "\n",
              "<svg xmlns=\"http://www.w3.org/2000/svg\" height=\"24px\"viewBox=\"0 0 24 24\"\n",
              "     width=\"24px\">\n",
              "    <g>\n",
              "        <path d=\"M19 3H5c-1.1 0-2 .9-2 2v14c0 1.1.9 2 2 2h14c1.1 0 2-.9 2-2V5c0-1.1-.9-2-2-2zM9 17H7v-7h2v7zm4 0h-2V7h2v10zm4 0h-2v-4h2v4z\"/>\n",
              "    </g>\n",
              "</svg>\n",
              "  </button>\n",
              "\n",
              "<style>\n",
              "  .colab-df-quickchart {\n",
              "      --bg-color: #E8F0FE;\n",
              "      --fill-color: #1967D2;\n",
              "      --hover-bg-color: #E2EBFA;\n",
              "      --hover-fill-color: #174EA6;\n",
              "      --disabled-fill-color: #AAA;\n",
              "      --disabled-bg-color: #DDD;\n",
              "  }\n",
              "\n",
              "  [theme=dark] .colab-df-quickchart {\n",
              "      --bg-color: #3B4455;\n",
              "      --fill-color: #D2E3FC;\n",
              "      --hover-bg-color: #434B5C;\n",
              "      --hover-fill-color: #FFFFFF;\n",
              "      --disabled-bg-color: #3B4455;\n",
              "      --disabled-fill-color: #666;\n",
              "  }\n",
              "\n",
              "  .colab-df-quickchart {\n",
              "    background-color: var(--bg-color);\n",
              "    border: none;\n",
              "    border-radius: 50%;\n",
              "    cursor: pointer;\n",
              "    display: none;\n",
              "    fill: var(--fill-color);\n",
              "    height: 32px;\n",
              "    padding: 0;\n",
              "    width: 32px;\n",
              "  }\n",
              "\n",
              "  .colab-df-quickchart:hover {\n",
              "    background-color: var(--hover-bg-color);\n",
              "    box-shadow: 0 1px 2px rgba(60, 64, 67, 0.3), 0 1px 3px 1px rgba(60, 64, 67, 0.15);\n",
              "    fill: var(--button-hover-fill-color);\n",
              "  }\n",
              "\n",
              "  .colab-df-quickchart-complete:disabled,\n",
              "  .colab-df-quickchart-complete:disabled:hover {\n",
              "    background-color: var(--disabled-bg-color);\n",
              "    fill: var(--disabled-fill-color);\n",
              "    box-shadow: none;\n",
              "  }\n",
              "\n",
              "  .colab-df-spinner {\n",
              "    border: 2px solid var(--fill-color);\n",
              "    border-color: transparent;\n",
              "    border-bottom-color: var(--fill-color);\n",
              "    animation:\n",
              "      spin 1s steps(1) infinite;\n",
              "  }\n",
              "\n",
              "  @keyframes spin {\n",
              "    0% {\n",
              "      border-color: transparent;\n",
              "      border-bottom-color: var(--fill-color);\n",
              "      border-left-color: var(--fill-color);\n",
              "    }\n",
              "    20% {\n",
              "      border-color: transparent;\n",
              "      border-left-color: var(--fill-color);\n",
              "      border-top-color: var(--fill-color);\n",
              "    }\n",
              "    30% {\n",
              "      border-color: transparent;\n",
              "      border-left-color: var(--fill-color);\n",
              "      border-top-color: var(--fill-color);\n",
              "      border-right-color: var(--fill-color);\n",
              "    }\n",
              "    40% {\n",
              "      border-color: transparent;\n",
              "      border-right-color: var(--fill-color);\n",
              "      border-top-color: var(--fill-color);\n",
              "    }\n",
              "    60% {\n",
              "      border-color: transparent;\n",
              "      border-right-color: var(--fill-color);\n",
              "    }\n",
              "    80% {\n",
              "      border-color: transparent;\n",
              "      border-right-color: var(--fill-color);\n",
              "      border-bottom-color: var(--fill-color);\n",
              "    }\n",
              "    90% {\n",
              "      border-color: transparent;\n",
              "      border-bottom-color: var(--fill-color);\n",
              "    }\n",
              "  }\n",
              "</style>\n",
              "\n",
              "  <script>\n",
              "    async function quickchart(key) {\n",
              "      const quickchartButtonEl =\n",
              "        document.querySelector('#' + key + ' button');\n",
              "      quickchartButtonEl.disabled = true;  // To prevent multiple clicks.\n",
              "      quickchartButtonEl.classList.add('colab-df-spinner');\n",
              "      try {\n",
              "        const charts = await google.colab.kernel.invokeFunction(\n",
              "            'suggestCharts', [key], {});\n",
              "      } catch (error) {\n",
              "        console.error('Error during call to suggestCharts:', error);\n",
              "      }\n",
              "      quickchartButtonEl.classList.remove('colab-df-spinner');\n",
              "      quickchartButtonEl.classList.add('colab-df-quickchart-complete');\n",
              "    }\n",
              "    (() => {\n",
              "      let quickchartButtonEl =\n",
              "        document.querySelector('#df-cb9491dc-ef4b-4459-bd75-ebc2d2b1ee78 button');\n",
              "      quickchartButtonEl.style.display =\n",
              "        google.colab.kernel.accessAllowed ? 'block' : 'none';\n",
              "    })();\n",
              "  </script>\n",
              "</div>\n",
              "\n",
              "  <div id=\"id_f7f4ac39-be1c-4092-a2e7-28c80da60172\">\n",
              "    <style>\n",
              "      .colab-df-generate {\n",
              "        background-color: #E8F0FE;\n",
              "        border: none;\n",
              "        border-radius: 50%;\n",
              "        cursor: pointer;\n",
              "        display: none;\n",
              "        fill: #1967D2;\n",
              "        height: 32px;\n",
              "        padding: 0 0 0 0;\n",
              "        width: 32px;\n",
              "      }\n",
              "\n",
              "      .colab-df-generate:hover {\n",
              "        background-color: #E2EBFA;\n",
              "        box-shadow: 0px 1px 2px rgba(60, 64, 67, 0.3), 0px 1px 3px 1px rgba(60, 64, 67, 0.15);\n",
              "        fill: #174EA6;\n",
              "      }\n",
              "\n",
              "      [theme=dark] .colab-df-generate {\n",
              "        background-color: #3B4455;\n",
              "        fill: #D2E3FC;\n",
              "      }\n",
              "\n",
              "      [theme=dark] .colab-df-generate:hover {\n",
              "        background-color: #434B5C;\n",
              "        box-shadow: 0px 1px 3px 1px rgba(0, 0, 0, 0.15);\n",
              "        filter: drop-shadow(0px 1px 2px rgba(0, 0, 0, 0.3));\n",
              "        fill: #FFFFFF;\n",
              "      }\n",
              "    </style>\n",
              "    <button class=\"colab-df-generate\" onclick=\"generateWithVariable('results_df')\"\n",
              "            title=\"Generate code using this dataframe.\"\n",
              "            style=\"display:none;\">\n",
              "\n",
              "  <svg xmlns=\"http://www.w3.org/2000/svg\" height=\"24px\"viewBox=\"0 0 24 24\"\n",
              "       width=\"24px\">\n",
              "    <path d=\"M7,19H8.4L18.45,9,17,7.55,7,17.6ZM5,21V16.75L18.45,3.32a2,2,0,0,1,2.83,0l1.4,1.43a1.91,1.91,0,0,1,.58,1.4,1.91,1.91,0,0,1-.58,1.4L9.25,21ZM18.45,9,17,7.55Zm-12,3A5.31,5.31,0,0,0,4.9,8.1,5.31,5.31,0,0,0,1,6.5,5.31,5.31,0,0,0,4.9,4.9,5.31,5.31,0,0,0,6.5,1,5.31,5.31,0,0,0,8.1,4.9,5.31,5.31,0,0,0,12,6.5,5.46,5.46,0,0,0,6.5,12Z\"/>\n",
              "  </svg>\n",
              "    </button>\n",
              "    <script>\n",
              "      (() => {\n",
              "      const buttonEl =\n",
              "        document.querySelector('#id_f7f4ac39-be1c-4092-a2e7-28c80da60172 button.colab-df-generate');\n",
              "      buttonEl.style.display =\n",
              "        google.colab.kernel.accessAllowed ? 'block' : 'none';\n",
              "\n",
              "      buttonEl.onclick = () => {\n",
              "        google.colab.notebook.generateWithVariable('results_df');\n",
              "      }\n",
              "      })();\n",
              "    </script>\n",
              "  </div>\n",
              "\n",
              "    </div>\n",
              "  </div>\n"
            ],
            "application/vnd.google.colaboratory.intrinsic+json": {
              "type": "dataframe",
              "variable_name": "results_df",
              "summary": "{\n  \"name\": \"results_df\",\n  \"rows\": 7,\n  \"fields\": [\n    {\n      \"column\": \"Kernel\",\n      \"properties\": {\n        \"dtype\": \"category\",\n        \"num_unique_values\": 1,\n        \"samples\": [\n          \"RBF\"\n        ],\n        \"semantic_type\": \"\",\n        \"description\": \"\"\n      }\n    },\n    {\n      \"column\": \"C\",\n      \"properties\": {\n        \"dtype\": \"number\",\n        \"std\": 0.037993815286175195,\n        \"min\": 0.0001,\n        \"max\": 0.1,\n        \"num_unique_values\": 7,\n        \"samples\": [\n          0.0001\n        ],\n        \"semantic_type\": \"\",\n        \"description\": \"\"\n      }\n    },\n    {\n      \"column\": \"Train Accuracy\",\n      \"properties\": {\n        \"dtype\": \"number\",\n        \"std\": 0.0,\n        \"min\": 0.10383333333333333,\n        \"max\": 0.10383333333333333,\n        \"num_unique_values\": 1,\n        \"samples\": [\n          0.10383333333333333\n        ],\n        \"semantic_type\": \"\",\n        \"description\": \"\"\n      }\n    },\n    {\n      \"column\": \"Validation Accuracy\",\n      \"properties\": {\n        \"dtype\": \"number\",\n        \"std\": 1.4989724041661926e-17,\n        \"min\": 0.0965,\n        \"max\": 0.0965,\n        \"num_unique_values\": 1,\n        \"samples\": [\n          0.0965\n        ],\n        \"semantic_type\": \"\",\n        \"description\": \"\"\n      }\n    },\n    {\n      \"column\": \"Test Accuracy\",\n      \"properties\": {\n        \"dtype\": \"number\",\n        \"std\": 1.4989724041661926e-17,\n        \"min\": 0.1085,\n        \"max\": 0.1085,\n        \"num_unique_values\": 1,\n        \"samples\": [\n          0.1085\n        ],\n        \"semantic_type\": \"\",\n        \"description\": \"\"\n      }\n    },\n    {\n      \"column\": \"Run time: \",\n      \"properties\": {\n        \"dtype\": \"number\",\n        \"std\": 0.7994568976729765,\n        \"min\": 8.812354326248169,\n        \"max\": 10.963617086410522,\n        \"num_unique_values\": 7,\n        \"samples\": [\n          8.812354326248169\n        ],\n        \"semantic_type\": \"\",\n        \"description\": \"\"\n      }\n    }\n  ]\n}"
            }
          },
          "metadata": {},
          "execution_count": 35
        }
      ],
      "source": [
        "# Create a dataframe with the results\n",
        "results_df = pd.DataFrame(results)\n",
        "results_df"
      ]
    },
    {
      "cell_type": "markdown",
      "metadata": {
        "id": "jNbrwjrljj1X"
      },
      "source": [
        "Polynomial Kernel"
      ]
    },
    {
      "cell_type": "code",
      "execution_count": 36,
      "metadata": {
        "id": "I8BcHhm3jijN"
      },
      "outputs": [],
      "source": [
        "# Prepare variables to store the results\n",
        "train_set_accuracy = []\n",
        "val_set_caccuracy = []\n",
        "test_set_accuracy = []\n",
        "results = []\n",
        "\n",
        "def poly_model_SVM (C):\n",
        "      start_time = time.time()\n",
        "      svm_classifier = SVC(probability= False, kernel='poly', C=c)\n",
        "\n",
        "      svm_classifier.fit(X_train, y_train.ravel())\n",
        "\n",
        "      # Accuracy for train set\n",
        "      pred = svm_classifier.predict(X_train)\n",
        "      acc_train = np.mean(pred == y_train.ravel())\n",
        "      train_set_accuracy.append(acc_train)\n",
        "      print(\"Train Accuracy for C = {}: {}\".format(c, acc_train))\n",
        "\n",
        "      # Accuracy for validation set\n",
        "      pred = svm_classifier.predict(X_val)\n",
        "      acc_val = np.mean(pred == y_val.ravel())\n",
        "      val_set_caccuracy.append(acc_val)\n",
        "      print(\"Validation Accuracy for C = {}: {}\".format(c, acc_val))\n",
        "\n",
        "      # Accuracy for test set\n",
        "      pred = svm_classifier.predict(X_test)\n",
        "      acc_test = np.mean(pred == y_test.ravel())\n",
        "      test_set_accuracy.append(acc_test)\n",
        "      print(\"Test Accuracy for C = {}: {}\".format(c, acc_test))\n",
        "\n",
        "      # Run time\n",
        "      end_time = time.time()\n",
        "      run_time = end_time - start_time\n",
        "\n",
        "      results.append({\n",
        "              'Kernel': 'Polynomial',\n",
        "              'C': c,\n",
        "              'Train Accuracy': acc_train,\n",
        "              'Validation Accuracy': acc_val,\n",
        "              'Test Accuracy': acc_test\n",
        "                  })"
      ]
    },
    {
      "cell_type": "code",
      "execution_count": 37,
      "metadata": {
        "colab": {
          "base_uri": "https://localhost:8080/",
          "height": 837
        },
        "id": "wY753vjfy-o9",
        "outputId": "9df5d311-025f-48a5-c01f-40b29742f567"
      },
      "outputs": [
        {
          "output_type": "stream",
          "name": "stdout",
          "text": [
            "Train Accuracy for C = 0.0001: 0.10383333333333333\n",
            "Validation Accuracy for C = 0.0001: 0.0965\n",
            "Test Accuracy for C = 0.0001: 0.1085\n",
            "Train Accuracy for C = 0.0005: 0.104\n",
            "Validation Accuracy for C = 0.0005: 0.0965\n",
            "Test Accuracy for C = 0.0005: 0.1095\n",
            "Train Accuracy for C = 0.001: 0.11116666666666666\n",
            "Validation Accuracy for C = 0.001: 0.104\n",
            "Test Accuracy for C = 0.001: 0.116\n",
            "Train Accuracy for C = 0.005: 0.149\n",
            "Validation Accuracy for C = 0.005: 0.143\n",
            "Test Accuracy for C = 0.005: 0.14\n",
            "Train Accuracy for C = 0.01: 0.18266666666666667\n",
            "Validation Accuracy for C = 0.01: 0.169\n",
            "Test Accuracy for C = 0.01: 0.181\n",
            "Train Accuracy for C = 0.05: 0.278\n",
            "Validation Accuracy for C = 0.05: 0.257\n",
            "Test Accuracy for C = 0.05: 0.2595\n",
            "Train Accuracy for C = 0.1: 0.33816666666666667\n",
            "Validation Accuracy for C = 0.1: 0.2985\n",
            "Test Accuracy for C = 0.1: 0.288\n"
          ]
        },
        {
          "output_type": "display_data",
          "data": {
            "text/plain": [
              "<Figure size 640x480 with 1 Axes>"
            ],
            "image/png": "[encoded data removed]"
          },
          "metadata": {}
        }
      ],
      "source": [
        "C_values = [0.0001, 0.0005, 0.001, 0.005, 0.01, 0.05, 0.1]\n",
        "\n",
        "train_set_accuracy = []\n",
        "val_set_caccuracy = []\n",
        "test_set_accuracy = []\n",
        "results = []\n",
        "for c in C_values:\n",
        "  poly_model_SVM(c)\n",
        "\n",
        "# Print the results\n",
        "plt.plot(C_values, train_set_accuracy,'.-',color='red')\n",
        "plt.plot(C_values, test_set_accuracy,'.-',color='blue')\n",
        "plt.plot(C_values, val_set_caccuracy,'.-',color='green')\n",
        "plt.legend(['Train Accuracy', 'Test Accuracy', 'Validation Accuracy'])\n",
        "plt.title(\"Plot of accuracy vs c for training - validation data - test data\")\n",
        "plt.xlabel('c')\n",
        "plt.ylabel('Accuracy')\n",
        "plt.grid()"
      ]
    },
    {
      "cell_type": "code",
      "execution_count": 38,
      "metadata": {
        "colab": {
          "base_uri": "https://localhost:8080/",
          "height": 269
        },
        "id": "jCP26-CTHbcu",
        "outputId": "1185d844-3877-4de9-d961-451abcb43ed4"
      },
      "outputs": [
        {
          "output_type": "execute_result",
          "data": {
            "text/plain": [
              "       Kernel       C  Train Accuracy  Validation Accuracy  Test Accuracy\n",
              "0  Polynomial  0.0001        0.103833               0.0965         0.1085\n",
              "1  Polynomial  0.0005        0.104000               0.0965         0.1095\n",
              "2  Polynomial  0.0010        0.111167               0.1040         0.1160\n",
              "3  Polynomial  0.0050        0.149000               0.1430         0.1400\n",
              "4  Polynomial  0.0100        0.182667               0.1690         0.1810\n",
              "5  Polynomial  0.0500        0.278000               0.2570         0.2595\n",
              "6  Polynomial  0.1000        0.338167               0.2985         0.2880"
            ],
            "text/html": [
              "\n",
              "  <div id=\"df-1f320d82-7767-4965-b494-3fe40c792d89\" class=\"colab-df-container\">\n",
              "    <div>\n",
              "<style scoped>\n",
              "    .dataframe tbody tr th:only-of-type {\n",
              "        vertical-align: middle;\n",
              "    }\n",
              "\n",
              "    .dataframe tbody tr th {\n",
              "        vertical-align: top;\n",
              "    }\n",
              "\n",
              "    .dataframe thead th {\n",
              "        text-align: right;\n",
              "    }\n",
              "</style>\n",
              "<table border=\"1\" class=\"dataframe\">\n",
              "  <thead>\n",
              "    <tr style=\"text-align: right;\">\n",
              "      <th></th>\n",
              "      <th>Kernel</th>\n",
              "      <th>C</th>\n",
              "      <th>Train Accuracy</th>\n",
              "      <th>Validation Accuracy</th>\n",
              "      <th>Test Accuracy</th>\n",
              "    </tr>\n",
              "  </thead>\n",
              "  <tbody>\n",
              "    <tr>\n",
              "      <th>0</th>\n",
              "      <td>Polynomial</td>\n",
              "      <td>0.0001</td>\n",
              "      <td>0.103833</td>\n",
              "      <td>0.0965</td>\n",
              "      <td>0.1085</td>\n",
              "    </tr>\n",
              "    <tr>\n",
              "      <th>1</th>\n",
              "      <td>Polynomial</td>\n",
              "      <td>0.0005</td>\n",
              "      <td>0.104000</td>\n",
              "      <td>0.0965</td>\n",
              "      <td>0.1095</td>\n",
              "    </tr>\n",
              "    <tr>\n",
              "      <th>2</th>\n",
              "      <td>Polynomial</td>\n",
              "      <td>0.0010</td>\n",
              "      <td>0.111167</td>\n",
              "      <td>0.1040</td>\n",
              "      <td>0.1160</td>\n",
              "    </tr>\n",
              "    <tr>\n",
              "      <th>3</th>\n",
              "      <td>Polynomial</td>\n",
              "      <td>0.0050</td>\n",
              "      <td>0.149000</td>\n",
              "      <td>0.1430</td>\n",
              "      <td>0.1400</td>\n",
              "    </tr>\n",
              "    <tr>\n",
              "      <th>4</th>\n",
              "      <td>Polynomial</td>\n",
              "      <td>0.0100</td>\n",
              "      <td>0.182667</td>\n",
              "      <td>0.1690</td>\n",
              "      <td>0.1810</td>\n",
              "    </tr>\n",
              "    <tr>\n",
              "      <th>5</th>\n",
              "      <td>Polynomial</td>\n",
              "      <td>0.0500</td>\n",
              "      <td>0.278000</td>\n",
              "      <td>0.2570</td>\n",
              "      <td>0.2595</td>\n",
              "    </tr>\n",
              "    <tr>\n",
              "      <th>6</th>\n",
              "      <td>Polynomial</td>\n",
              "      <td>0.1000</td>\n",
              "      <td>0.338167</td>\n",
              "      <td>0.2985</td>\n",
              "      <td>0.2880</td>\n",
              "    </tr>\n",
              "  </tbody>\n",
              "</table>\n",
              "</div>\n",
              "    <div class=\"colab-df-buttons\">\n",
              "\n",
              "  <div class=\"colab-df-container\">\n",
              "    <button class=\"colab-df-convert\" onclick=\"convertToInteractive('df-1f320d82-7767-4965-b494-3fe40c792d89')\"\n",
              "            title=\"Convert this dataframe to an interactive table.\"\n",
              "            style=\"display:none;\">\n",
              "\n",
              "  <svg xmlns=\"http://www.w3.org/2000/svg\" height=\"24px\" viewBox=\"0 -960 960 960\">\n",
              "    <path d=\"M120-120v-720h720v720H120Zm60-500h600v-160H180v160Zm220 220h160v-160H400v160Zm0 220h160v-160H400v160ZM180-400h160v-160H180v160Zm440 0h160v-160H620v160ZM180-180h160v-160H180v160Zm440 0h160v-160H620v160Z\"/>\n",
              "  </svg>\n",
              "    </button>\n",
              "\n",
              "  <style>\n",
              "    .colab-df-container {\n",
              "      display:flex;\n",
              "      gap: 12px;\n",
              "    }\n",
              "\n",
              "    .colab-df-convert {\n",
              "      background-color: #E8F0FE;\n",
              "      border: none;\n",
              "      border-radius: 50%;\n",
              "      cursor: pointer;\n",
              "      display: none;\n",
              "      fill: #1967D2;\n",
              "      height: 32px;\n",
              "      padding: 0 0 0 0;\n",
              "      width: 32px;\n",
              "    }\n",
              "\n",
              "    .colab-df-convert:hover {\n",
              "      background-color: #E2EBFA;\n",
              "      box-shadow: 0px 1px 2px rgba(60, 64, 67, 0.3), 0px 1px 3px 1px rgba(60, 64, 67, 0.15);\n",
              "      fill: #174EA6;\n",
              "    }\n",
              "\n",
              "    .colab-df-buttons div {\n",
              "      margin-bottom: 4px;\n",
              "    }\n",
              "\n",
              "    [theme=dark] .colab-df-convert {\n",
              "      background-color: #3B4455;\n",
              "      fill: #D2E3FC;\n",
              "    }\n",
              "\n",
              "    [theme=dark] .colab-df-convert:hover {\n",
              "      background-color: #434B5C;\n",
              "      box-shadow: 0px 1px 3px 1px rgba(0, 0, 0, 0.15);\n",
              "      filter: drop-shadow(0px 1px 2px rgba(0, 0, 0, 0.3));\n",
              "      fill: #FFFFFF;\n",
              "    }\n",
              "  </style>\n",
              "\n",
              "    <script>\n",
              "      const buttonEl =\n",
              "        document.querySelector('#df-1f320d82-7767-4965-b494-3fe40c792d89 button.colab-df-convert');\n",
              "      buttonEl.style.display =\n",
              "        google.colab.kernel.accessAllowed ? 'block' : 'none';\n",
              "\n",
              "      async function convertToInteractive(key) {\n",
              "        const element = document.querySelector('#df-1f320d82-7767-4965-b494-3fe40c792d89');\n",
              "        const dataTable =\n",
              "          await google.colab.kernel.invokeFunction('convertToInteractive',\n",
              "                                                    [key], {});\n",
              "        if (!dataTable) return;\n",
              "\n",
              "        const docLinkHtml = 'Like what you see? Visit the ' +\n",
              "          '<a target=\"_blank\" href=https://colab.research.google.com/notebooks/data_table.ipynb>data table notebook</a>'\n",
              "          + ' to learn more about interactive tables.';\n",
              "        element.innerHTML = '';\n",
              "        dataTable['output_type'] = 'display_data';\n",
              "        await google.colab.output.renderOutput(dataTable, element);\n",
              "        const docLink = document.createElement('div');\n",
              "        docLink.innerHTML = docLinkHtml;\n",
              "        element.appendChild(docLink);\n",
              "      }\n",
              "    </script>\n",
              "  </div>\n",
              "\n",
              "\n",
              "<div id=\"df-9154f50c-a210-49a9-9edf-50c527ae97e0\">\n",
              "  <button class=\"colab-df-quickchart\" onclick=\"quickchart('df-9154f50c-a210-49a9-9edf-50c527ae97e0')\"\n",
              "            title=\"Suggest charts\"\n",
              "            style=\"display:none;\">\n",
              "\n",
              "<svg xmlns=\"http://www.w3.org/2000/svg\" height=\"24px\"viewBox=\"0 0 24 24\"\n",
              "     width=\"24px\">\n",
              "    <g>\n",
              "        <path d=\"M19 3H5c-1.1 0-2 .9-2 2v14c0 1.1.9 2 2 2h14c1.1 0 2-.9 2-2V5c0-1.1-.9-2-2-2zM9 17H7v-7h2v7zm4 0h-2V7h2v10zm4 0h-2v-4h2v4z\"/>\n",
              "    </g>\n",
              "</svg>\n",
              "  </button>\n",
              "\n",
              "<style>\n",
              "  .colab-df-quickchart {\n",
              "      --bg-color: #E8F0FE;\n",
              "      --fill-color: #1967D2;\n",
              "      --hover-bg-color: #E2EBFA;\n",
              "      --hover-fill-color: #174EA6;\n",
              "      --disabled-fill-color: #AAA;\n",
              "      --disabled-bg-color: #DDD;\n",
              "  }\n",
              "\n",
              "  [theme=dark] .colab-df-quickchart {\n",
              "      --bg-color: #3B4455;\n",
              "      --fill-color: #D2E3FC;\n",
              "      --hover-bg-color: #434B5C;\n",
              "      --hover-fill-color: #FFFFFF;\n",
              "      --disabled-bg-color: #3B4455;\n",
              "      --disabled-fill-color: #666;\n",
              "  }\n",
              "\n",
              "  .colab-df-quickchart {\n",
              "    background-color: var(--bg-color);\n",
              "    border: none;\n",
              "    border-radius: 50%;\n",
              "    cursor: pointer;\n",
              "    display: none;\n",
              "    fill: var(--fill-color);\n",
              "    height: 32px;\n",
              "    padding: 0;\n",
              "    width: 32px;\n",
              "  }\n",
              "\n",
              "  .colab-df-quickchart:hover {\n",
              "    background-color: var(--hover-bg-color);\n",
              "    box-shadow: 0 1px 2px rgba(60, 64, 67, 0.3), 0 1px 3px 1px rgba(60, 64, 67, 0.15);\n",
              "    fill: var(--button-hover-fill-color);\n",
              "  }\n",
              "\n",
              "  .colab-df-quickchart-complete:disabled,\n",
              "  .colab-df-quickchart-complete:disabled:hover {\n",
              "    background-color: var(--disabled-bg-color);\n",
              "    fill: var(--disabled-fill-color);\n",
              "    box-shadow: none;\n",
              "  }\n",
              "\n",
              "  .colab-df-spinner {\n",
              "    border: 2px solid var(--fill-color);\n",
              "    border-color: transparent;\n",
              "    border-bottom-color: var(--fill-color);\n",
              "    animation:\n",
              "      spin 1s steps(1) infinite;\n",
              "  }\n",
              "\n",
              "  @keyframes spin {\n",
              "    0% {\n",
              "      border-color: transparent;\n",
              "      border-bottom-color: var(--fill-color);\n",
              "      border-left-color: var(--fill-color);\n",
              "    }\n",
              "    20% {\n",
              "      border-color: transparent;\n",
              "      border-left-color: var(--fill-color);\n",
              "      border-top-color: var(--fill-color);\n",
              "    }\n",
              "    30% {\n",
              "      border-color: transparent;\n",
              "      border-left-color: var(--fill-color);\n",
              "      border-top-color: var(--fill-color);\n",
              "      border-right-color: var(--fill-color);\n",
              "    }\n",
              "    40% {\n",
              "      border-color: transparent;\n",
              "      border-right-color: var(--fill-color);\n",
              "      border-top-color: var(--fill-color);\n",
              "    }\n",
              "    60% {\n",
              "      border-color: transparent;\n",
              "      border-right-color: var(--fill-color);\n",
              "    }\n",
              "    80% {\n",
              "      border-color: transparent;\n",
              "      border-right-color: var(--fill-color);\n",
              "      border-bottom-color: var(--fill-color);\n",
              "    }\n",
              "    90% {\n",
              "      border-color: transparent;\n",
              "      border-bottom-color: var(--fill-color);\n",
              "    }\n",
              "  }\n",
              "</style>\n",
              "\n",
              "  <script>\n",
              "    async function quickchart(key) {\n",
              "      const quickchartButtonEl =\n",
              "        document.querySelector('#' + key + ' button');\n",
              "      quickchartButtonEl.disabled = true;  // To prevent multiple clicks.\n",
              "      quickchartButtonEl.classList.add('colab-df-spinner');\n",
              "      try {\n",
              "        const charts = await google.colab.kernel.invokeFunction(\n",
              "            'suggestCharts', [key], {});\n",
              "      } catch (error) {\n",
              "        console.error('Error during call to suggestCharts:', error);\n",
              "      }\n",
              "      quickchartButtonEl.classList.remove('colab-df-spinner');\n",
              "      quickchartButtonEl.classList.add('colab-df-quickchart-complete');\n",
              "    }\n",
              "    (() => {\n",
              "      let quickchartButtonEl =\n",
              "        document.querySelector('#df-9154f50c-a210-49a9-9edf-50c527ae97e0 button');\n",
              "      quickchartButtonEl.style.display =\n",
              "        google.colab.kernel.accessAllowed ? 'block' : 'none';\n",
              "    })();\n",
              "  </script>\n",
              "</div>\n",
              "\n",
              "  <div id=\"id_f33ce514-2d3a-41a0-95a0-b58337868682\">\n",
              "    <style>\n",
              "      .colab-df-generate {\n",
              "        background-color: #E8F0FE;\n",
              "        border: none;\n",
              "        border-radius: 50%;\n",
              "        cursor: pointer;\n",
              "        display: none;\n",
              "        fill: #1967D2;\n",
              "        height: 32px;\n",
              "        padding: 0 0 0 0;\n",
              "        width: 32px;\n",
              "      }\n",
              "\n",
              "      .colab-df-generate:hover {\n",
              "        background-color: #E2EBFA;\n",
              "        box-shadow: 0px 1px 2px rgba(60, 64, 67, 0.3), 0px 1px 3px 1px rgba(60, 64, 67, 0.15);\n",
              "        fill: #174EA6;\n",
              "      }\n",
              "\n",
              "      [theme=dark] .colab-df-generate {\n",
              "        background-color: #3B4455;\n",
              "        fill: #D2E3FC;\n",
              "      }\n",
              "\n",
              "      [theme=dark] .colab-df-generate:hover {\n",
              "        background-color: #434B5C;\n",
              "        box-shadow: 0px 1px 3px 1px rgba(0, 0, 0, 0.15);\n",
              "        filter: drop-shadow(0px 1px 2px rgba(0, 0, 0, 0.3));\n",
              "        fill: #FFFFFF;\n",
              "      }\n",
              "    </style>\n",
              "    <button class=\"colab-df-generate\" onclick=\"generateWithVariable('results_df')\"\n",
              "            title=\"Generate code using this dataframe.\"\n",
              "            style=\"display:none;\">\n",
              "\n",
              "  <svg xmlns=\"http://www.w3.org/2000/svg\" height=\"24px\"viewBox=\"0 0 24 24\"\n",
              "       width=\"24px\">\n",
              "    <path d=\"M7,19H8.4L18.45,9,17,7.55,7,17.6ZM5,21V16.75L18.45,3.32a2,2,0,0,1,2.83,0l1.4,1.43a1.91,1.91,0,0,1,.58,1.4,1.91,1.91,0,0,1-.58,1.4L9.25,21ZM18.45,9,17,7.55Zm-12,3A5.31,5.31,0,0,0,4.9,8.1,5.31,5.31,0,0,0,1,6.5,5.31,5.31,0,0,0,4.9,4.9,5.31,5.31,0,0,0,6.5,1,5.31,5.31,0,0,0,8.1,4.9,5.31,5.31,0,0,0,12,6.5,5.46,5.46,0,0,0,6.5,12Z\"/>\n",
              "  </svg>\n",
              "    </button>\n",
              "    <script>\n",
              "      (() => {\n",
              "      const buttonEl =\n",
              "        document.querySelector('#id_f33ce514-2d3a-41a0-95a0-b58337868682 button.colab-df-generate');\n",
              "      buttonEl.style.display =\n",
              "        google.colab.kernel.accessAllowed ? 'block' : 'none';\n",
              "\n",
              "      buttonEl.onclick = () => {\n",
              "        google.colab.notebook.generateWithVariable('results_df');\n",
              "      }\n",
              "      })();\n",
              "    </script>\n",
              "  </div>\n",
              "\n",
              "    </div>\n",
              "  </div>\n"
            ],
            "application/vnd.google.colaboratory.intrinsic+json": {
              "type": "dataframe",
              "variable_name": "results_df",
              "summary": "{\n  \"name\": \"results_df\",\n  \"rows\": 7,\n  \"fields\": [\n    {\n      \"column\": \"Kernel\",\n      \"properties\": {\n        \"dtype\": \"category\",\n        \"num_unique_values\": 1,\n        \"samples\": [\n          \"Polynomial\"\n        ],\n        \"semantic_type\": \"\",\n        \"description\": \"\"\n      }\n    },\n    {\n      \"column\": \"C\",\n      \"properties\": {\n        \"dtype\": \"number\",\n        \"std\": 0.037993815286175195,\n        \"min\": 0.0001,\n        \"max\": 0.1,\n        \"num_unique_values\": 7,\n        \"samples\": [\n          0.0001\n        ],\n        \"semantic_type\": \"\",\n        \"description\": \"\"\n      }\n    },\n    {\n      \"column\": \"Train Accuracy\",\n      \"properties\": {\n        \"dtype\": \"number\",\n        \"std\": 0.09300315748181512,\n        \"min\": 0.10383333333333333,\n        \"max\": 0.33816666666666667,\n        \"num_unique_values\": 7,\n        \"samples\": [\n          0.10383333333333333\n        ],\n        \"semantic_type\": \"\",\n        \"description\": \"\"\n      }\n    },\n    {\n      \"column\": \"Validation Accuracy\",\n      \"properties\": {\n        \"dtype\": \"number\",\n        \"std\": 0.08152592342608693,\n        \"min\": 0.0965,\n        \"max\": 0.2985,\n        \"num_unique_values\": 6,\n        \"samples\": [\n          0.0965\n        ],\n        \"semantic_type\": \"\",\n        \"description\": \"\"\n      }\n    },\n    {\n      \"column\": \"Test Accuracy\",\n      \"properties\": {\n        \"dtype\": \"number\",\n        \"std\": 0.07448873356804657,\n        \"min\": 0.1085,\n        \"max\": 0.288,\n        \"num_unique_values\": 7,\n        \"samples\": [\n          0.1085\n        ],\n        \"semantic_type\": \"\",\n        \"description\": \"\"\n      }\n    }\n  ]\n}"
            }
          },
          "metadata": {},
          "execution_count": 38
        }
      ],
      "source": [
        "# Create a dataframe with the results\n",
        "results_df = pd.DataFrame(results)\n",
        "results_df"
      ]
    },
    {
      "cell_type": "markdown",
      "metadata": {
        "id": "_Q8qlc-EtVR4"
      },
      "source": [
        "Classifier 2: Grid Search - Cross Validation"
      ]
    },
    {
      "cell_type": "code",
      "execution_count": 40,
      "metadata": {
        "id": "7EOO3qwctix7",
        "colab": {
          "base_uri": "https://localhost:8080/"
        },
        "outputId": "c73a9a6f-9213-4cab-d160-a2ca79ee44d7"
      },
      "outputs": [
        {
          "output_type": "stream",
          "name": "stdout",
          "text": [
            "Best Parameters: {'C': 0.0005, 'gamma': 'scale', 'kernel': 'linear'}\n"
          ]
        }
      ],
      "source": [
        "# defining parameter range\n",
        "param_grid = {'C': [0.0001, 0.0005, 0.001, 0.005, 0.01, 0.05, 0.1],\n",
        "              'gamma': ['scale', 'auto'],\n",
        "              'kernel': ['linear', 'rbf', 'poly']}\n",
        "# svm classifier\n",
        "svm_classifier2 = SVC()\n",
        "\n",
        "# grid search\n",
        "grid_search = GridSearchCV(svm_classifier2, param_grid, cv=5, n_jobs=-1)  # cv=5 για 5-fold cross-validation\n",
        "\n",
        "# train grid_search\n",
        "grid_search.fit(X_train, y_train.ravel())\n",
        "\n",
        "# find best parameters of grid search\n",
        "best_params = grid_search.best_params_\n",
        "print(\"Best Parameters:\", best_params)"
      ]
    },
    {
      "cell_type": "code",
      "execution_count": 41,
      "metadata": {
        "colab": {
          "base_uri": "https://localhost:8080/"
        },
        "id": "Cxv1_TJqcqb-",
        "outputId": "606acaf5-48b4-4fb6-ebb4-a4b8ee6f3485"
      },
      "outputs": [
        {
          "output_type": "stream",
          "name": "stdout",
          "text": [
            "Best Accuracy: 0.37983333333333336\n"
          ]
        }
      ],
      "source": [
        "acc = grid_search.best_score_\n",
        "print(\"Best Accuracy:\", acc)"
      ]
    },
    {
      "cell_type": "code",
      "execution_count": 42,
      "metadata": {
        "colab": {
          "base_uri": "https://localhost:8080/"
        },
        "id": "rRW2mgax_yy2",
        "outputId": "4f2b8d87-eeb0-4ca2-d867-8aa1d0e2a4e5"
      },
      "outputs": [
        {
          "output_type": "stream",
          "name": "stdout",
          "text": [
            "Train Set Accuracy: 0.42083333333333334\n",
            "Validation Set Accuracy: 0.363\n",
            "Test Set Accuracy: 0.3795\n"
          ]
        }
      ],
      "source": [
        "# Train set Accuracy\n",
        "y_train_pred = grid_search.predict(X_train)\n",
        "train_accuracy = accuracy_score(y_train.ravel(), y_train_pred)\n",
        "print(\"Train Set Accuracy:\", train_accuracy)\n",
        "\n",
        "# Validation set Accuracy\n",
        "y_val_pred = grid_search.predict(X_val)\n",
        "val_accuracy = accuracy_score(y_val.ravel(), y_val_pred)\n",
        "print(\"Validation Set Accuracy:\", val_accuracy)\n",
        "\n",
        "# Test set Accuracy\n",
        "y_test_pred = grid_search.predict(X_test)\n",
        "test_accuracy = accuracy_score(y_test.ravel(), y_test_pred)\n",
        "print(\"Test Set Accuracy:\", test_accuracy)\n"
      ]
    },
    {
      "cell_type": "code",
      "execution_count": 43,
      "metadata": {
        "id": "gWXDGDKF_HQe",
        "colab": {
          "base_uri": "https://localhost:8080/"
        },
        "outputId": "04a61456-34e5-410e-8247-1cb27bba0409"
      },
      "outputs": [
        {
          "output_type": "stream",
          "name": "stdout",
          "text": [
            "    Prediction  Actual Value\n",
            "0            9             8\n",
            "1            4             6\n",
            "2            5             5\n",
            "3            5             4\n",
            "4            8             8\n",
            "5            9             8\n",
            "6            1             1\n",
            "7            3             9\n",
            "8            8             8\n",
            "9            8             9\n",
            "10           1             5\n",
            "11           5             0\n",
            "12           6             6\n",
            "13           0             1\n",
            "14           6             6\n",
            "15           7             7\n",
            "16           8             0\n",
            "17           4             4\n",
            "18           1             1\n",
            "19           4             4\n"
          ]
        }
      ],
      "source": [
        "import pandas as pd\n",
        "\n",
        "pred = grid_search.predict(X_test)\n",
        "svm_results = pred[:20].ravel()\n",
        "yTest_results = y_test[:20].ravel()\n",
        "\n",
        "# DataFrame with predicted and actual values\n",
        "results_df = pd.DataFrame({\n",
        "    'Prediction': svm_results,\n",
        "    'Actual Value': yTest_results\n",
        "})\n",
        "\n",
        "# print the dataframe\n",
        "print(results_df)"
      ]
    },
    {
      "cell_type": "code",
      "execution_count": 44,
      "metadata": {
        "id": "ftJAqREKDFCK",
        "colab": {
          "base_uri": "https://localhost:8080/"
        },
        "outputId": "dd9d765a-d96c-4f95-a636-323a9cf88d10"
      },
      "outputs": [
        {
          "output_type": "stream",
          "name": "stdout",
          "text": [
            "Correct Predictions: [2, 4, 6, 8, 12, 14, 15, 17, 18, 19]\n",
            "Incorrect Predictions: [0, 1, 3, 5, 7, 9, 10, 11, 13, 16]\n"
          ]
        }
      ],
      "source": [
        "# Create lists for correct and incorrect predictions\n",
        "correct_predictions = []\n",
        "incorrect_predictions = []\n",
        "\n",
        "for i in range(len(svm_results)):\n",
        "    if svm_results[i] == yTest_results[i]:\n",
        "        correct_predictions.append(i)\n",
        "    else:\n",
        "        incorrect_predictions.append(i)\n",
        "\n",
        "print(\"Correct Predictions:\", correct_predictions)\n",
        "print(\"Incorrect Predictions:\", incorrect_predictions)"
      ]
    },
    {
      "cell_type": "code",
      "execution_count": 46,
      "metadata": {
        "id": "NMHhQ-p1DSQM"
      },
      "outputs": [],
      "source": [
        "# Data reconstruction\n",
        "X_test_reconstructed = pca_cifar.inverse_transform(X_test)\n",
        "\n",
        "X_test_reconstructed = np.clip(X_test_reconstructed, 0, 1)\n",
        "X_test_reconstructed = X_test_reconstructed.astype(np.float32)"
      ]
    },
    {
      "cell_type": "code",
      "execution_count": 47,
      "metadata": {
        "id": "rkfzUoLZDa4B",
        "colab": {
          "base_uri": "https://localhost:8080/",
          "height": 52
        },
        "outputId": "9dd57348-b58b-46f0-e8c2-d97a9289f57c"
      },
      "outputs": [
        {
          "output_type": "execute_result",
          "data": {
            "text/plain": [
              "<Figure size 1200x600 with 0 Axes>"
            ]
          },
          "metadata": {},
          "execution_count": 47
        },
        {
          "output_type": "display_data",
          "data": {
            "text/plain": [
              "<Figure size 1200x600 with 0 Axes>"
            ]
          },
          "metadata": {}
        }
      ],
      "source": [
        "import numpy as np\n",
        "import matplotlib.pyplot as plt\n",
        "\n",
        "# Class names\n",
        "classesName = ['airplane', 'automobile', 'bird', 'cat', 'deer', 'dog', 'frog', 'horse', 'ship', 'truck']\n",
        "\n",
        "# Image preparation\n",
        "def plt_img(x):\n",
        "    nrow = 32\n",
        "    ncol = 32\n",
        "    ncolors = 3\n",
        "    xsq = x.reshape((nrow, ncol, ncolors))\n",
        "    plt.imshow(xsq)\n",
        "\n",
        "# Number of images to plot (2 correct & 2 incorrect)\n",
        "nplt = 2\n",
        "\n",
        "# Plot correct predictions\n",
        "plt.figure(figsize=(12, 6))"
      ]
    },
    {
      "cell_type": "code",
      "execution_count": 48,
      "metadata": {
        "id": "Bxxt6BUhDUnY",
        "colab": {
          "base_uri": "https://localhost:8080/",
          "height": 363
        },
        "outputId": "727c9cc1-7f8e-44b4-cfba-7f82747218db"
      },
      "outputs": [
        {
          "output_type": "stream",
          "name": "stderr",
          "text": [
            "<ipython-input-48-a4b6111b0d69>:8: DeprecationWarning: Conversion of an array with ndim > 0 to a scalar is deprecated, and will error in future. Ensure you extract a single element from your array before performing this operation. (Deprecated NumPy 1.25.)\n",
            "  true_label = classesName[int(y_test[ind])]  # actual label\n"
          ]
        },
        {
          "output_type": "display_data",
          "data": {
            "text/plain": [
              "<Figure size 640x480 with 2 Axes>"
            ],
            "image/png": "[encoded data removed]"
          },
          "metadata": {}
        }
      ],
      "source": [
        "# Plot correct predictions\n",
        "for i in range(nplt):\n",
        "   plt.subplot(1, nplt, i + 1)\n",
        "   ind = correct_predictions[i]  # select the correct sample\n",
        "   plt_img(X_test_reconstructed[ind, :])  # use of reconstructed data for plotting\n",
        "\n",
        "   # Actual and Predicted label\n",
        "   true_label = classesName[int(y_test[ind])]  # actual label\n",
        "   est_label = classesName[int(pred[ind])]  # predicted label\n",
        "\n",
        "   # Τίτλος εικόνας\n",
        "   plt.title(f'True={true_label} Est={est_label}')"
      ]
    },
    {
      "cell_type": "code",
      "execution_count": 49,
      "metadata": {
        "id": "p_EEKYJ_DpVD",
        "colab": {
          "base_uri": "https://localhost:8080/",
          "height": 363
        },
        "outputId": "76f6a37f-bb9d-499d-9ed6-1c6429f5c73c"
      },
      "outputs": [
        {
          "output_type": "stream",
          "name": "stderr",
          "text": [
            "<ipython-input-49-3872a8d3e326>:8: DeprecationWarning: Conversion of an array with ndim > 0 to a scalar is deprecated, and will error in future. Ensure you extract a single element from your array before performing this operation. (Deprecated NumPy 1.25.)\n",
            "  true_label = classesName[int(y_test[ind])]  # actual label\n"
          ]
        },
        {
          "output_type": "display_data",
          "data": {
            "text/plain": [
              "<Figure size 640x480 with 2 Axes>"
            ],
            "image/png": "[encoded data removed]"
          },
          "metadata": {}
        }
      ],
      "source": [
        "# Plot incorrect predictions\n",
        "for i in range(nplt):\n",
        "    plt.subplot(1, nplt, i + 1)\n",
        "    ind = incorrect_predictions[i] # select the incorrect sample\n",
        "    plt_img(X_test_reconstructed[ind, :]) # use of reconstructed data for plotting\n",
        "\n",
        "    # Actual and Predicted label\n",
        "    true_label = classesName[int(y_test[ind])]  # actual label\n",
        "    est_label = classesName[int(pred[ind])]  # predicted label\n",
        "\n",
        "    # Τίτλος εικόνας\n",
        "    plt.title(f'True={true_label} Est={est_label}')"
      ]
    }
  ],
  "metadata": {
    "colab": {
      "provenance": []
    },
    "kernelspec": {
      "display_name": "Python 3",
      "name": "python3"
    },
    "language_info": {
      "name": "python"
    }
  },
  "nbformat": 4,
  "nbformat_minor": 0
}