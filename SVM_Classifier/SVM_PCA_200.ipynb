{
  "cells": [
    {
      "cell_type": "markdown",
      "metadata": {
        "id": "YuWIQiISnghc"
      },
      "source": [
        "**Importing** **Libraries**"
      ]
    },
    {
      "cell_type": "code",
      "execution_count": 1,
      "metadata": {
        "id": "34mKA0YqY1J_"
      },
      "outputs": [],
      "source": [
        "import tensorflow as tf\n",
        "import numpy as np\n",
        "import matplotlib.pyplot as plt\n",
        "import pandas as pd\n",
        "import time\n",
        "\n",
        "from sklearn.model_selection import train_test_split\n",
        "from sklearn.preprocessing import StandardScaler # for Standardization\n",
        "from sklearn.metrics import accuracy_score, confusion_matrix, classification_report\n",
        "from sklearn.decomposition import PCA\n",
        "from sklearn.svm import SVC  # for classification\n",
        "from sklearn.model_selection import GridSearchCV\n",
        "from sklearn import svm"
      ]
    },
    {
      "cell_type": "markdown",
      "metadata": {
        "id": "q2a6rPhGp4aC"
      },
      "source": [
        "**Loading Dataset CIFAR10**"
      ]
    },
    {
      "cell_type": "code",
      "execution_count": 2,
      "metadata": {
        "id": "wqJhgCp-p9c_",
        "colab": {
          "base_uri": "https://localhost:8080/"
        },
        "outputId": "c0fc1c7d-785e-4515-d4e4-a415e2a905c3"
      },
      "outputs": [
        {
          "output_type": "stream",
          "name": "stdout",
          "text": [
            "Downloading data from https://www.cs.toronto.edu/~kriz/cifar-10-python.tar.gz\n",
            "\u001b[1m170498071/170498071\u001b[0m \u001b[32m━━━━━━━━━━━━━━━━━━━━\u001b[0m\u001b[37m\u001b[0m \u001b[1m2s\u001b[0m 0us/step\n"
          ]
        }
      ],
      "source": [
        "cifar10 = tf.keras.datasets.cifar10\n",
        "(X, y), (X_test, y_test) = cifar10.load_data() # load cifar10"
      ]
    },
    {
      "cell_type": "markdown",
      "metadata": {
        "id": "heSCT-Wn4iXk"
      },
      "source": [
        "**Split Data Process**\n",
        "\n",
        "Επειδή ο διαχωρισμός των δεδομένων σε train-test γίνεται αυτόματα σε 90%-10% χρησιμοποιώ την μέθοδο concatenate(), ώστε να ενοποιήσω τα σύνολα εκπαίδευσης - δοκιμής και στη συνέχεια τα ξαναχωρίζω σε train-validation-test με ποσοστά 60%-20%-20%.\n",
        "\n",
        "**Επιλέγω τυχαία ένα υποσύνολο του συνολικού dataset cifar10."
      ]
    },
    {
      "cell_type": "code",
      "execution_count": 3,
      "metadata": {
        "id": "FBaDvC_z5_TS"
      },
      "outputs": [],
      "source": [
        "# combine train and test dataset\n",
        "X_full = np.concatenate((X, X_test), axis=0)\n",
        "y_full = np.concatenate((y, y_test), axis=0)\n",
        "\n",
        "# select a random subset\n",
        "subset_size = 10000\n",
        "indices = np.random.choice(len(X_full), size=subset_size, replace=False)\n",
        "X_full = X_full[indices]\n",
        "y_full = y_full[indices]\n",
        "\n",
        "# Split data into train-validation-test sets (60%-20%-20%)\n",
        "X_train, X_test, y_train, y_test = train_test_split(X_full, y_full, test_size=0.4,\n",
        "                                                    random_state=0)\n",
        "\n",
        "X_val, X_test, y_val, y_test = train_test_split(X_test, y_test, test_size=0.5,\n",
        "                                                random_state=0)"
      ]
    },
    {
      "cell_type": "markdown",
      "metadata": {
        "id": "SU08IDkuBkC4"
      },
      "source": [
        "**Data** **Preprocessing**\n",
        "\n",
        "Εαν εμφανίσουμε το σχήμα των δεδομένων εκπαίδευσης - δοκιμής με την μέθοδο\n",
        "shape() βλέπουμε τις 4 διαστάσεις του πίνακα που περιέχει τις εικόνες.\n",
        "\n",
        "1. Για τα δεδομένα-εικόνες: Η πρώτη διάσταση δείχνει τον αριθμώ των εικόνων, η δεύτερη και η τρίτη το ύψος και το πλάτος των εικόνων σε pixel και η τέταρτη τον αριθμό των καναλιών χρώματος (RGB).\n",
        "\n",
        "2. Για τα δεδομένα-labels: Η πρώτη διάσταση δείχνει τον αριθμώ των εικόνων και η δεύτερη ότι για κάθε εικόνα αντιστοιχεί ένα label δηλαδή μία κατηγορία που αναπαριστά κάθε εικόνα."
      ]
    },
    {
      "cell_type": "code",
      "execution_count": 4,
      "metadata": {
        "id": "m1uVJcvbBxbF",
        "colab": {
          "base_uri": "https://localhost:8080/"
        },
        "outputId": "191b7cef-01d0-4463-d758-7772c7b00dca"
      },
      "outputs": [
        {
          "output_type": "stream",
          "name": "stdout",
          "text": [
            "X_train.shape: (6000, 32, 32, 3)\n",
            "y_train.shape: (6000, 1)\n",
            "X_test.shape: (2000, 32, 32, 3)\n",
            "y_test.shape: (2000, 1)\n",
            "X_val.shape: (2000, 32, 32, 3)\n",
            "y_val.shape: (2000, 1)\n"
          ]
        }
      ],
      "source": [
        "print(\"X_train.shape: {}\\ny_train.shape: {}\\nX_test.shape: {}\\ny_test.shape: {}\\nX_val.shape: {}\\ny_val.shape: {}\".format(X_train.shape, y_train.shape,\n",
        "                                                                                                                          X_test.shape, y_test.shape,\n",
        "                                                                                                                          X_val.shape, y_val.shape))"
      ]
    },
    {
      "cell_type": "markdown",
      "metadata": {
        "id": "tou0cGVvF_DR"
      },
      "source": [
        "Ο SVM δεν μπορεί να επεξεργαστεί δεδομένα εικόνας απευθείας σε μορφή πίνακα 2D ή 3D. Επομένως, για να μπορέσει να δεχθεί τις εικόνες ως δεδομένα εισόδου και να ακολουθήσει η διαδικασία εκπαίδευσης - δοκιμής θα πρέπει πρώτα να γίνει μετατροπή (reshape()) των δεδομένων σε μονοδιάστατα διανύσματα (flat vectors).\n"
      ]
    },
    {
      "cell_type": "code",
      "execution_count": 5,
      "metadata": {
        "id": "zNoKGn5qJce8",
        "colab": {
          "base_uri": "https://localhost:8080/"
        },
        "outputId": "1494ef2b-b559-4e63-9793-0d58dfc19adb"
      },
      "outputs": [
        {
          "output_type": "stream",
          "name": "stdout",
          "text": [
            "X_train.shape: (6000, 3072)\n",
            "y_train.shape: (6000, 1)\n",
            "X_test.shape: (2000, 3072)\n",
            "y_test.shape: (2000, 1)\n",
            "X_val.shape: (2000, 3072)\n",
            "y_val.shape: (2000, 1)\n"
          ]
        }
      ],
      "source": [
        "# Reshaping Data into vectors\n",
        "X_train = X_train.reshape(X_train.shape[0], -1)\n",
        "X_test = X_test.reshape(X_test.shape[0], -1)\n",
        "X_val = X_val.reshape(X_val.shape[0], -1)\n",
        "\n",
        "print(\"X_train.shape: {}\\ny_train.shape: {}\\nX_test.shape: {}\\ny_test.shape: {}\\nX_val.shape: {}\\ny_val.shape: {}\".format(X_train.shape, y_train.shape,\n",
        "                                                                                                                          X_test.shape, y_test.shape,\n",
        "                                                                                                                          X_val.shape, y_val.shape))"
      ]
    },
    {
      "cell_type": "markdown",
      "metadata": {
        "id": "ssGIeBN_Jj5r"
      },
      "source": [
        "Για τη βελτίωση της απόδοσης του SVM είναι απαραίτητες η \"Κανονικοποίηση\" των δεδομένων και η \"Μέθοδος Ανάλυσης Κύριων Συνιστωσών\" (PCA).\n",
        "\n",
        "Κάνουμε κανονικοποίηση/ για να εξασφαλίσουμε ότι όλα τα χαρακτηρισιτκά έχουν την ίδια κλίμακα, έτσι ώστε να μην κυριαρχούν χαρακτηριστικά σε μεγάλες τιμές στην pca."
      ]
    },
    {
      "cell_type": "markdown",
      "metadata": {
        "id": "RXSGTZFI7Kqr"
      },
      "source": [
        "Πριν κάνω pca βλέπω πόσες συνιστώσες μπορώ κρατήσω ώστε να κρατήσω όσο το δυνατόν περισσότερη πληροφορία."
      ]
    },
    {
      "cell_type": "code",
      "execution_count": 6,
      "metadata": {
        "id": "BCxrAfDe6eqT",
        "colab": {
          "base_uri": "https://localhost:8080/",
          "height": 466
        },
        "outputId": "caeed630-2284-4766-fb21-cf300c8e8fe1"
      },
      "outputs": [
        {
          "output_type": "execute_result",
          "data": {
            "text/plain": [
              "Text(0, 0.5, 'cumulative explained variance')"
            ]
          },
          "metadata": {},
          "execution_count": 6
        },
        {
          "output_type": "display_data",
          "data": {
            "text/plain": [
              "<Figure size 640x480 with 1 Axes>"
            ],
            "image/png": "[encoded data removed]"
          },
          "metadata": {}
        }
      ],
      "source": [
        "combined=np.vstack((X_train, X_val))\n",
        "\n",
        "pca = PCA().fit(combined)\n",
        "plt.plot(np.cumsum(pca.explained_variance_ratio_))\n",
        "plt.xlabel('number of components')\n",
        "plt.ylabel('cumulative explained variance')"
      ]
    },
    {
      "cell_type": "code",
      "execution_count": 7,
      "metadata": {
        "id": "4ZMRyV3a7Nd0",
        "colab": {
          "base_uri": "https://localhost:8080/"
        },
        "outputId": "f91853de-2580-45b5-e20a-05963b7436c9"
      },
      "outputs": [
        {
          "output_type": "stream",
          "name": "stdout",
          "text": [
            "0.8455345274826039\n",
            "0.9029320909046785\n",
            "0.9306670099905888\n",
            "0.9848711851977966\n"
          ]
        }
      ],
      "source": [
        "print(pca.explained_variance_ratio_.cumsum()[50])\n",
        "print(pca.explained_variance_ratio_.cumsum()[100])\n",
        "print(pca.explained_variance_ratio_.cumsum()[150])\n",
        "print(pca.explained_variance_ratio_.cumsum()[500])"
      ]
    },
    {
      "cell_type": "code",
      "execution_count": 8,
      "metadata": {
        "id": "Bhps8ExsTfoB"
      },
      "outputs": [],
      "source": [
        "# Standardization of data\n",
        "scaler = StandardScaler()\n",
        "X_train = scaler.fit_transform(X_train)\n",
        "X_test = scaler.transform(X_test)\n",
        "X_val = scaler.transform(X_val)"
      ]
    },
    {
      "cell_type": "code",
      "execution_count": null,
      "metadata": {
        "id": "qmZzRRvKngE3"
      },
      "outputs": [],
      "source": [
        "# Normalization\n",
        "# X_train = X_train / 255.0\n",
        "# X_test = X_test / 255.0\n",
        "# X_val = X_val / 255.0"
      ]
    },
    {
      "cell_type": "markdown",
      "metadata": {
        "id": "MuDlPVzZxJQo"
      },
      "source": [
        "Με το PCA επιτυγχάνεται η μείωση διάστασης των δεδομένων κρατώντας τις πιο σημαντικές συνιστώσες δηλαδή επιτυγχάνεται η αναδόμηση των δεδομένων σε νέες διαστάσεις, δίνοντας ίση βαρύτητα σε όλα τα χαρακτηριστικά εφόσον έχουν προηγηθεί είτε Normalization είτε Standardization."
      ]
    },
    {
      "cell_type": "code",
      "execution_count": 9,
      "metadata": {
        "id": "d9m10U5MToTX",
        "colab": {
          "base_uri": "https://localhost:8080/"
        },
        "outputId": "2771620d-f46f-4ca1-ad81-4f57d5cd65ff"
      },
      "outputs": [
        {
          "output_type": "stream",
          "name": "stdout",
          "text": [
            "X_train.shape: (6000, 200)\n",
            "y_train.shape: (6000, 1)\n",
            "X_test.shape: (2000, 200)\n",
            "y_test.shape: (2000, 1)\n",
            "X_val.shape: (2000, 200)\n",
            "y_val.shape: (2000, 1)\n"
          ]
        }
      ],
      "source": [
        "# pca for dimensionality reduction\n",
        "pca_cifar = PCA(n_components=200)\n",
        "X_train = pca_cifar.fit_transform(X_train)\n",
        "X_test = pca_cifar.transform(X_test)\n",
        "X_val = pca_cifar.transform(X_val)\n",
        "\n",
        "print(\"X_train.shape: {}\\ny_train.shape: {}\\nX_test.shape: {}\\ny_test.shape: {}\\nX_val.shape: {}\\ny_val.shape: {}\".format(X_train.shape, y_train.shape,\n",
        "                                                                                                                          X_test.shape, y_test.shape,\n",
        "                                                                                                                          X_val.shape, y_val.shape))"
      ]
    },
    {
      "cell_type": "markdown",
      "metadata": {
        "id": "-o0URICQUEtp"
      },
      "source": [
        "**Model** **Training**\n",
        "\n",
        "Types of Kernel: Linear, RBF, Polynomial"
      ]
    },
    {
      "cell_type": "markdown",
      "metadata": {
        "id": "qvgvyCbIYlqP"
      },
      "source": [
        "SVM Linear Kernel\n",
        "\n",
        "Δοκιμάζω διαφορετικές τιμές της παραμέτρου C (regularization parameter).\n",
        "Δημιουργία μεθόδου linear_model_method (), η οποία θα παίρνει ως όρισμα διαφορετικές παραμέτρους C από μία λίστα που θα δημιουργήσω."
      ]
    },
    {
      "cell_type": "code",
      "execution_count": 10,
      "metadata": {
        "id": "-ek16QffZm_e"
      },
      "outputs": [],
      "source": [
        "# Prepare variables to store the results\n",
        "train_set_accuracy = []\n",
        "val_set_caccuracy = []\n",
        "test_set_accuracy = []\n",
        "results = []\n",
        "\n",
        "# Function to train SVM with Linear Kernel\n",
        "def linear_model_SVM (c):\n",
        "    start_time = time.time()\n",
        "    svm_classifier = SVC(kernel='linear', C=c)\n",
        "\n",
        "    svm_classifier.fit(X_train, y_train.ravel())\n",
        "\n",
        "    # Accuracy for train set\n",
        "    pred = svm_classifier.predict(X_train)\n",
        "    acc_train = np.mean(pred == y_train.ravel())\n",
        "    train_set_accuracy.append(acc_train)\n",
        "    print(\"Train Accuracy for C = {}: {}\".format(c, acc_train))\n",
        "\n",
        "    # Accuracy for validation set\n",
        "    pred = svm_classifier.predict(X_val)\n",
        "    acc_val = np.mean(pred == y_val.ravel())\n",
        "    val_set_caccuracy.append(acc_val)\n",
        "    print(\"Validation Accuracy for C = {}: {}\".format(c, acc_val))\n",
        "\n",
        "    # Accuracy for test set\n",
        "    pred = svm_classifier.predict(X_test)\n",
        "    acc_test = np.mean(pred == y_test.ravel())\n",
        "    test_set_accuracy.append(acc_test)\n",
        "    print(\"Test Accuracy for C = {}: {}\".format(c, acc_test))\n",
        "\n",
        "    # Run time\n",
        "    end_time = time.time()\n",
        "    run_time = end_time - start_time\n",
        "\n",
        "    results.append({\n",
        "            'Kernel': 'linear',\n",
        "            'C': c,\n",
        "            'Train Accuracy': acc_train,\n",
        "            'Validation Accuracy': acc_val,\n",
        "            'Test Accuracy': acc_test,\n",
        "            'Run time: ': run_time\n",
        "            })"
      ]
    },
    {
      "cell_type": "code",
      "execution_count": 11,
      "metadata": {
        "colab": {
          "base_uri": "https://localhost:8080/",
          "height": 837
        },
        "id": "BCu2rPJVtJX1",
        "outputId": "1c9fd38d-9920-42f2-db18-ad6c6d8337f3"
      },
      "outputs": [
        {
          "output_type": "stream",
          "name": "stdout",
          "text": [
            "Train Accuracy for C = 0.0001: 0.4008333333333333\n",
            "Validation Accuracy for C = 0.0001: 0.3915\n",
            "Test Accuracy for C = 0.0001: 0.3775\n",
            "Train Accuracy for C = 0.0005: 0.4573333333333333\n",
            "Validation Accuracy for C = 0.0005: 0.4085\n",
            "Test Accuracy for C = 0.0005: 0.379\n",
            "Train Accuracy for C = 0.001: 0.4806666666666667\n",
            "Validation Accuracy for C = 0.001: 0.407\n",
            "Test Accuracy for C = 0.001: 0.3785\n",
            "Train Accuracy for C = 0.005: 0.5223333333333333\n",
            "Validation Accuracy for C = 0.005: 0.3915\n",
            "Test Accuracy for C = 0.005: 0.3655\n",
            "Train Accuracy for C = 0.01: 0.535\n",
            "Validation Accuracy for C = 0.01: 0.383\n",
            "Test Accuracy for C = 0.01: 0.355\n",
            "Train Accuracy for C = 0.05: 0.5535\n",
            "Validation Accuracy for C = 0.05: 0.371\n",
            "Test Accuracy for C = 0.05: 0.3395\n",
            "Train Accuracy for C = 0.1: 0.5591666666666667\n",
            "Validation Accuracy for C = 0.1: 0.373\n",
            "Test Accuracy for C = 0.1: 0.338\n"
          ]
        },
        {
          "output_type": "display_data",
          "data": {
            "text/plain": [
              "<Figure size 640x480 with 1 Axes>"
            ],
            "image/png": "[encoded data removed]"
          },
          "metadata": {}
        }
      ],
      "source": [
        "# Run SVM model for different C values\n",
        "C_values = [0.0001, 0.0005, 0.001, 0.005, 0.01, 0.05, 0.1]\n",
        "\n",
        "for c in C_values:\n",
        "  linear_model_SVM(c)\n",
        "\n",
        "# Print the results\n",
        "plt.plot(C_values, train_set_accuracy,'.-',color='red')\n",
        "plt.plot(C_values, test_set_accuracy,'.-',color='blue')\n",
        "plt.plot(C_values, val_set_caccuracy,'.-',color='green')\n",
        "plt.legend(['Train Accuracy', 'Test Accuracy', 'Validation Accuracy'])\n",
        "plt.title(\"Plot of accuracy vs c for training and test data\")\n",
        "plt.xlabel('c')\n",
        "plt.ylabel('Accuracy')\n",
        "plt.grid()"
      ]
    },
    {
      "cell_type": "code",
      "execution_count": 12,
      "metadata": {
        "colab": {
          "base_uri": "https://localhost:8080/",
          "height": 269
        },
        "id": "fFAtzRA70uEa",
        "outputId": "e5412cf3-61e2-4808-c847-910ab7ae1b96"
      },
      "outputs": [
        {
          "output_type": "execute_result",
          "data": {
            "text/plain": [
              "   Kernel       C  Train Accuracy  Validation Accuracy  Test Accuracy  \\\n",
              "0  linear  0.0001        0.400833               0.3915         0.3775   \n",
              "1  linear  0.0005        0.457333               0.4085         0.3790   \n",
              "2  linear  0.0010        0.480667               0.4070         0.3785   \n",
              "3  linear  0.0050        0.522333               0.3915         0.3655   \n",
              "4  linear  0.0100        0.535000               0.3830         0.3550   \n",
              "5  linear  0.0500        0.553500               0.3710         0.3395   \n",
              "6  linear  0.1000        0.559167               0.3730         0.3380   \n",
              "\n",
              "   Run time:   \n",
              "0   11.431442  \n",
              "1   11.243291  \n",
              "2   10.862173  \n",
              "3   14.139729  \n",
              "4   18.975378  \n",
              "5   76.386504  \n",
              "6  155.204037  "
            ],
            "text/html": [
              "\n",
              "  <div id=\"df-b5f6feb9-d419-4dea-8c2d-bfb21683db1a\" class=\"colab-df-container\">\n",
              "    <div>\n",
              "<style scoped>\n",
              "    .dataframe tbody tr th:only-of-type {\n",
              "        vertical-align: middle;\n",
              "    }\n",
              "\n",
              "    .dataframe tbody tr th {\n",
              "        vertical-align: top;\n",
              "    }\n",
              "\n",
              "    .dataframe thead th {\n",
              "        text-align: right;\n",
              "    }\n",
              "</style>\n",
              "<table border=\"1\" class=\"dataframe\">\n",
              "  <thead>\n",
              "    <tr style=\"text-align: right;\">\n",
              "      <th></th>\n",
              "      <th>Kernel</th>\n",
              "      <th>C</th>\n",
              "      <th>Train Accuracy</th>\n",
              "      <th>Validation Accuracy</th>\n",
              "      <th>Test Accuracy</th>\n",
              "      <th>Run time:</th>\n",
              "    </tr>\n",
              "  </thead>\n",
              "  <tbody>\n",
              "    <tr>\n",
              "      <th>0</th>\n",
              "      <td>linear</td>\n",
              "      <td>0.0001</td>\n",
              "      <td>0.400833</td>\n",
              "      <td>0.3915</td>\n",
              "      <td>0.3775</td>\n",
              "      <td>11.431442</td>\n",
              "    </tr>\n",
              "    <tr>\n",
              "      <th>1</th>\n",
              "      <td>linear</td>\n",
              "      <td>0.0005</td>\n",
              "      <td>0.457333</td>\n",
              "      <td>0.4085</td>\n",
              "      <td>0.3790</td>\n",
              "      <td>11.243291</td>\n",
              "    </tr>\n",
              "    <tr>\n",
              "      <th>2</th>\n",
              "      <td>linear</td>\n",
              "      <td>0.0010</td>\n",
              "      <td>0.480667</td>\n",
              "      <td>0.4070</td>\n",
              "      <td>0.3785</td>\n",
              "      <td>10.862173</td>\n",
              "    </tr>\n",
              "    <tr>\n",
              "      <th>3</th>\n",
              "      <td>linear</td>\n",
              "      <td>0.0050</td>\n",
              "      <td>0.522333</td>\n",
              "      <td>0.3915</td>\n",
              "      <td>0.3655</td>\n",
              "      <td>14.139729</td>\n",
              "    </tr>\n",
              "    <tr>\n",
              "      <th>4</th>\n",
              "      <td>linear</td>\n",
              "      <td>0.0100</td>\n",
              "      <td>0.535000</td>\n",
              "      <td>0.3830</td>\n",
              "      <td>0.3550</td>\n",
              "      <td>18.975378</td>\n",
              "    </tr>\n",
              "    <tr>\n",
              "      <th>5</th>\n",
              "      <td>linear</td>\n",
              "      <td>0.0500</td>\n",
              "      <td>0.553500</td>\n",
              "      <td>0.3710</td>\n",
              "      <td>0.3395</td>\n",
              "      <td>76.386504</td>\n",
              "    </tr>\n",
              "    <tr>\n",
              "      <th>6</th>\n",
              "      <td>linear</td>\n",
              "      <td>0.1000</td>\n",
              "      <td>0.559167</td>\n",
              "      <td>0.3730</td>\n",
              "      <td>0.3380</td>\n",
              "      <td>155.204037</td>\n",
              "    </tr>\n",
              "  </tbody>\n",
              "</table>\n",
              "</div>\n",
              "    <div class=\"colab-df-buttons\">\n",
              "\n",
              "  <div class=\"colab-df-container\">\n",
              "    <button class=\"colab-df-convert\" onclick=\"convertToInteractive('df-b5f6feb9-d419-4dea-8c2d-bfb21683db1a')\"\n",
              "            title=\"Convert this dataframe to an interactive table.\"\n",
              "            style=\"display:none;\">\n",
              "\n",
              "  <svg xmlns=\"http://www.w3.org/2000/svg\" height=\"24px\" viewBox=\"0 -960 960 960\">\n",
              "    <path d=\"M120-120v-720h720v720H120Zm60-500h600v-160H180v160Zm220 220h160v-160H400v160Zm0 220h160v-160H400v160ZM180-400h160v-160H180v160Zm440 0h160v-160H620v160ZM180-180h160v-160H180v160Zm440 0h160v-160H620v160Z\"/>\n",
              "  </svg>\n",
              "    </button>\n",
              "\n",
              "  <style>\n",
              "    .colab-df-container {\n",
              "      display:flex;\n",
              "      gap: 12px;\n",
              "    }\n",
              "\n",
              "    .colab-df-convert {\n",
              "      background-color: #E8F0FE;\n",
              "      border: none;\n",
              "      border-radius: 50%;\n",
              "      cursor: pointer;\n",
              "      display: none;\n",
              "      fill: #1967D2;\n",
              "      height: 32px;\n",
              "      padding: 0 0 0 0;\n",
              "      width: 32px;\n",
              "    }\n",
              "\n",
              "    .colab-df-convert:hover {\n",
              "      background-color: #E2EBFA;\n",
              "      box-shadow: 0px 1px 2px rgba(60, 64, 67, 0.3), 0px 1px 3px 1px rgba(60, 64, 67, 0.15);\n",
              "      fill: #174EA6;\n",
              "    }\n",
              "\n",
              "    .colab-df-buttons div {\n",
              "      margin-bottom: 4px;\n",
              "    }\n",
              "\n",
              "    [theme=dark] .colab-df-convert {\n",
              "      background-color: #3B4455;\n",
              "      fill: #D2E3FC;\n",
              "    }\n",
              "\n",
              "    [theme=dark] .colab-df-convert:hover {\n",
              "      background-color: #434B5C;\n",
              "      box-shadow: 0px 1px 3px 1px rgba(0, 0, 0, 0.15);\n",
              "      filter: drop-shadow(0px 1px 2px rgba(0, 0, 0, 0.3));\n",
              "      fill: #FFFFFF;\n",
              "    }\n",
              "  </style>\n",
              "\n",
              "    <script>\n",
              "      const buttonEl =\n",
              "        document.querySelector('#df-b5f6feb9-d419-4dea-8c2d-bfb21683db1a button.colab-df-convert');\n",
              "      buttonEl.style.display =\n",
              "        google.colab.kernel.accessAllowed ? 'block' : 'none';\n",
              "\n",
              "      async function convertToInteractive(key) {\n",
              "        const element = document.querySelector('#df-b5f6feb9-d419-4dea-8c2d-bfb21683db1a');\n",
              "        const dataTable =\n",
              "          await google.colab.kernel.invokeFunction('convertToInteractive',\n",
              "                                                    [key], {});\n",
              "        if (!dataTable) return;\n",
              "\n",
              "        const docLinkHtml = 'Like what you see? Visit the ' +\n",
              "          '<a target=\"_blank\" href=https://colab.research.google.com/notebooks/data_table.ipynb>data table notebook</a>'\n",
              "          + ' to learn more about interactive tables.';\n",
              "        element.innerHTML = '';\n",
              "        dataTable['output_type'] = 'display_data';\n",
              "        await google.colab.output.renderOutput(dataTable, element);\n",
              "        const docLink = document.createElement('div');\n",
              "        docLink.innerHTML = docLinkHtml;\n",
              "        element.appendChild(docLink);\n",
              "      }\n",
              "    </script>\n",
              "  </div>\n",
              "\n",
              "\n",
              "<div id=\"df-8eb423e5-d48d-4cce-a605-0630da3ac4de\">\n",
              "  <button class=\"colab-df-quickchart\" onclick=\"quickchart('df-8eb423e5-d48d-4cce-a605-0630da3ac4de')\"\n",
              "            title=\"Suggest charts\"\n",
              "            style=\"display:none;\">\n",
              "\n",
              "<svg xmlns=\"http://www.w3.org/2000/svg\" height=\"24px\"viewBox=\"0 0 24 24\"\n",
              "     width=\"24px\">\n",
              "    <g>\n",
              "        <path d=\"M19 3H5c-1.1 0-2 .9-2 2v14c0 1.1.9 2 2 2h14c1.1 0 2-.9 2-2V5c0-1.1-.9-2-2-2zM9 17H7v-7h2v7zm4 0h-2V7h2v10zm4 0h-2v-4h2v4z\"/>\n",
              "    </g>\n",
              "</svg>\n",
              "  </button>\n",
              "\n",
              "<style>\n",
              "  .colab-df-quickchart {\n",
              "      --bg-color: #E8F0FE;\n",
              "      --fill-color: #1967D2;\n",
              "      --hover-bg-color: #E2EBFA;\n",
              "      --hover-fill-color: #174EA6;\n",
              "      --disabled-fill-color: #AAA;\n",
              "      --disabled-bg-color: #DDD;\n",
              "  }\n",
              "\n",
              "  [theme=dark] .colab-df-quickchart {\n",
              "      --bg-color: #3B4455;\n",
              "      --fill-color: #D2E3FC;\n",
              "      --hover-bg-color: #434B5C;\n",
              "      --hover-fill-color: #FFFFFF;\n",
              "      --disabled-bg-color: #3B4455;\n",
              "      --disabled-fill-color: #666;\n",
              "  }\n",
              "\n",
              "  .colab-df-quickchart {\n",
              "    background-color: var(--bg-color);\n",
              "    border: none;\n",
              "    border-radius: 50%;\n",
              "    cursor: pointer;\n",
              "    display: none;\n",
              "    fill: var(--fill-color);\n",
              "    height: 32px;\n",
              "    padding: 0;\n",
              "    width: 32px;\n",
              "  }\n",
              "\n",
              "  .colab-df-quickchart:hover {\n",
              "    background-color: var(--hover-bg-color);\n",
              "    box-shadow: 0 1px 2px rgba(60, 64, 67, 0.3), 0 1px 3px 1px rgba(60, 64, 67, 0.15);\n",
              "    fill: var(--button-hover-fill-color);\n",
              "  }\n",
              "\n",
              "  .colab-df-quickchart-complete:disabled,\n",
              "  .colab-df-quickchart-complete:disabled:hover {\n",
              "    background-color: var(--disabled-bg-color);\n",
              "    fill: var(--disabled-fill-color);\n",
              "    box-shadow: none;\n",
              "  }\n",
              "\n",
              "  .colab-df-spinner {\n",
              "    border: 2px solid var(--fill-color);\n",
              "    border-color: transparent;\n",
              "    border-bottom-color: var(--fill-color);\n",
              "    animation:\n",
              "      spin 1s steps(1) infinite;\n",
              "  }\n",
              "\n",
              "  @keyframes spin {\n",
              "    0% {\n",
              "      border-color: transparent;\n",
              "      border-bottom-color: var(--fill-color);\n",
              "      border-left-color: var(--fill-color);\n",
              "    }\n",
              "    20% {\n",
              "      border-color: transparent;\n",
              "      border-left-color: var(--fill-color);\n",
              "      border-top-color: var(--fill-color);\n",
              "    }\n",
              "    30% {\n",
              "      border-color: transparent;\n",
              "      border-left-color: var(--fill-color);\n",
              "      border-top-color: var(--fill-color);\n",
              "      border-right-color: var(--fill-color);\n",
              "    }\n",
              "    40% {\n",
              "      border-color: transparent;\n",
              "      border-right-color: var(--fill-color);\n",
              "      border-top-color: var(--fill-color);\n",
              "    }\n",
              "    60% {\n",
              "      border-color: transparent;\n",
              "      border-right-color: var(--fill-color);\n",
              "    }\n",
              "    80% {\n",
              "      border-color: transparent;\n",
              "      border-right-color: var(--fill-color);\n",
              "      border-bottom-color: var(--fill-color);\n",
              "    }\n",
              "    90% {\n",
              "      border-color: transparent;\n",
              "      border-bottom-color: var(--fill-color);\n",
              "    }\n",
              "  }\n",
              "</style>\n",
              "\n",
              "  <script>\n",
              "    async function quickchart(key) {\n",
              "      const quickchartButtonEl =\n",
              "        document.querySelector('#' + key + ' button');\n",
              "      quickchartButtonEl.disabled = true;  // To prevent multiple clicks.\n",
              "      quickchartButtonEl.classList.add('colab-df-spinner');\n",
              "      try {\n",
              "        const charts = await google.colab.kernel.invokeFunction(\n",
              "            'suggestCharts', [key], {});\n",
              "      } catch (error) {\n",
              "        console.error('Error during call to suggestCharts:', error);\n",
              "      }\n",
              "      quickchartButtonEl.classList.remove('colab-df-spinner');\n",
              "      quickchartButtonEl.classList.add('colab-df-quickchart-complete');\n",
              "    }\n",
              "    (() => {\n",
              "      let quickchartButtonEl =\n",
              "        document.querySelector('#df-8eb423e5-d48d-4cce-a605-0630da3ac4de button');\n",
              "      quickchartButtonEl.style.display =\n",
              "        google.colab.kernel.accessAllowed ? 'block' : 'none';\n",
              "    })();\n",
              "  </script>\n",
              "</div>\n",
              "\n",
              "  <div id=\"id_9220f7d5-69e0-4fef-af29-0a97daf4e34f\">\n",
              "    <style>\n",
              "      .colab-df-generate {\n",
              "        background-color: #E8F0FE;\n",
              "        border: none;\n",
              "        border-radius: 50%;\n",
              "        cursor: pointer;\n",
              "        display: none;\n",
              "        fill: #1967D2;\n",
              "        height: 32px;\n",
              "        padding: 0 0 0 0;\n",
              "        width: 32px;\n",
              "      }\n",
              "\n",
              "      .colab-df-generate:hover {\n",
              "        background-color: #E2EBFA;\n",
              "        box-shadow: 0px 1px 2px rgba(60, 64, 67, 0.3), 0px 1px 3px 1px rgba(60, 64, 67, 0.15);\n",
              "        fill: #174EA6;\n",
              "      }\n",
              "\n",
              "      [theme=dark] .colab-df-generate {\n",
              "        background-color: #3B4455;\n",
              "        fill: #D2E3FC;\n",
              "      }\n",
              "\n",
              "      [theme=dark] .colab-df-generate:hover {\n",
              "        background-color: #434B5C;\n",
              "        box-shadow: 0px 1px 3px 1px rgba(0, 0, 0, 0.15);\n",
              "        filter: drop-shadow(0px 1px 2px rgba(0, 0, 0, 0.3));\n",
              "        fill: #FFFFFF;\n",
              "      }\n",
              "    </style>\n",
              "    <button class=\"colab-df-generate\" onclick=\"generateWithVariable('results_df')\"\n",
              "            title=\"Generate code using this dataframe.\"\n",
              "            style=\"display:none;\">\n",
              "\n",
              "  <svg xmlns=\"http://www.w3.org/2000/svg\" height=\"24px\"viewBox=\"0 0 24 24\"\n",
              "       width=\"24px\">\n",
              "    <path d=\"M7,19H8.4L18.45,9,17,7.55,7,17.6ZM5,21V16.75L18.45,3.32a2,2,0,0,1,2.83,0l1.4,1.43a1.91,1.91,0,0,1,.58,1.4,1.91,1.91,0,0,1-.58,1.4L9.25,21ZM18.45,9,17,7.55Zm-12,3A5.31,5.31,0,0,0,4.9,8.1,5.31,5.31,0,0,0,1,6.5,5.31,5.31,0,0,0,4.9,4.9,5.31,5.31,0,0,0,6.5,1,5.31,5.31,0,0,0,8.1,4.9,5.31,5.31,0,0,0,12,6.5,5.46,5.46,0,0,0,6.5,12Z\"/>\n",
              "  </svg>\n",
              "    </button>\n",
              "    <script>\n",
              "      (() => {\n",
              "      const buttonEl =\n",
              "        document.querySelector('#id_9220f7d5-69e0-4fef-af29-0a97daf4e34f button.colab-df-generate');\n",
              "      buttonEl.style.display =\n",
              "        google.colab.kernel.accessAllowed ? 'block' : 'none';\n",
              "\n",
              "      buttonEl.onclick = () => {\n",
              "        google.colab.notebook.generateWithVariable('results_df');\n",
              "      }\n",
              "      })();\n",
              "    </script>\n",
              "  </div>\n",
              "\n",
              "    </div>\n",
              "  </div>\n"
            ],
            "application/vnd.google.colaboratory.intrinsic+json": {
              "type": "dataframe",
              "variable_name": "results_df",
              "summary": "{\n  \"name\": \"results_df\",\n  \"rows\": 7,\n  \"fields\": [\n    {\n      \"column\": \"Kernel\",\n      \"properties\": {\n        \"dtype\": \"category\",\n        \"num_unique_values\": 1,\n        \"samples\": [\n          \"linear\"\n        ],\n        \"semantic_type\": \"\",\n        \"description\": \"\"\n      }\n    },\n    {\n      \"column\": \"C\",\n      \"properties\": {\n        \"dtype\": \"number\",\n        \"std\": 0.037993815286175195,\n        \"min\": 0.0001,\n        \"max\": 0.1,\n        \"num_unique_values\": 7,\n        \"samples\": [\n          0.0001\n        ],\n        \"semantic_type\": \"\",\n        \"description\": \"\"\n      }\n    },\n    {\n      \"column\": \"Train Accuracy\",\n      \"properties\": {\n        \"dtype\": \"number\",\n        \"std\": 0.057884691984475205,\n        \"min\": 0.4008333333333333,\n        \"max\": 0.5591666666666667,\n        \"num_unique_values\": 7,\n        \"samples\": [\n          0.4008333333333333\n        ],\n        \"semantic_type\": \"\",\n        \"description\": \"\"\n      }\n    },\n    {\n      \"column\": \"Validation Accuracy\",\n      \"properties\": {\n        \"dtype\": \"number\",\n        \"std\": 0.014898865409023273,\n        \"min\": 0.371,\n        \"max\": 0.4085,\n        \"num_unique_values\": 6,\n        \"samples\": [\n          0.3915\n        ],\n        \"semantic_type\": \"\",\n        \"description\": \"\"\n      }\n    },\n    {\n      \"column\": \"Test Accuracy\",\n      \"properties\": {\n        \"dtype\": \"number\",\n        \"std\": 0.018003967816646885,\n        \"min\": 0.338,\n        \"max\": 0.379,\n        \"num_unique_values\": 7,\n        \"samples\": [\n          0.3775\n        ],\n        \"semantic_type\": \"\",\n        \"description\": \"\"\n      }\n    },\n    {\n      \"column\": \"Run time: \",\n      \"properties\": {\n        \"dtype\": \"number\",\n        \"std\": 55.00199769309792,\n        \"min\": 10.862172842025757,\n        \"max\": 155.20403742790222,\n        \"num_unique_values\": 7,\n        \"samples\": [\n          11.431442260742188\n        ],\n        \"semantic_type\": \"\",\n        \"description\": \"\"\n      }\n    }\n  ]\n}"
            }
          },
          "metadata": {},
          "execution_count": 12
        }
      ],
      "source": [
        "# Create a dataframe with the results\n",
        "results_df = pd.DataFrame(results)\n",
        "results_df"
      ]
    },
    {
      "cell_type": "markdown",
      "metadata": {
        "id": "IVqOu6QcbIIk"
      },
      "source": [
        "Παρατήρησεις:\n",
        "\n",
        "Για μικρό σύνολο δεδομένων (1000) το accuracy του train set αυξάνεται καθώς αυξάνεται και η τιμή του C (παράγοντας κανονικοποίησης). Αυτό υποδηλώνει ότι το μοντέλο κάνει overfitting, δηλαδή υπερπροσαρμόζεται στα δεδομένα εκπαίδευσης, αλλά αδυνατεί να γενικεύσει με επιτυχία σε νέα δεδομένα. Αυτό φαίνεται στις τιμές των validation και test accuracies, οι οποίες είναι χαμηλές."
      ]
    },
    {
      "cell_type": "markdown",
      "metadata": {
        "id": "sKxHS4YxrWtR"
      },
      "source": [
        "SVM RBF Kernel"
      ]
    },
    {
      "cell_type": "code",
      "execution_count": 13,
      "metadata": {
        "id": "NH4fQcIErWUA"
      },
      "outputs": [],
      "source": [
        "# Function to train SVM with RBF Kernel\n",
        "def rbf_model_SVM (C, g):\n",
        "\n",
        "    start_time = time.time()\n",
        "\n",
        "    svm_classifier = SVC(kernel='rbf', C=c, gamma=g)\n",
        "\n",
        "    svm_classifier.fit(X_train, y_train.ravel())\n",
        "\n",
        "    # Accuracy for train set\n",
        "    pred = svm_classifier.predict(X_train)\n",
        "    acc_train = np.mean(pred == y_train.ravel())\n",
        "    train_set_accuracy.append(acc_train)\n",
        "    print(\"Train Accuracy for C = {}: {}\".format(c, acc_train))\n",
        "\n",
        "    # Accuracy for validation set\n",
        "    pred = svm_classifier.predict(X_val)\n",
        "    acc_val = np.mean(pred == y_val.ravel())\n",
        "    val_set_accuracy.append(acc_val)\n",
        "    print(\"Validation Accuracy for C = {}: {}\".format(c, acc_val))\n",
        "\n",
        "    # Accuracy for test set\n",
        "    pred = svm_classifier.predict(X_test)\n",
        "    acc_test = np.mean(pred == y_test.ravel())\n",
        "    test_set_accuracy.append(acc_test)\n",
        "    print(\"Test Accuracy for C = {}: {}\".format(c, acc_test))\n",
        "\n",
        "    # Run time\n",
        "    end_time = time.time()\n",
        "    run_time = end_time - start_time\n",
        "\n",
        "    results.append({\n",
        "              'Kernel': 'RBF',\n",
        "              'C': c,\n",
        "              'Train Accuracy': acc_train,\n",
        "              'Validation Accuracy': acc_val,\n",
        "              'Test Accuracy': acc_test,\n",
        "               'Run time: ': run_time\n",
        "                  })"
      ]
    },
    {
      "cell_type": "code",
      "execution_count": 14,
      "metadata": {
        "colab": {
          "base_uri": "https://localhost:8080/",
          "height": 837
        },
        "id": "QgeyYUGVQaAy",
        "outputId": "3be18521-61d8-4895-8a2d-ebb5a83d7c3b"
      },
      "outputs": [
        {
          "output_type": "stream",
          "name": "stdout",
          "text": [
            "Train Accuracy for C = 0.0001: 0.10566666666666667\n",
            "Validation Accuracy for C = 0.0001: 0.106\n",
            "Test Accuracy for C = 0.0001: 0.089\n",
            "Train Accuracy for C = 0.0005: 0.10566666666666667\n",
            "Validation Accuracy for C = 0.0005: 0.106\n",
            "Test Accuracy for C = 0.0005: 0.089\n",
            "Train Accuracy for C = 0.001: 0.10566666666666667\n",
            "Validation Accuracy for C = 0.001: 0.106\n",
            "Test Accuracy for C = 0.001: 0.089\n",
            "Train Accuracy for C = 0.005: 0.10566666666666667\n",
            "Validation Accuracy for C = 0.005: 0.106\n",
            "Test Accuracy for C = 0.005: 0.089\n",
            "Train Accuracy for C = 0.01: 0.10566666666666667\n",
            "Validation Accuracy for C = 0.01: 0.106\n",
            "Test Accuracy for C = 0.01: 0.089\n",
            "Train Accuracy for C = 0.05: 0.10566666666666667\n",
            "Validation Accuracy for C = 0.05: 0.106\n",
            "Test Accuracy for C = 0.05: 0.089\n",
            "Train Accuracy for C = 0.1: 0.10566666666666667\n",
            "Validation Accuracy for C = 0.1: 0.106\n",
            "Test Accuracy for C = 0.1: 0.089\n"
          ]
        },
        {
          "output_type": "display_data",
          "data": {
            "text/plain": [
              "<Figure size 640x480 with 1 Axes>"
            ],
            "image/png": "[encoded data removed]"
          },
          "metadata": {}
        }
      ],
      "source": [
        "C_values = [0.0001, 0.0005, 0.001, 0.005, 0.01, 0.05, 0.1]\n",
        "# C_values =  [0.0001, 0.001, 0.01, 0.1, 1]\n",
        "\n",
        "# Prepare variables to store the results\n",
        "train_set_accuracy = []\n",
        "val_set_accuracy = []\n",
        "test_set_accuracy = []\n",
        "results = []\n",
        "\n",
        "for c in C_values:\n",
        "  rbf_model_SVM(c, 'auto')\n",
        "\n",
        "# Print the results\n",
        "plt.plot(C_values, train_set_accuracy,'.-',color='red')\n",
        "plt.plot(C_values, test_set_accuracy,'.-',color='blue')\n",
        "plt.plot(C_values, val_set_accuracy,'.-',color='green')\n",
        "plt.legend(['Train Accuracy', 'Test Accuracy', 'Validation Accuracy'])\n",
        "plt.title(\"Plot of accuracy vs c for training - validation data - test data\")\n",
        "plt.xlabel('c')\n",
        "plt.ylabel('Accuracy')\n",
        "plt.grid()"
      ]
    },
    {
      "cell_type": "code",
      "execution_count": 15,
      "metadata": {
        "colab": {
          "base_uri": "https://localhost:8080/",
          "height": 269
        },
        "id": "sO6TTOCPYqWe",
        "outputId": "6733a7ac-3de3-4df1-8982-5c1c154f6da5"
      },
      "outputs": [
        {
          "output_type": "execute_result",
          "data": {
            "text/plain": [
              "  Kernel       C  Train Accuracy  Validation Accuracy  Test Accuracy  \\\n",
              "0    RBF  0.0001        0.105667                0.106          0.089   \n",
              "1    RBF  0.0005        0.105667                0.106          0.089   \n",
              "2    RBF  0.0010        0.105667                0.106          0.089   \n",
              "3    RBF  0.0050        0.105667                0.106          0.089   \n",
              "4    RBF  0.0100        0.105667                0.106          0.089   \n",
              "5    RBF  0.0500        0.105667                0.106          0.089   \n",
              "6    RBF  0.1000        0.105667                0.106          0.089   \n",
              "\n",
              "   Run time:   \n",
              "0   29.556327  \n",
              "1   30.024054  \n",
              "2   29.806659  \n",
              "3   29.405281  \n",
              "4   29.379657  \n",
              "5   29.510752  \n",
              "6   30.849233  "
            ],
            "text/html": [
              "\n",
              "  <div id=\"df-8479ac11-f83c-4357-b2f9-2a9f3d60bb96\" class=\"colab-df-container\">\n",
              "    <div>\n",
              "<style scoped>\n",
              "    .dataframe tbody tr th:only-of-type {\n",
              "        vertical-align: middle;\n",
              "    }\n",
              "\n",
              "    .dataframe tbody tr th {\n",
              "        vertical-align: top;\n",
              "    }\n",
              "\n",
              "    .dataframe thead th {\n",
              "        text-align: right;\n",
              "    }\n",
              "</style>\n",
              "<table border=\"1\" class=\"dataframe\">\n",
              "  <thead>\n",
              "    <tr style=\"text-align: right;\">\n",
              "      <th></th>\n",
              "      <th>Kernel</th>\n",
              "      <th>C</th>\n",
              "      <th>Train Accuracy</th>\n",
              "      <th>Validation Accuracy</th>\n",
              "      <th>Test Accuracy</th>\n",
              "      <th>Run time:</th>\n",
              "    </tr>\n",
              "  </thead>\n",
              "  <tbody>\n",
              "    <tr>\n",
              "      <th>0</th>\n",
              "      <td>RBF</td>\n",
              "      <td>0.0001</td>\n",
              "      <td>0.105667</td>\n",
              "      <td>0.106</td>\n",
              "      <td>0.089</td>\n",
              "      <td>29.556327</td>\n",
              "    </tr>\n",
              "    <tr>\n",
              "      <th>1</th>\n",
              "      <td>RBF</td>\n",
              "      <td>0.0005</td>\n",
              "      <td>0.105667</td>\n",
              "      <td>0.106</td>\n",
              "      <td>0.089</td>\n",
              "      <td>30.024054</td>\n",
              "    </tr>\n",
              "    <tr>\n",
              "      <th>2</th>\n",
              "      <td>RBF</td>\n",
              "      <td>0.0010</td>\n",
              "      <td>0.105667</td>\n",
              "      <td>0.106</td>\n",
              "      <td>0.089</td>\n",
              "      <td>29.806659</td>\n",
              "    </tr>\n",
              "    <tr>\n",
              "      <th>3</th>\n",
              "      <td>RBF</td>\n",
              "      <td>0.0050</td>\n",
              "      <td>0.105667</td>\n",
              "      <td>0.106</td>\n",
              "      <td>0.089</td>\n",
              "      <td>29.405281</td>\n",
              "    </tr>\n",
              "    <tr>\n",
              "      <th>4</th>\n",
              "      <td>RBF</td>\n",
              "      <td>0.0100</td>\n",
              "      <td>0.105667</td>\n",
              "      <td>0.106</td>\n",
              "      <td>0.089</td>\n",
              "      <td>29.379657</td>\n",
              "    </tr>\n",
              "    <tr>\n",
              "      <th>5</th>\n",
              "      <td>RBF</td>\n",
              "      <td>0.0500</td>\n",
              "      <td>0.105667</td>\n",
              "      <td>0.106</td>\n",
              "      <td>0.089</td>\n",
              "      <td>29.510752</td>\n",
              "    </tr>\n",
              "    <tr>\n",
              "      <th>6</th>\n",
              "      <td>RBF</td>\n",
              "      <td>0.1000</td>\n",
              "      <td>0.105667</td>\n",
              "      <td>0.106</td>\n",
              "      <td>0.089</td>\n",
              "      <td>30.849233</td>\n",
              "    </tr>\n",
              "  </tbody>\n",
              "</table>\n",
              "</div>\n",
              "    <div class=\"colab-df-buttons\">\n",
              "\n",
              "  <div class=\"colab-df-container\">\n",
              "    <button class=\"colab-df-convert\" onclick=\"convertToInteractive('df-8479ac11-f83c-4357-b2f9-2a9f3d60bb96')\"\n",
              "            title=\"Convert this dataframe to an interactive table.\"\n",
              "            style=\"display:none;\">\n",
              "\n",
              "  <svg xmlns=\"http://www.w3.org/2000/svg\" height=\"24px\" viewBox=\"0 -960 960 960\">\n",
              "    <path d=\"M120-120v-720h720v720H120Zm60-500h600v-160H180v160Zm220 220h160v-160H400v160Zm0 220h160v-160H400v160ZM180-400h160v-160H180v160Zm440 0h160v-160H620v160ZM180-180h160v-160H180v160Zm440 0h160v-160H620v160Z\"/>\n",
              "  </svg>\n",
              "    </button>\n",
              "\n",
              "  <style>\n",
              "    .colab-df-container {\n",
              "      display:flex;\n",
              "      gap: 12px;\n",
              "    }\n",
              "\n",
              "    .colab-df-convert {\n",
              "      background-color: #E8F0FE;\n",
              "      border: none;\n",
              "      border-radius: 50%;\n",
              "      cursor: pointer;\n",
              "      display: none;\n",
              "      fill: #1967D2;\n",
              "      height: 32px;\n",
              "      padding: 0 0 0 0;\n",
              "      width: 32px;\n",
              "    }\n",
              "\n",
              "    .colab-df-convert:hover {\n",
              "      background-color: #E2EBFA;\n",
              "      box-shadow: 0px 1px 2px rgba(60, 64, 67, 0.3), 0px 1px 3px 1px rgba(60, 64, 67, 0.15);\n",
              "      fill: #174EA6;\n",
              "    }\n",
              "\n",
              "    .colab-df-buttons div {\n",
              "      margin-bottom: 4px;\n",
              "    }\n",
              "\n",
              "    [theme=dark] .colab-df-convert {\n",
              "      background-color: #3B4455;\n",
              "      fill: #D2E3FC;\n",
              "    }\n",
              "\n",
              "    [theme=dark] .colab-df-convert:hover {\n",
              "      background-color: #434B5C;\n",
              "      box-shadow: 0px 1px 3px 1px rgba(0, 0, 0, 0.15);\n",
              "      filter: drop-shadow(0px 1px 2px rgba(0, 0, 0, 0.3));\n",
              "      fill: #FFFFFF;\n",
              "    }\n",
              "  </style>\n",
              "\n",
              "    <script>\n",
              "      const buttonEl =\n",
              "        document.querySelector('#df-8479ac11-f83c-4357-b2f9-2a9f3d60bb96 button.colab-df-convert');\n",
              "      buttonEl.style.display =\n",
              "        google.colab.kernel.accessAllowed ? 'block' : 'none';\n",
              "\n",
              "      async function convertToInteractive(key) {\n",
              "        const element = document.querySelector('#df-8479ac11-f83c-4357-b2f9-2a9f3d60bb96');\n",
              "        const dataTable =\n",
              "          await google.colab.kernel.invokeFunction('convertToInteractive',\n",
              "                                                    [key], {});\n",
              "        if (!dataTable) return;\n",
              "\n",
              "        const docLinkHtml = 'Like what you see? Visit the ' +\n",
              "          '<a target=\"_blank\" href=https://colab.research.google.com/notebooks/data_table.ipynb>data table notebook</a>'\n",
              "          + ' to learn more about interactive tables.';\n",
              "        element.innerHTML = '';\n",
              "        dataTable['output_type'] = 'display_data';\n",
              "        await google.colab.output.renderOutput(dataTable, element);\n",
              "        const docLink = document.createElement('div');\n",
              "        docLink.innerHTML = docLinkHtml;\n",
              "        element.appendChild(docLink);\n",
              "      }\n",
              "    </script>\n",
              "  </div>\n",
              "\n",
              "\n",
              "<div id=\"df-b244f79f-bc4a-4982-8388-05c4a411895f\">\n",
              "  <button class=\"colab-df-quickchart\" onclick=\"quickchart('df-b244f79f-bc4a-4982-8388-05c4a411895f')\"\n",
              "            title=\"Suggest charts\"\n",
              "            style=\"display:none;\">\n",
              "\n",
              "<svg xmlns=\"http://www.w3.org/2000/svg\" height=\"24px\"viewBox=\"0 0 24 24\"\n",
              "     width=\"24px\">\n",
              "    <g>\n",
              "        <path d=\"M19 3H5c-1.1 0-2 .9-2 2v14c0 1.1.9 2 2 2h14c1.1 0 2-.9 2-2V5c0-1.1-.9-2-2-2zM9 17H7v-7h2v7zm4 0h-2V7h2v10zm4 0h-2v-4h2v4z\"/>\n",
              "    </g>\n",
              "</svg>\n",
              "  </button>\n",
              "\n",
              "<style>\n",
              "  .colab-df-quickchart {\n",
              "      --bg-color: #E8F0FE;\n",
              "      --fill-color: #1967D2;\n",
              "      --hover-bg-color: #E2EBFA;\n",
              "      --hover-fill-color: #174EA6;\n",
              "      --disabled-fill-color: #AAA;\n",
              "      --disabled-bg-color: #DDD;\n",
              "  }\n",
              "\n",
              "  [theme=dark] .colab-df-quickchart {\n",
              "      --bg-color: #3B4455;\n",
              "      --fill-color: #D2E3FC;\n",
              "      --hover-bg-color: #434B5C;\n",
              "      --hover-fill-color: #FFFFFF;\n",
              "      --disabled-bg-color: #3B4455;\n",
              "      --disabled-fill-color: #666;\n",
              "  }\n",
              "\n",
              "  .colab-df-quickchart {\n",
              "    background-color: var(--bg-color);\n",
              "    border: none;\n",
              "    border-radius: 50%;\n",
              "    cursor: pointer;\n",
              "    display: none;\n",
              "    fill: var(--fill-color);\n",
              "    height: 32px;\n",
              "    padding: 0;\n",
              "    width: 32px;\n",
              "  }\n",
              "\n",
              "  .colab-df-quickchart:hover {\n",
              "    background-color: var(--hover-bg-color);\n",
              "    box-shadow: 0 1px 2px rgba(60, 64, 67, 0.3), 0 1px 3px 1px rgba(60, 64, 67, 0.15);\n",
              "    fill: var(--button-hover-fill-color);\n",
              "  }\n",
              "\n",
              "  .colab-df-quickchart-complete:disabled,\n",
              "  .colab-df-quickchart-complete:disabled:hover {\n",
              "    background-color: var(--disabled-bg-color);\n",
              "    fill: var(--disabled-fill-color);\n",
              "    box-shadow: none;\n",
              "  }\n",
              "\n",
              "  .colab-df-spinner {\n",
              "    border: 2px solid var(--fill-color);\n",
              "    border-color: transparent;\n",
              "    border-bottom-color: var(--fill-color);\n",
              "    animation:\n",
              "      spin 1s steps(1) infinite;\n",
              "  }\n",
              "\n",
              "  @keyframes spin {\n",
              "    0% {\n",
              "      border-color: transparent;\n",
              "      border-bottom-color: var(--fill-color);\n",
              "      border-left-color: var(--fill-color);\n",
              "    }\n",
              "    20% {\n",
              "      border-color: transparent;\n",
              "      border-left-color: var(--fill-color);\n",
              "      border-top-color: var(--fill-color);\n",
              "    }\n",
              "    30% {\n",
              "      border-color: transparent;\n",
              "      border-left-color: var(--fill-color);\n",
              "      border-top-color: var(--fill-color);\n",
              "      border-right-color: var(--fill-color);\n",
              "    }\n",
              "    40% {\n",
              "      border-color: transparent;\n",
              "      border-right-color: var(--fill-color);\n",
              "      border-top-color: var(--fill-color);\n",
              "    }\n",
              "    60% {\n",
              "      border-color: transparent;\n",
              "      border-right-color: var(--fill-color);\n",
              "    }\n",
              "    80% {\n",
              "      border-color: transparent;\n",
              "      border-right-color: var(--fill-color);\n",
              "      border-bottom-color: var(--fill-color);\n",
              "    }\n",
              "    90% {\n",
              "      border-color: transparent;\n",
              "      border-bottom-color: var(--fill-color);\n",
              "    }\n",
              "  }\n",
              "</style>\n",
              "\n",
              "  <script>\n",
              "    async function quickchart(key) {\n",
              "      const quickchartButtonEl =\n",
              "        document.querySelector('#' + key + ' button');\n",
              "      quickchartButtonEl.disabled = true;  // To prevent multiple clicks.\n",
              "      quickchartButtonEl.classList.add('colab-df-spinner');\n",
              "      try {\n",
              "        const charts = await google.colab.kernel.invokeFunction(\n",
              "            'suggestCharts', [key], {});\n",
              "      } catch (error) {\n",
              "        console.error('Error during call to suggestCharts:', error);\n",
              "      }\n",
              "      quickchartButtonEl.classList.remove('colab-df-spinner');\n",
              "      quickchartButtonEl.classList.add('colab-df-quickchart-complete');\n",
              "    }\n",
              "    (() => {\n",
              "      let quickchartButtonEl =\n",
              "        document.querySelector('#df-b244f79f-bc4a-4982-8388-05c4a411895f button');\n",
              "      quickchartButtonEl.style.display =\n",
              "        google.colab.kernel.accessAllowed ? 'block' : 'none';\n",
              "    })();\n",
              "  </script>\n",
              "</div>\n",
              "\n",
              "  <div id=\"id_fb08e799-2346-4744-bd0a-5c9147f34635\">\n",
              "    <style>\n",
              "      .colab-df-generate {\n",
              "        background-color: #E8F0FE;\n",
              "        border: none;\n",
              "        border-radius: 50%;\n",
              "        cursor: pointer;\n",
              "        display: none;\n",
              "        fill: #1967D2;\n",
              "        height: 32px;\n",
              "        padding: 0 0 0 0;\n",
              "        width: 32px;\n",
              "      }\n",
              "\n",
              "      .colab-df-generate:hover {\n",
              "        background-color: #E2EBFA;\n",
              "        box-shadow: 0px 1px 2px rgba(60, 64, 67, 0.3), 0px 1px 3px 1px rgba(60, 64, 67, 0.15);\n",
              "        fill: #174EA6;\n",
              "      }\n",
              "\n",
              "      [theme=dark] .colab-df-generate {\n",
              "        background-color: #3B4455;\n",
              "        fill: #D2E3FC;\n",
              "      }\n",
              "\n",
              "      [theme=dark] .colab-df-generate:hover {\n",
              "        background-color: #434B5C;\n",
              "        box-shadow: 0px 1px 3px 1px rgba(0, 0, 0, 0.15);\n",
              "        filter: drop-shadow(0px 1px 2px rgba(0, 0, 0, 0.3));\n",
              "        fill: #FFFFFF;\n",
              "      }\n",
              "    </style>\n",
              "    <button class=\"colab-df-generate\" onclick=\"generateWithVariable('results_df')\"\n",
              "            title=\"Generate code using this dataframe.\"\n",
              "            style=\"display:none;\">\n",
              "\n",
              "  <svg xmlns=\"http://www.w3.org/2000/svg\" height=\"24px\"viewBox=\"0 0 24 24\"\n",
              "       width=\"24px\">\n",
              "    <path d=\"M7,19H8.4L18.45,9,17,7.55,7,17.6ZM5,21V16.75L18.45,3.32a2,2,0,0,1,2.83,0l1.4,1.43a1.91,1.91,0,0,1,.58,1.4,1.91,1.91,0,0,1-.58,1.4L9.25,21ZM18.45,9,17,7.55Zm-12,3A5.31,5.31,0,0,0,4.9,8.1,5.31,5.31,0,0,0,1,6.5,5.31,5.31,0,0,0,4.9,4.9,5.31,5.31,0,0,0,6.5,1,5.31,5.31,0,0,0,8.1,4.9,5.31,5.31,0,0,0,12,6.5,5.46,5.46,0,0,0,6.5,12Z\"/>\n",
              "  </svg>\n",
              "    </button>\n",
              "    <script>\n",
              "      (() => {\n",
              "      const buttonEl =\n",
              "        document.querySelector('#id_fb08e799-2346-4744-bd0a-5c9147f34635 button.colab-df-generate');\n",
              "      buttonEl.style.display =\n",
              "        google.colab.kernel.accessAllowed ? 'block' : 'none';\n",
              "\n",
              "      buttonEl.onclick = () => {\n",
              "        google.colab.notebook.generateWithVariable('results_df');\n",
              "      }\n",
              "      })();\n",
              "    </script>\n",
              "  </div>\n",
              "\n",
              "    </div>\n",
              "  </div>\n"
            ],
            "application/vnd.google.colaboratory.intrinsic+json": {
              "type": "dataframe",
              "variable_name": "results_df",
              "summary": "{\n  \"name\": \"results_df\",\n  \"rows\": 7,\n  \"fields\": [\n    {\n      \"column\": \"Kernel\",\n      \"properties\": {\n        \"dtype\": \"category\",\n        \"num_unique_values\": 1,\n        \"samples\": [\n          \"RBF\"\n        ],\n        \"semantic_type\": \"\",\n        \"description\": \"\"\n      }\n    },\n    {\n      \"column\": \"C\",\n      \"properties\": {\n        \"dtype\": \"number\",\n        \"std\": 0.037993815286175195,\n        \"min\": 0.0001,\n        \"max\": 0.1,\n        \"num_unique_values\": 7,\n        \"samples\": [\n          0.0001\n        ],\n        \"semantic_type\": \"\",\n        \"description\": \"\"\n      }\n    },\n    {\n      \"column\": \"Train Accuracy\",\n      \"properties\": {\n        \"dtype\": \"number\",\n        \"std\": 0.0,\n        \"min\": 0.10566666666666667,\n        \"max\": 0.10566666666666667,\n        \"num_unique_values\": 1,\n        \"samples\": [\n          0.10566666666666667\n        ],\n        \"semantic_type\": \"\",\n        \"description\": \"\"\n      }\n    },\n    {\n      \"column\": \"Validation Accuracy\",\n      \"properties\": {\n        \"dtype\": \"number\",\n        \"std\": 0.0,\n        \"min\": 0.106,\n        \"max\": 0.106,\n        \"num_unique_values\": 1,\n        \"samples\": [\n          0.106\n        ],\n        \"semantic_type\": \"\",\n        \"description\": \"\"\n      }\n    },\n    {\n      \"column\": \"Test Accuracy\",\n      \"properties\": {\n        \"dtype\": \"number\",\n        \"std\": 1.4989724041661926e-17,\n        \"min\": 0.089,\n        \"max\": 0.089,\n        \"num_unique_values\": 1,\n        \"samples\": [\n          0.089\n        ],\n        \"semantic_type\": \"\",\n        \"description\": \"\"\n      }\n    },\n    {\n      \"column\": \"Run time: \",\n      \"properties\": {\n        \"dtype\": \"number\",\n        \"std\": 0.5205776282580986,\n        \"min\": 29.37965703010559,\n        \"max\": 30.849233388900757,\n        \"num_unique_values\": 7,\n        \"samples\": [\n          29.55632734298706\n        ],\n        \"semantic_type\": \"\",\n        \"description\": \"\"\n      }\n    }\n  ]\n}"
            }
          },
          "metadata": {},
          "execution_count": 15
        }
      ],
      "source": [
        "# Create a dataframe with the results\n",
        "results_df = pd.DataFrame(results)\n",
        "results_df"
      ]
    },
    {
      "cell_type": "markdown",
      "metadata": {
        "id": "jNbrwjrljj1X"
      },
      "source": [
        "Polynomial Kernel"
      ]
    },
    {
      "cell_type": "code",
      "execution_count": 16,
      "metadata": {
        "id": "I8BcHhm3jijN"
      },
      "outputs": [],
      "source": [
        "# Prepare variables to store the results\n",
        "train_set_accuracy = []\n",
        "val_set_caccuracy = []\n",
        "test_set_accuracy = []\n",
        "results = []\n",
        "\n",
        "def poly_model_SVM (C):\n",
        "      start_time = time.time()\n",
        "      svm_classifier = SVC(probability= False, kernel='poly', C=c)\n",
        "\n",
        "      svm_classifier.fit(X_train, y_train.ravel())\n",
        "\n",
        "      # Accuracy for train set\n",
        "      pred = svm_classifier.predict(X_train)\n",
        "      acc_train = np.mean(pred == y_train.ravel())\n",
        "      train_set_accuracy.append(acc_train)\n",
        "      print(\"Train Accuracy for C = {}: {}\".format(c, acc_train))\n",
        "\n",
        "      # Accuracy for validation set\n",
        "      pred = svm_classifier.predict(X_val)\n",
        "      acc_val = np.mean(pred == y_val.ravel())\n",
        "      val_set_caccuracy.append(acc_val)\n",
        "      print(\"Validation Accuracy for C = {}: {}\".format(c, acc_val))\n",
        "\n",
        "      # Accuracy for test set\n",
        "      pred = svm_classifier.predict(X_test)\n",
        "      acc_test = np.mean(pred == y_test.ravel())\n",
        "      test_set_accuracy.append(acc_test)\n",
        "      print(\"Test Accuracy for C = {}: {}\".format(c, acc_test))\n",
        "\n",
        "      # Run time\n",
        "      end_time = time.time()\n",
        "      run_time = end_time - start_time\n",
        "\n",
        "      results.append({\n",
        "              'Kernel': 'Polynomial',\n",
        "              'C': c,\n",
        "              'Train Accuracy': acc_train,\n",
        "              'Validation Accuracy': acc_val,\n",
        "              'Test Accuracy': acc_test\n",
        "                  })"
      ]
    },
    {
      "cell_type": "code",
      "execution_count": 17,
      "metadata": {
        "colab": {
          "base_uri": "https://localhost:8080/",
          "height": 837
        },
        "id": "wY753vjfy-o9",
        "outputId": "dd2e2527-d471-437b-87f4-e98374454e55"
      },
      "outputs": [
        {
          "output_type": "stream",
          "name": "stdout",
          "text": [
            "Train Accuracy for C = 0.0001: 0.10566666666666667\n",
            "Validation Accuracy for C = 0.0001: 0.106\n",
            "Test Accuracy for C = 0.0001: 0.089\n",
            "Train Accuracy for C = 0.0005: 0.10566666666666667\n",
            "Validation Accuracy for C = 0.0005: 0.106\n",
            "Test Accuracy for C = 0.0005: 0.089\n",
            "Train Accuracy for C = 0.001: 0.10633333333333334\n",
            "Validation Accuracy for C = 0.001: 0.1075\n",
            "Test Accuracy for C = 0.001: 0.09\n",
            "Train Accuracy for C = 0.005: 0.12383333333333334\n",
            "Validation Accuracy for C = 0.005: 0.1145\n",
            "Test Accuracy for C = 0.005: 0.1235\n",
            "Train Accuracy for C = 0.01: 0.1425\n",
            "Validation Accuracy for C = 0.01: 0.129\n",
            "Test Accuracy for C = 0.01: 0.1355\n",
            "Train Accuracy for C = 0.05: 0.23633333333333334\n",
            "Validation Accuracy for C = 0.05: 0.193\n",
            "Test Accuracy for C = 0.05: 0.197\n",
            "Train Accuracy for C = 0.1: 0.324\n",
            "Validation Accuracy for C = 0.1: 0.2535\n",
            "Test Accuracy for C = 0.1: 0.238\n"
          ]
        },
        {
          "output_type": "display_data",
          "data": {
            "text/plain": [
              "<Figure size 640x480 with 1 Axes>"
            ],
            "image/png": "[encoded data removed]"
          },
          "metadata": {}
        }
      ],
      "source": [
        "C_values = [0.0001, 0.0005, 0.001, 0.005, 0.01, 0.05, 0.1]\n",
        "\n",
        "train_set_accuracy = []\n",
        "val_set_caccuracy = []\n",
        "test_set_accuracy = []\n",
        "results = []\n",
        "for c in C_values:\n",
        "  poly_model_SVM(c)\n",
        "\n",
        "# Print the results\n",
        "plt.plot(C_values, train_set_accuracy,'.-',color='red')\n",
        "plt.plot(C_values, test_set_accuracy,'.-',color='blue')\n",
        "plt.plot(C_values, val_set_caccuracy,'.-',color='green')\n",
        "plt.legend(['Train Accuracy', 'Test Accuracy', 'Validation Accuracy'])\n",
        "plt.title(\"Plot of accuracy vs c for training - validation data - test data\")\n",
        "plt.xlabel('c')\n",
        "plt.ylabel('Accuracy')\n",
        "plt.grid()"
      ]
    },
    {
      "cell_type": "code",
      "execution_count": 18,
      "metadata": {
        "colab": {
          "base_uri": "https://localhost:8080/",
          "height": 269
        },
        "id": "jCP26-CTHbcu",
        "outputId": "c8ef29d8-b0e0-4a1c-f63e-ad1cb8af5213"
      },
      "outputs": [
        {
          "output_type": "execute_result",
          "data": {
            "text/plain": [
              "       Kernel       C  Train Accuracy  Validation Accuracy  Test Accuracy\n",
              "0  Polynomial  0.0001        0.105667               0.1060         0.0890\n",
              "1  Polynomial  0.0005        0.105667               0.1060         0.0890\n",
              "2  Polynomial  0.0010        0.106333               0.1075         0.0900\n",
              "3  Polynomial  0.0050        0.123833               0.1145         0.1235\n",
              "4  Polynomial  0.0100        0.142500               0.1290         0.1355\n",
              "5  Polynomial  0.0500        0.236333               0.1930         0.1970\n",
              "6  Polynomial  0.1000        0.324000               0.2535         0.2380"
            ],
            "text/html": [
              "\n",
              "  <div id=\"df-1ad3d46e-64ef-4e84-bb77-d00b54bf4e9d\" class=\"colab-df-container\">\n",
              "    <div>\n",
              "<style scoped>\n",
              "    .dataframe tbody tr th:only-of-type {\n",
              "        vertical-align: middle;\n",
              "    }\n",
              "\n",
              "    .dataframe tbody tr th {\n",
              "        vertical-align: top;\n",
              "    }\n",
              "\n",
              "    .dataframe thead th {\n",
              "        text-align: right;\n",
              "    }\n",
              "</style>\n",
              "<table border=\"1\" class=\"dataframe\">\n",
              "  <thead>\n",
              "    <tr style=\"text-align: right;\">\n",
              "      <th></th>\n",
              "      <th>Kernel</th>\n",
              "      <th>C</th>\n",
              "      <th>Train Accuracy</th>\n",
              "      <th>Validation Accuracy</th>\n",
              "      <th>Test Accuracy</th>\n",
              "    </tr>\n",
              "  </thead>\n",
              "  <tbody>\n",
              "    <tr>\n",
              "      <th>0</th>\n",
              "      <td>Polynomial</td>\n",
              "      <td>0.0001</td>\n",
              "      <td>0.105667</td>\n",
              "      <td>0.1060</td>\n",
              "      <td>0.0890</td>\n",
              "    </tr>\n",
              "    <tr>\n",
              "      <th>1</th>\n",
              "      <td>Polynomial</td>\n",
              "      <td>0.0005</td>\n",
              "      <td>0.105667</td>\n",
              "      <td>0.1060</td>\n",
              "      <td>0.0890</td>\n",
              "    </tr>\n",
              "    <tr>\n",
              "      <th>2</th>\n",
              "      <td>Polynomial</td>\n",
              "      <td>0.0010</td>\n",
              "      <td>0.106333</td>\n",
              "      <td>0.1075</td>\n",
              "      <td>0.0900</td>\n",
              "    </tr>\n",
              "    <tr>\n",
              "      <th>3</th>\n",
              "      <td>Polynomial</td>\n",
              "      <td>0.0050</td>\n",
              "      <td>0.123833</td>\n",
              "      <td>0.1145</td>\n",
              "      <td>0.1235</td>\n",
              "    </tr>\n",
              "    <tr>\n",
              "      <th>4</th>\n",
              "      <td>Polynomial</td>\n",
              "      <td>0.0100</td>\n",
              "      <td>0.142500</td>\n",
              "      <td>0.1290</td>\n",
              "      <td>0.1355</td>\n",
              "    </tr>\n",
              "    <tr>\n",
              "      <th>5</th>\n",
              "      <td>Polynomial</td>\n",
              "      <td>0.0500</td>\n",
              "      <td>0.236333</td>\n",
              "      <td>0.1930</td>\n",
              "      <td>0.1970</td>\n",
              "    </tr>\n",
              "    <tr>\n",
              "      <th>6</th>\n",
              "      <td>Polynomial</td>\n",
              "      <td>0.1000</td>\n",
              "      <td>0.324000</td>\n",
              "      <td>0.2535</td>\n",
              "      <td>0.2380</td>\n",
              "    </tr>\n",
              "  </tbody>\n",
              "</table>\n",
              "</div>\n",
              "    <div class=\"colab-df-buttons\">\n",
              "\n",
              "  <div class=\"colab-df-container\">\n",
              "    <button class=\"colab-df-convert\" onclick=\"convertToInteractive('df-1ad3d46e-64ef-4e84-bb77-d00b54bf4e9d')\"\n",
              "            title=\"Convert this dataframe to an interactive table.\"\n",
              "            style=\"display:none;\">\n",
              "\n",
              "  <svg xmlns=\"http://www.w3.org/2000/svg\" height=\"24px\" viewBox=\"0 -960 960 960\">\n",
              "    <path d=\"M120-120v-720h720v720H120Zm60-500h600v-160H180v160Zm220 220h160v-160H400v160Zm0 220h160v-160H400v160ZM180-400h160v-160H180v160Zm440 0h160v-160H620v160ZM180-180h160v-160H180v160Zm440 0h160v-160H620v160Z\"/>\n",
              "  </svg>\n",
              "    </button>\n",
              "\n",
              "  <style>\n",
              "    .colab-df-container {\n",
              "      display:flex;\n",
              "      gap: 12px;\n",
              "    }\n",
              "\n",
              "    .colab-df-convert {\n",
              "      background-color: #E8F0FE;\n",
              "      border: none;\n",
              "      border-radius: 50%;\n",
              "      cursor: pointer;\n",
              "      display: none;\n",
              "      fill: #1967D2;\n",
              "      height: 32px;\n",
              "      padding: 0 0 0 0;\n",
              "      width: 32px;\n",
              "    }\n",
              "\n",
              "    .colab-df-convert:hover {\n",
              "      background-color: #E2EBFA;\n",
              "      box-shadow: 0px 1px 2px rgba(60, 64, 67, 0.3), 0px 1px 3px 1px rgba(60, 64, 67, 0.15);\n",
              "      fill: #174EA6;\n",
              "    }\n",
              "\n",
              "    .colab-df-buttons div {\n",
              "      margin-bottom: 4px;\n",
              "    }\n",
              "\n",
              "    [theme=dark] .colab-df-convert {\n",
              "      background-color: #3B4455;\n",
              "      fill: #D2E3FC;\n",
              "    }\n",
              "\n",
              "    [theme=dark] .colab-df-convert:hover {\n",
              "      background-color: #434B5C;\n",
              "      box-shadow: 0px 1px 3px 1px rgba(0, 0, 0, 0.15);\n",
              "      filter: drop-shadow(0px 1px 2px rgba(0, 0, 0, 0.3));\n",
              "      fill: #FFFFFF;\n",
              "    }\n",
              "  </style>\n",
              "\n",
              "    <script>\n",
              "      const buttonEl =\n",
              "        document.querySelector('#df-1ad3d46e-64ef-4e84-bb77-d00b54bf4e9d button.colab-df-convert');\n",
              "      buttonEl.style.display =\n",
              "        google.colab.kernel.accessAllowed ? 'block' : 'none';\n",
              "\n",
              "      async function convertToInteractive(key) {\n",
              "        const element = document.querySelector('#df-1ad3d46e-64ef-4e84-bb77-d00b54bf4e9d');\n",
              "        const dataTable =\n",
              "          await google.colab.kernel.invokeFunction('convertToInteractive',\n",
              "                                                    [key], {});\n",
              "        if (!dataTable) return;\n",
              "\n",
              "        const docLinkHtml = 'Like what you see? Visit the ' +\n",
              "          '<a target=\"_blank\" href=https://colab.research.google.com/notebooks/data_table.ipynb>data table notebook</a>'\n",
              "          + ' to learn more about interactive tables.';\n",
              "        element.innerHTML = '';\n",
              "        dataTable['output_type'] = 'display_data';\n",
              "        await google.colab.output.renderOutput(dataTable, element);\n",
              "        const docLink = document.createElement('div');\n",
              "        docLink.innerHTML = docLinkHtml;\n",
              "        element.appendChild(docLink);\n",
              "      }\n",
              "    </script>\n",
              "  </div>\n",
              "\n",
              "\n",
              "<div id=\"df-415f7d6e-e596-4b78-9e91-630b6e0f0b67\">\n",
              "  <button class=\"colab-df-quickchart\" onclick=\"quickchart('df-415f7d6e-e596-4b78-9e91-630b6e0f0b67')\"\n",
              "            title=\"Suggest charts\"\n",
              "            style=\"display:none;\">\n",
              "\n",
              "<svg xmlns=\"http://www.w3.org/2000/svg\" height=\"24px\"viewBox=\"0 0 24 24\"\n",
              "     width=\"24px\">\n",
              "    <g>\n",
              "        <path d=\"M19 3H5c-1.1 0-2 .9-2 2v14c0 1.1.9 2 2 2h14c1.1 0 2-.9 2-2V5c0-1.1-.9-2-2-2zM9 17H7v-7h2v7zm4 0h-2V7h2v10zm4 0h-2v-4h2v4z\"/>\n",
              "    </g>\n",
              "</svg>\n",
              "  </button>\n",
              "\n",
              "<style>\n",
              "  .colab-df-quickchart {\n",
              "      --bg-color: #E8F0FE;\n",
              "      --fill-color: #1967D2;\n",
              "      --hover-bg-color: #E2EBFA;\n",
              "      --hover-fill-color: #174EA6;\n",
              "      --disabled-fill-color: #AAA;\n",
              "      --disabled-bg-color: #DDD;\n",
              "  }\n",
              "\n",
              "  [theme=dark] .colab-df-quickchart {\n",
              "      --bg-color: #3B4455;\n",
              "      --fill-color: #D2E3FC;\n",
              "      --hover-bg-color: #434B5C;\n",
              "      --hover-fill-color: #FFFFFF;\n",
              "      --disabled-bg-color: #3B4455;\n",
              "      --disabled-fill-color: #666;\n",
              "  }\n",
              "\n",
              "  .colab-df-quickchart {\n",
              "    background-color: var(--bg-color);\n",
              "    border: none;\n",
              "    border-radius: 50%;\n",
              "    cursor: pointer;\n",
              "    display: none;\n",
              "    fill: var(--fill-color);\n",
              "    height: 32px;\n",
              "    padding: 0;\n",
              "    width: 32px;\n",
              "  }\n",
              "\n",
              "  .colab-df-quickchart:hover {\n",
              "    background-color: var(--hover-bg-color);\n",
              "    box-shadow: 0 1px 2px rgba(60, 64, 67, 0.3), 0 1px 3px 1px rgba(60, 64, 67, 0.15);\n",
              "    fill: var(--button-hover-fill-color);\n",
              "  }\n",
              "\n",
              "  .colab-df-quickchart-complete:disabled,\n",
              "  .colab-df-quickchart-complete:disabled:hover {\n",
              "    background-color: var(--disabled-bg-color);\n",
              "    fill: var(--disabled-fill-color);\n",
              "    box-shadow: none;\n",
              "  }\n",
              "\n",
              "  .colab-df-spinner {\n",
              "    border: 2px solid var(--fill-color);\n",
              "    border-color: transparent;\n",
              "    border-bottom-color: var(--fill-color);\n",
              "    animation:\n",
              "      spin 1s steps(1) infinite;\n",
              "  }\n",
              "\n",
              "  @keyframes spin {\n",
              "    0% {\n",
              "      border-color: transparent;\n",
              "      border-bottom-color: var(--fill-color);\n",
              "      border-left-color: var(--fill-color);\n",
              "    }\n",
              "    20% {\n",
              "      border-color: transparent;\n",
              "      border-left-color: var(--fill-color);\n",
              "      border-top-color: var(--fill-color);\n",
              "    }\n",
              "    30% {\n",
              "      border-color: transparent;\n",
              "      border-left-color: var(--fill-color);\n",
              "      border-top-color: var(--fill-color);\n",
              "      border-right-color: var(--fill-color);\n",
              "    }\n",
              "    40% {\n",
              "      border-color: transparent;\n",
              "      border-right-color: var(--fill-color);\n",
              "      border-top-color: var(--fill-color);\n",
              "    }\n",
              "    60% {\n",
              "      border-color: transparent;\n",
              "      border-right-color: var(--fill-color);\n",
              "    }\n",
              "    80% {\n",
              "      border-color: transparent;\n",
              "      border-right-color: var(--fill-color);\n",
              "      border-bottom-color: var(--fill-color);\n",
              "    }\n",
              "    90% {\n",
              "      border-color: transparent;\n",
              "      border-bottom-color: var(--fill-color);\n",
              "    }\n",
              "  }\n",
              "</style>\n",
              "\n",
              "  <script>\n",
              "    async function quickchart(key) {\n",
              "      const quickchartButtonEl =\n",
              "        document.querySelector('#' + key + ' button');\n",
              "      quickchartButtonEl.disabled = true;  // To prevent multiple clicks.\n",
              "      quickchartButtonEl.classList.add('colab-df-spinner');\n",
              "      try {\n",
              "        const charts = await google.colab.kernel.invokeFunction(\n",
              "            'suggestCharts', [key], {});\n",
              "      } catch (error) {\n",
              "        console.error('Error during call to suggestCharts:', error);\n",
              "      }\n",
              "      quickchartButtonEl.classList.remove('colab-df-spinner');\n",
              "      quickchartButtonEl.classList.add('colab-df-quickchart-complete');\n",
              "    }\n",
              "    (() => {\n",
              "      let quickchartButtonEl =\n",
              "        document.querySelector('#df-415f7d6e-e596-4b78-9e91-630b6e0f0b67 button');\n",
              "      quickchartButtonEl.style.display =\n",
              "        google.colab.kernel.accessAllowed ? 'block' : 'none';\n",
              "    })();\n",
              "  </script>\n",
              "</div>\n",
              "\n",
              "  <div id=\"id_448916de-5ae0-443e-a835-6d875370eab5\">\n",
              "    <style>\n",
              "      .colab-df-generate {\n",
              "        background-color: #E8F0FE;\n",
              "        border: none;\n",
              "        border-radius: 50%;\n",
              "        cursor: pointer;\n",
              "        display: none;\n",
              "        fill: #1967D2;\n",
              "        height: 32px;\n",
              "        padding: 0 0 0 0;\n",
              "        width: 32px;\n",
              "      }\n",
              "\n",
              "      .colab-df-generate:hover {\n",
              "        background-color: #E2EBFA;\n",
              "        box-shadow: 0px 1px 2px rgba(60, 64, 67, 0.3), 0px 1px 3px 1px rgba(60, 64, 67, 0.15);\n",
              "        fill: #174EA6;\n",
              "      }\n",
              "\n",
              "      [theme=dark] .colab-df-generate {\n",
              "        background-color: #3B4455;\n",
              "        fill: #D2E3FC;\n",
              "      }\n",
              "\n",
              "      [theme=dark] .colab-df-generate:hover {\n",
              "        background-color: #434B5C;\n",
              "        box-shadow: 0px 1px 3px 1px rgba(0, 0, 0, 0.15);\n",
              "        filter: drop-shadow(0px 1px 2px rgba(0, 0, 0, 0.3));\n",
              "        fill: #FFFFFF;\n",
              "      }\n",
              "    </style>\n",
              "    <button class=\"colab-df-generate\" onclick=\"generateWithVariable('results_df')\"\n",
              "            title=\"Generate code using this dataframe.\"\n",
              "            style=\"display:none;\">\n",
              "\n",
              "  <svg xmlns=\"http://www.w3.org/2000/svg\" height=\"24px\"viewBox=\"0 0 24 24\"\n",
              "       width=\"24px\">\n",
              "    <path d=\"M7,19H8.4L18.45,9,17,7.55,7,17.6ZM5,21V16.75L18.45,3.32a2,2,0,0,1,2.83,0l1.4,1.43a1.91,1.91,0,0,1,.58,1.4,1.91,1.91,0,0,1-.58,1.4L9.25,21ZM18.45,9,17,7.55Zm-12,3A5.31,5.31,0,0,0,4.9,8.1,5.31,5.31,0,0,0,1,6.5,5.31,5.31,0,0,0,4.9,4.9,5.31,5.31,0,0,0,6.5,1,5.31,5.31,0,0,0,8.1,4.9,5.31,5.31,0,0,0,12,6.5,5.46,5.46,0,0,0,6.5,12Z\"/>\n",
              "  </svg>\n",
              "    </button>\n",
              "    <script>\n",
              "      (() => {\n",
              "      const buttonEl =\n",
              "        document.querySelector('#id_448916de-5ae0-443e-a835-6d875370eab5 button.colab-df-generate');\n",
              "      buttonEl.style.display =\n",
              "        google.colab.kernel.accessAllowed ? 'block' : 'none';\n",
              "\n",
              "      buttonEl.onclick = () => {\n",
              "        google.colab.notebook.generateWithVariable('results_df');\n",
              "      }\n",
              "      })();\n",
              "    </script>\n",
              "  </div>\n",
              "\n",
              "    </div>\n",
              "  </div>\n"
            ],
            "application/vnd.google.colaboratory.intrinsic+json": {
              "type": "dataframe",
              "variable_name": "results_df",
              "summary": "{\n  \"name\": \"results_df\",\n  \"rows\": 7,\n  \"fields\": [\n    {\n      \"column\": \"Kernel\",\n      \"properties\": {\n        \"dtype\": \"category\",\n        \"num_unique_values\": 1,\n        \"samples\": [\n          \"Polynomial\"\n        ],\n        \"semantic_type\": \"\",\n        \"description\": \"\"\n      }\n    },\n    {\n      \"column\": \"C\",\n      \"properties\": {\n        \"dtype\": \"number\",\n        \"std\": 0.037993815286175195,\n        \"min\": 0.0001,\n        \"max\": 0.1,\n        \"num_unique_values\": 7,\n        \"samples\": [\n          0.0001\n        ],\n        \"semantic_type\": \"\",\n        \"description\": \"\"\n      }\n    },\n    {\n      \"column\": \"Train Accuracy\",\n      \"properties\": {\n        \"dtype\": \"number\",\n        \"std\": 0.08469238610731349,\n        \"min\": 0.10566666666666667,\n        \"max\": 0.324,\n        \"num_unique_values\": 6,\n        \"samples\": [\n          0.10566666666666667\n        ],\n        \"semantic_type\": \"\",\n        \"description\": \"\"\n      }\n    },\n    {\n      \"column\": \"Validation Accuracy\",\n      \"properties\": {\n        \"dtype\": \"number\",\n        \"std\": 0.05730972659073469,\n        \"min\": 0.106,\n        \"max\": 0.2535,\n        \"num_unique_values\": 6,\n        \"samples\": [\n          0.106\n        ],\n        \"semantic_type\": \"\",\n        \"description\": \"\"\n      }\n    },\n    {\n      \"column\": \"Test Accuracy\",\n      \"properties\": {\n        \"dtype\": \"number\",\n        \"std\": 0.05888012438522059,\n        \"min\": 0.089,\n        \"max\": 0.238,\n        \"num_unique_values\": 6,\n        \"samples\": [\n          0.089\n        ],\n        \"semantic_type\": \"\",\n        \"description\": \"\"\n      }\n    }\n  ]\n}"
            }
          },
          "metadata": {},
          "execution_count": 18
        }
      ],
      "source": [
        "# Create a dataframe with the results\n",
        "results_df = pd.DataFrame(results)\n",
        "results_df"
      ]
    },
    {
      "cell_type": "markdown",
      "metadata": {
        "id": "_Q8qlc-EtVR4"
      },
      "source": [
        "Classifier 2: Grid Search - Cross Validation"
      ]
    },
    {
      "cell_type": "code",
      "execution_count": 19,
      "metadata": {
        "id": "7EOO3qwctix7",
        "colab": {
          "base_uri": "https://localhost:8080/"
        },
        "outputId": "153c9ce0-6083-40d2-e160-e1796f9bba7f"
      },
      "outputs": [
        {
          "output_type": "stream",
          "name": "stdout",
          "text": [
            "Best Parameters: {'C': 0.0005, 'gamma': 'scale', 'kernel': 'linear'}\n"
          ]
        }
      ],
      "source": [
        "# defining parameter range\n",
        "param_grid = {'C': [0.0001, 0.0005, 0.001, 0.005, 0.01, 0.05, 0.1],\n",
        "              'gamma': ['scale', 'auto'],\n",
        "              'kernel': ['linear', 'rbf', 'poly']}\n",
        "# svm classifier\n",
        "svm_classifier2 = SVC()\n",
        "\n",
        "# grid search\n",
        "grid_search = GridSearchCV(svm_classifier2, param_grid, cv=5, n_jobs=-1)  # cv=5 για 5-fold cross-validation\n",
        "\n",
        "# train grid_search\n",
        "grid_search.fit(X_train, y_train.ravel())\n",
        "\n",
        "# find best parameters of grid search\n",
        "best_params = grid_search.best_params_\n",
        "print(\"Best Parameters:\", best_params)"
      ]
    },
    {
      "cell_type": "code",
      "execution_count": 20,
      "metadata": {
        "colab": {
          "base_uri": "https://localhost:8080/"
        },
        "id": "Cxv1_TJqcqb-",
        "outputId": "b8b0d7c5-b287-4379-916f-ce45bca9bf26"
      },
      "outputs": [
        {
          "output_type": "stream",
          "name": "stdout",
          "text": [
            "Best Accuracy: 0.36466666666666664\n"
          ]
        }
      ],
      "source": [
        "acc = grid_search.best_score_\n",
        "print(\"Best Accuracy:\", acc)"
      ]
    },
    {
      "cell_type": "code",
      "execution_count": 21,
      "metadata": {
        "colab": {
          "base_uri": "https://localhost:8080/"
        },
        "id": "rRW2mgax_yy2",
        "outputId": "8b2135d6-dfa7-4089-b587-9d0dca5c4fb3"
      },
      "outputs": [
        {
          "output_type": "stream",
          "name": "stdout",
          "text": [
            "Train Set Accuracy: 0.4573333333333333\n",
            "Validation Set Accuracy: 0.4085\n",
            "Test Set Accuracy: 0.379\n"
          ]
        }
      ],
      "source": [
        "# Train set Accuracy\n",
        "y_train_pred = grid_search.predict(X_train)\n",
        "train_accuracy = accuracy_score(y_train.ravel(), y_train_pred)\n",
        "print(\"Train Set Accuracy:\", train_accuracy)\n",
        "\n",
        "# Validation set Accuracy\n",
        "y_val_pred = grid_search.predict(X_val)\n",
        "val_accuracy = accuracy_score(y_val.ravel(), y_val_pred)\n",
        "print(\"Validation Set Accuracy:\", val_accuracy)\n",
        "\n",
        "# Test set Accuracy\n",
        "y_test_pred = grid_search.predict(X_test)\n",
        "test_accuracy = accuracy_score(y_test.ravel(), y_test_pred)\n",
        "print(\"Test Set Accuracy:\", test_accuracy)\n"
      ]
    },
    {
      "cell_type": "code",
      "execution_count": 22,
      "metadata": {
        "id": "gWXDGDKF_HQe",
        "colab": {
          "base_uri": "https://localhost:8080/"
        },
        "outputId": "86345c4a-4e44-44e7-c1b4-b39a08dfd27a"
      },
      "outputs": [
        {
          "output_type": "stream",
          "name": "stdout",
          "text": [
            "    Prediction  Actual Value\n",
            "0            1             1\n",
            "1            2             2\n",
            "2            0             2\n",
            "3            2             3\n",
            "4            1             8\n",
            "5            9             6\n",
            "6            3             4\n",
            "7            6             1\n",
            "8            8             5\n",
            "9            4             1\n",
            "10           4             4\n",
            "11           1             5\n",
            "12           3             8\n",
            "13           1             1\n",
            "14           3             0\n",
            "15           1             8\n",
            "16           7             7\n",
            "17           6             9\n",
            "18           3             5\n",
            "19           1             9\n"
          ]
        }
      ],
      "source": [
        "import pandas as pd\n",
        "\n",
        "pred = grid_search.predict(X_test)\n",
        "svm_results = pred[:20].ravel()\n",
        "yTest_results = y_test[:20].ravel()\n",
        "\n",
        "# DataFrame with predicted and actual values\n",
        "results_df = pd.DataFrame({\n",
        "    'Prediction': svm_results,\n",
        "    'Actual Value': yTest_results\n",
        "})\n",
        "\n",
        "# print the dataframe\n",
        "print(results_df)"
      ]
    },
    {
      "cell_type": "code",
      "execution_count": 23,
      "metadata": {
        "id": "ftJAqREKDFCK",
        "colab": {
          "base_uri": "https://localhost:8080/"
        },
        "outputId": "de5540a8-21cc-4383-cee5-ab2f0cdc88d4"
      },
      "outputs": [
        {
          "output_type": "stream",
          "name": "stdout",
          "text": [
            "Correct Predictions: [0, 1, 10, 13, 16]\n",
            "Incorrect Predictions: [2, 3, 4, 5, 6, 7, 8, 9, 11, 12, 14, 15, 17, 18, 19]\n"
          ]
        }
      ],
      "source": [
        "# Create lists for correct and incorrect predictions\n",
        "correct_predictions = []\n",
        "incorrect_predictions = []\n",
        "\n",
        "for i in range(len(svm_results)):\n",
        "    if svm_results[i] == yTest_results[i]:\n",
        "        correct_predictions.append(i)\n",
        "    else:\n",
        "        incorrect_predictions.append(i)\n",
        "\n",
        "print(\"Correct Predictions:\", correct_predictions)\n",
        "print(\"Incorrect Predictions:\", incorrect_predictions)"
      ]
    },
    {
      "cell_type": "code",
      "execution_count": 24,
      "metadata": {
        "id": "NMHhQ-p1DSQM"
      },
      "outputs": [],
      "source": [
        "# Data reconstruction\n",
        "X_test_reconstructed = pca_cifar.inverse_transform(X_test)\n",
        "\n",
        "X_test_reconstructed = np.clip(X_test_reconstructed, 0, 1)\n",
        "X_test_reconstructed = X_test_reconstructed.astype(np.float32)"
      ]
    },
    {
      "cell_type": "code",
      "execution_count": 25,
      "metadata": {
        "id": "rkfzUoLZDa4B",
        "colab": {
          "base_uri": "https://localhost:8080/",
          "height": 52
        },
        "outputId": "65cd3234-b719-44df-e56e-2ae0eba87abe"
      },
      "outputs": [
        {
          "output_type": "execute_result",
          "data": {
            "text/plain": [
              "<Figure size 1200x600 with 0 Axes>"
            ]
          },
          "metadata": {},
          "execution_count": 25
        },
        {
          "output_type": "display_data",
          "data": {
            "text/plain": [
              "<Figure size 1200x600 with 0 Axes>"
            ]
          },
          "metadata": {}
        }
      ],
      "source": [
        "import numpy as np\n",
        "import matplotlib.pyplot as plt\n",
        "\n",
        "# Class names\n",
        "classesName = ['airplane', 'automobile', 'bird', 'cat', 'deer', 'dog', 'frog', 'horse', 'ship', 'truck']\n",
        "\n",
        "# Image preparation\n",
        "def plt_img(x):\n",
        "    nrow = 32\n",
        "    ncol = 32\n",
        "    ncolors = 3\n",
        "    xsq = x.reshape((nrow, ncol, ncolors))\n",
        "    plt.imshow(xsq)\n",
        "\n",
        "# Number of images to plot (2 correct & 2 incorrect)\n",
        "nplt = 2\n",
        "\n",
        "# Plot correct predictions\n",
        "plt.figure(figsize=(12, 6))"
      ]
    },
    {
      "cell_type": "code",
      "execution_count": 26,
      "metadata": {
        "id": "Bxxt6BUhDUnY",
        "colab": {
          "base_uri": "https://localhost:8080/",
          "height": 363
        },
        "outputId": "88a19618-fc1a-4dc8-c0cd-b3a18625d72b"
      },
      "outputs": [
        {
          "output_type": "stream",
          "name": "stderr",
          "text": [
            "<ipython-input-26-a4b6111b0d69>:8: DeprecationWarning: Conversion of an array with ndim > 0 to a scalar is deprecated, and will error in future. Ensure you extract a single element from your array before performing this operation. (Deprecated NumPy 1.25.)\n",
            "  true_label = classesName[int(y_test[ind])]  # actual label\n"
          ]
        },
        {
          "output_type": "display_data",
          "data": {
            "text/plain": [
              "<Figure size 640x480 with 2 Axes>"
            ],
            "image/png": "[encoded data removed]"
          },
          "metadata": {}
        }
      ],
      "source": [
        "# Plot correct predictions\n",
        "for i in range(nplt):\n",
        "   plt.subplot(1, nplt, i + 1)\n",
        "   ind = correct_predictions[i]  # select the correct sample\n",
        "   plt_img(X_test_reconstructed[ind, :])  # use of reconstructed data for plotting\n",
        "\n",
        "   # Actual and Predicted label\n",
        "   true_label = classesName[int(y_test[ind])]  # actual label\n",
        "   est_label = classesName[int(pred[ind])]  # predicted label\n",
        "\n",
        "   # Τίτλος εικόνας\n",
        "   plt.title(f'True={true_label} Est={est_label}')"
      ]
    },
    {
      "cell_type": "code",
      "execution_count": 27,
      "metadata": {
        "id": "p_EEKYJ_DpVD",
        "colab": {
          "base_uri": "https://localhost:8080/",
          "height": 363
        },
        "outputId": "a83ebd98-3c77-4a1a-8856-4dcd4cc48cb1"
      },
      "outputs": [
        {
          "output_type": "stream",
          "name": "stderr",
          "text": [
            "<ipython-input-27-3872a8d3e326>:8: DeprecationWarning: Conversion of an array with ndim > 0 to a scalar is deprecated, and will error in future. Ensure you extract a single element from your array before performing this operation. (Deprecated NumPy 1.25.)\n",
            "  true_label = classesName[int(y_test[ind])]  # actual label\n"
          ]
        },
        {
          "output_type": "display_data",
          "data": {
            "text/plain": [
              "<Figure size 640x480 with 2 Axes>"
            ],
            "image/png": "[encoded data removed]"
          },
          "metadata": {}
        }
      ],
      "source": [
        "# Plot incorrect predictions\n",
        "for i in range(nplt):\n",
        "    plt.subplot(1, nplt, i + 1)\n",
        "    ind = incorrect_predictions[i] # select the incorrect sample\n",
        "    plt_img(X_test_reconstructed[ind, :]) # use of reconstructed data for plotting\n",
        "\n",
        "    # Actual and Predicted label\n",
        "    true_label = classesName[int(y_test[ind])]  # actual label\n",
        "    est_label = classesName[int(pred[ind])]  # predicted label\n",
        "\n",
        "    # Τίτλος εικόνας\n",
        "    plt.title(f'True={true_label} Est={est_label}')"
      ]
    }
  ],
  "metadata": {
    "colab": {
      "provenance": []
    },
    "kernelspec": {
      "display_name": "Python 3",
      "name": "python3"
    },
    "language_info": {
      "name": "python"
    }
  },
  "nbformat": 4,
  "nbformat_minor": 0
}